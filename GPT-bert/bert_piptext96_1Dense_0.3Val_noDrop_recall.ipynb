{
 "cells": [
  {
   "cell_type": "markdown",
   "id": "402a6407",
   "metadata": {},
   "source": [
    "# Training BERT given mydataset"
   ]
  },
  {
   "cell_type": "code",
   "execution_count": 1,
   "id": "6c0d5ca8",
   "metadata": {},
   "outputs": [],
   "source": [
    "import os\n",
    "import shutil\n",
    "\n",
    "import tensorflow as tf\n",
    "import tensorflow_hub as hub\n",
    "import tensorflow_text as text\n",
    "from official.nlp import optimization  # to create AdamW optimizer\n",
    "from keras.callbacks import ModelCheckpoint\n",
    "from keras.models import load_model\n",
    "\n",
    "import matplotlib.pyplot as plt\n",
    "\n",
    "tf.get_logger().setLevel('ERROR')"
   ]
  },
  {
   "cell_type": "code",
   "execution_count": 2,
   "id": "023be02d",
   "metadata": {},
   "outputs": [
    {
     "name": "stdout",
     "output_type": "stream",
     "text": [
      "Num GPUs Available:  1\n"
     ]
    }
   ],
   "source": [
    "print(\"Num GPUs Available: \", len(tf.config.list_physical_devices('GPU')))\n"
   ]
  },
  {
   "cell_type": "code",
   "execution_count": 3,
   "id": "9124e894",
   "metadata": {},
   "outputs": [
    {
     "name": "stdout",
     "output_type": "stream",
     "text": [
      "Found 1000 files belonging to 50 classes.\n",
      "Using 700 files for training.\n",
      "Found 1000 files belonging to 50 classes.\n",
      "Using 300 files for validation.\n"
     ]
    }
   ],
   "source": [
    "#creating dataset for BERT\n",
    "\n",
    "AUTOTUNE = tf.data.AUTOTUNE\n",
    "batch_size = 16\n",
    "seed = 32\n",
    "\n",
    "raw_train_ds = tf.keras.utils.text_dataset_from_directory(\n",
    "    'final_bert_dataset',\n",
    "    batch_size=batch_size,\n",
    "    validation_split=0.3,\n",
    "    subset='training',\n",
    "    shuffle=True,\n",
    "    label_mode='categorical',\n",
    "    seed=seed)\n",
    "train_ds = raw_train_ds.cache().prefetch(buffer_size=AUTOTUNE)\n",
    "\n",
    "val_ds = tf.keras.utils.text_dataset_from_directory(\n",
    "    'final_bert_dataset',\n",
    "    batch_size=batch_size,\n",
    "    validation_split=0.3,\n",
    "    subset='validation',\n",
    "    shuffle=True,\n",
    "    label_mode='categorical',\n",
    "    seed=seed)\n",
    "val_ds = val_ds.cache().prefetch(buffer_size=AUTOTUNE)\n",
    "\n",
    "class_names = raw_train_ds.class_names"
   ]
  },
  {
   "cell_type": "code",
   "execution_count": 4,
   "id": "b0f7485c",
   "metadata": {},
   "outputs": [],
   "source": [
    "#downloading preprocess model and Bert model\n",
    "\n",
    "tfhub_handle_encoder = 'https://tfhub.dev/tensorflow/bert_en_uncased_L-12_H-768_A-12/4'\n",
    "tfhub_handle_preprocess = 'https://tfhub.dev/tensorflow/bert_en_uncased_preprocess/3'\n",
    "\n",
    "bert_preprocess_model = hub.KerasLayer(tfhub_handle_preprocess)\n",
    "bert_model = hub.KerasLayer(tfhub_handle_encoder)"
   ]
  },
  {
   "cell_type": "code",
   "execution_count": 5,
   "id": "f11d04df",
   "metadata": {},
   "outputs": [
    {
     "name": "stdout",
     "output_type": "stream",
     "text": [
      "Keys       : ['input_mask', 'input_word_ids', 'input_type_ids']\n",
      "Shape      : (1, 128)\n",
      "Word Ids   : [ 101 2023 2003 2107 2019 6429 3185  999  102    0    0    0]\n",
      "Input Mask : [1 1 1 1 1 1 1 1 1 0 0 0]\n",
      "Type Ids   : [0 0 0 0 0 0 0 0 0 0 0 0]\n"
     ]
    }
   ],
   "source": [
    "#testing the preprocess model\n",
    "\n",
    "text_test = ['this is such an amazing movie!']\n",
    "text_preprocessed = bert_preprocess_model(text_test)\n",
    "\n",
    "print(f'Keys       : {list(text_preprocessed.keys())}')\n",
    "print(f'Shape      : {text_preprocessed[\"input_word_ids\"].shape}')\n",
    "print(f'Word Ids   : {text_preprocessed[\"input_word_ids\"][0, :12]}')\n",
    "print(f'Input Mask : {text_preprocessed[\"input_mask\"][0, :12]}')\n",
    "print(f'Type Ids   : {text_preprocessed[\"input_type_ids\"][0, :12]}')"
   ]
  },
  {
   "cell_type": "code",
   "execution_count": 6,
   "id": "2b2f0d60",
   "metadata": {},
   "outputs": [
    {
     "name": "stdout",
     "output_type": "stream",
     "text": [
      "Loaded BERT: https://tfhub.dev/tensorflow/bert_en_uncased_L-12_H-768_A-12/4\n",
      "----\n",
      "Pooled Outputs Shape:(1, 768)\n",
      "----\n",
      "Pooled Outputs Values:[-0.9216116  -0.39333072 -0.5387545   0.68229514  0.43816    -0.14001045\n",
      "  0.8773655   0.26032025 -0.6307239  -0.9999657  -0.26284206  0.85081995]\n",
      "----\n",
      "Sequence Outputs Shape:(1, 128, 768)\n",
      "----\n",
      "Sequence Outputs Values:[[ 0.19436876  0.2509688   0.19051474 ... -0.24828759  0.38553947\n",
      "   0.1329951 ]\n",
      " [-0.594566   -0.39402184  0.2527799  ... -0.76929235  1.155868\n",
      "   0.3248655 ]\n",
      " [ 0.00628068 -0.15767251  0.5466162  ... -0.17402229  0.6029077\n",
      "   0.426998  ]\n",
      " ...\n",
      " [ 0.2200106  -0.2089951   0.53832436 ...  0.2474025   0.182352\n",
      "  -0.4443757 ]\n",
      " [ 0.01104671 -0.44551998  0.35960633 ...  0.3172928   0.23566316\n",
      "  -0.6308622 ]\n",
      " [ 0.29332292 -0.10542406  0.6111842  ...  0.20748322  0.14445798\n",
      "  -0.35356426]]\n"
     ]
    }
   ],
   "source": [
    "#testing the BERT model\n",
    "\n",
    "bert_results = bert_model(text_preprocessed)\n",
    "\n",
    "print(f'Loaded BERT: {tfhub_handle_encoder}')\n",
    "print(\"----\")\n",
    "print(f'Pooled Outputs Shape:{bert_results[\"pooled_output\"].shape}')\n",
    "print(\"----\")\n",
    "print(f'Pooled Outputs Values:{bert_results[\"pooled_output\"][0, :12]}')\n",
    "print(\"----\")\n",
    "print(f'Sequence Outputs Shape:{bert_results[\"sequence_output\"].shape}')\n",
    "print(\"----\")\n",
    "print(f'Sequence Outputs Values:{bert_results[\"sequence_output\"][0, :12]}')"
   ]
  },
  {
   "cell_type": "code",
   "execution_count": 7,
   "id": "aca39c21",
   "metadata": {},
   "outputs": [],
   "source": [
    "#creating the classification model (including preprocess, bert encoder, classifier)\n",
    "\n",
    "def build_classifier_model():\n",
    "    text_input = tf.keras.layers.Input(shape=(), dtype=tf.string, name='text')\n",
    "    preprocessing_layer = hub.KerasLayer(tfhub_handle_preprocess, name='preprocessing')\n",
    "    encoder_inputs = preprocessing_layer(text_input)\n",
    "    encoder = hub.KerasLayer(tfhub_handle_encoder, trainable=True, name='BERT_encoder')\n",
    "    outputs = encoder(encoder_inputs)\n",
    "    net = outputs['pooled_output']\n",
    "    \n",
    "    \n",
    "    Dense2 = tf.keras.layers.Dense(96, activation='relu', name='dense2')(net)\n",
    "    \n",
    "    classifier = tf.keras.layers.Dense(50, activation='softmax', name='classifier')(Dense2)\n",
    "    \n",
    "    return tf.keras.Model(text_input, classifier)"
   ]
  },
  {
   "cell_type": "code",
   "execution_count": 8,
   "id": "84e24e9b",
   "metadata": {},
   "outputs": [
    {
     "name": "stdout",
     "output_type": "stream",
     "text": [
      "You must install pydot (`pip install pydot`) and install graphviz (see instructions at https://graphviz.gitlab.io/download/) for plot_model/model_to_dot to work.\n"
     ]
    }
   ],
   "source": [
    "#creating an instance of the full model which is named classifier_model\n",
    "\n",
    "classifier_model = build_classifier_model()\n",
    "\n",
    "tf.keras.utils.plot_model(classifier_model)\n"
   ]
  },
  {
   "cell_type": "code",
   "execution_count": 9,
   "id": "51a21297",
   "metadata": {},
   "outputs": [
    {
     "name": "stdout",
     "output_type": "stream",
     "text": [
      "Model: \"model\"\n",
      "__________________________________________________________________________________________________\n",
      " Layer (type)                   Output Shape         Param #     Connected to                     \n",
      "==================================================================================================\n",
      " text (InputLayer)              [(None,)]            0           []                               \n",
      "                                                                                                  \n",
      " preprocessing (KerasLayer)     {'input_word_ids':   0           ['text[0][0]']                   \n",
      "                                (None, 128),                                                      \n",
      "                                 'input_mask': (Non                                               \n",
      "                                e, 128),                                                          \n",
      "                                 'input_type_ids':                                                \n",
      "                                (None, 128)}                                                      \n",
      "                                                                                                  \n",
      " BERT_encoder (KerasLayer)      {'default': (None,   109482241   ['preprocessing[0][0]',          \n",
      "                                768),                             'preprocessing[0][1]',          \n",
      "                                 'pooled_output': (               'preprocessing[0][2]']          \n",
      "                                None, 768),                                                       \n",
      "                                 'encoder_outputs':                                               \n",
      "                                 [(None, 128, 768),                                               \n",
      "                                 (None, 128, 768),                                                \n",
      "                                 (None, 128, 768),                                                \n",
      "                                 (None, 128, 768),                                                \n",
      "                                 (None, 128, 768),                                                \n",
      "                                 (None, 128, 768),                                                \n",
      "                                 (None, 128, 768),                                                \n",
      "                                 (None, 128, 768),                                                \n",
      "                                 (None, 128, 768),                                                \n",
      "                                 (None, 128, 768),                                                \n",
      "                                 (None, 128, 768),                                                \n",
      "                                 (None, 128, 768)],                                               \n",
      "                                 'sequence_output':                                               \n",
      "                                 (None, 128, 768)}                                                \n",
      "                                                                                                  \n",
      " dense2 (Dense)                 (None, 96)           73824       ['BERT_encoder[0][13]']          \n",
      "                                                                                                  \n",
      " classifier (Dense)             (None, 50)           4850        ['dense2[0][0]']                 \n",
      "                                                                                                  \n",
      "==================================================================================================\n",
      "Total params: 109,560,915\n",
      "Trainable params: 109,560,914\n",
      "Non-trainable params: 1\n",
      "__________________________________________________________________________________________________\n"
     ]
    }
   ],
   "source": [
    "classifier_model.summary()"
   ]
  },
  {
   "cell_type": "code",
   "execution_count": 10,
   "id": "8f3f08d2",
   "metadata": {},
   "outputs": [],
   "source": [
    "loss = tf.keras.losses.CategoricalCrossentropy()\n",
    "metrics = tf.keras.metrics.Recall(name='recall')\n",
    "\n",
    "epochs = 80\n",
    "\n",
    "# defining the new optimizer\n",
    "\n",
    "optimizer = tf.keras.optimizers.Adam(learning_rate=1e-5, decay=1e-6)\n",
    "\n",
    "classifier_model.compile(optimizer=optimizer, loss=loss, metrics=metrics)"
   ]
  },
  {
   "cell_type": "code",
   "execution_count": 11,
   "id": "3160e216",
   "metadata": {
    "scrolled": true
   },
   "outputs": [
    {
     "name": "stdout",
     "output_type": "stream",
     "text": [
      "Training model with https://tfhub.dev/tensorflow/bert_en_uncased_L-12_H-768_A-12/4\n",
      "Epoch 1/80\n",
      "44/44 [==============================] - ETA: 0s - loss: 3.9949 - recall: 0.0000e+00\n",
      "Epoch 1: val_recall improved from -inf to 0.00000, saving model to d:\\model-improvement-01-0.00\n"
     ]
    },
    {
     "name": "stderr",
     "output_type": "stream",
     "text": [
      "WARNING:absl:Found untraced functions such as restored_function_body, restored_function_body, restored_function_body, restored_function_body, restored_function_body while saving (showing 5 of 366). These functions will not be directly callable after loading.\n"
     ]
    },
    {
     "name": "stdout",
     "output_type": "stream",
     "text": [
      "44/44 [==============================] - 39s 657ms/step - loss: 3.9949 - recall: 0.0000e+00 - val_loss: 3.9549 - val_recall: 0.0000e+00\n",
      "Epoch 2/80\n",
      "44/44 [==============================] - ETA: 0s - loss: 3.9065 - recall: 0.0000e+00\n",
      "Epoch 2: val_recall did not improve from 0.00000\n",
      "44/44 [==============================] - 15s 332ms/step - loss: 3.9065 - recall: 0.0000e+00 - val_loss: 3.9122 - val_recall: 0.0000e+00\n",
      "Epoch 3/80\n",
      "44/44 [==============================] - ETA: 0s - loss: 3.7893 - recall: 0.0000e+00\n",
      "Epoch 3: val_recall did not improve from 0.00000\n",
      "44/44 [==============================] - 15s 332ms/step - loss: 3.7893 - recall: 0.0000e+00 - val_loss: 3.7476 - val_recall: 0.0000e+00\n",
      "Epoch 4/80\n",
      "44/44 [==============================] - ETA: 0s - loss: 3.5661 - recall: 0.0000e+00\n",
      "Epoch 4: val_recall did not improve from 0.00000\n",
      "44/44 [==============================] - 15s 333ms/step - loss: 3.5661 - recall: 0.0000e+00 - val_loss: 3.4375 - val_recall: 0.0000e+00\n",
      "Epoch 5/80\n",
      "44/44 [==============================] - ETA: 0s - loss: 3.2185 - recall: 0.0000e+00\n",
      "Epoch 5: val_recall did not improve from 0.00000\n",
      "44/44 [==============================] - 15s 336ms/step - loss: 3.2185 - recall: 0.0000e+00 - val_loss: 3.1423 - val_recall: 0.0000e+00\n",
      "Epoch 6/80\n",
      "44/44 [==============================] - ETA: 0s - loss: 2.8500 - recall: 0.0000e+00\n",
      "Epoch 6: val_recall did not improve from 0.00000\n",
      "44/44 [==============================] - 15s 337ms/step - loss: 2.8500 - recall: 0.0000e+00 - val_loss: 2.7790 - val_recall: 0.0000e+00\n",
      "Epoch 7/80\n",
      "44/44 [==============================] - ETA: 0s - loss: 2.4678 - recall: 0.0000e+00\n",
      "Epoch 7: val_recall did not improve from 0.00000\n",
      "44/44 [==============================] - 15s 338ms/step - loss: 2.4678 - recall: 0.0000e+00 - val_loss: 2.4427 - val_recall: 0.0000e+00\n",
      "Epoch 8/80\n",
      "44/44 [==============================] - ETA: 0s - loss: 2.1223 - recall: 0.0014\n",
      "Epoch 8: val_recall improved from 0.00000 to 0.00667, saving model to d:\\model-improvement-08-0.01\n"
     ]
    },
    {
     "name": "stderr",
     "output_type": "stream",
     "text": [
      "WARNING:absl:Found untraced functions such as restored_function_body, restored_function_body, restored_function_body, restored_function_body, restored_function_body while saving (showing 5 of 366). These functions will not be directly callable after loading.\n"
     ]
    },
    {
     "name": "stdout",
     "output_type": "stream",
     "text": [
      "44/44 [==============================] - 27s 610ms/step - loss: 2.1223 - recall: 0.0014 - val_loss: 2.1990 - val_recall: 0.0067\n",
      "Epoch 9/80\n",
      "44/44 [==============================] - ETA: 0s - loss: 1.8185 - recall: 0.0114\n",
      "Epoch 9: val_recall improved from 0.00667 to 0.02000, saving model to d:\\model-improvement-09-0.02\n"
     ]
    },
    {
     "name": "stderr",
     "output_type": "stream",
     "text": [
      "WARNING:absl:Found untraced functions such as restored_function_body, restored_function_body, restored_function_body, restored_function_body, restored_function_body while saving (showing 5 of 366). These functions will not be directly callable after loading.\n"
     ]
    },
    {
     "name": "stdout",
     "output_type": "stream",
     "text": [
      "44/44 [==============================] - 27s 622ms/step - loss: 1.8185 - recall: 0.0114 - val_loss: 1.8741 - val_recall: 0.0200\n",
      "Epoch 10/80\n",
      "44/44 [==============================] - ETA: 0s - loss: 1.5627 - recall: 0.0371\n",
      "Epoch 10: val_recall improved from 0.02000 to 0.06667, saving model to d:\\model-improvement-10-0.07\n"
     ]
    },
    {
     "name": "stderr",
     "output_type": "stream",
     "text": [
      "WARNING:absl:Found untraced functions such as restored_function_body, restored_function_body, restored_function_body, restored_function_body, restored_function_body while saving (showing 5 of 366). These functions will not be directly callable after loading.\n"
     ]
    },
    {
     "name": "stdout",
     "output_type": "stream",
     "text": [
      "44/44 [==============================] - 27s 611ms/step - loss: 1.5627 - recall: 0.0371 - val_loss: 1.5994 - val_recall: 0.0667\n",
      "Epoch 11/80\n",
      "44/44 [==============================] - ETA: 0s - loss: 1.3484 - recall: 0.1114\n",
      "Epoch 11: val_recall improved from 0.06667 to 0.11667, saving model to d:\\model-improvement-11-0.12\n"
     ]
    },
    {
     "name": "stderr",
     "output_type": "stream",
     "text": [
      "WARNING:absl:Found untraced functions such as restored_function_body, restored_function_body, restored_function_body, restored_function_body, restored_function_body while saving (showing 5 of 366). These functions will not be directly callable after loading.\n"
     ]
    },
    {
     "name": "stdout",
     "output_type": "stream",
     "text": [
      "44/44 [==============================] - 27s 621ms/step - loss: 1.3484 - recall: 0.1114 - val_loss: 1.4386 - val_recall: 0.1167\n",
      "Epoch 12/80\n",
      "44/44 [==============================] - ETA: 0s - loss: 1.0788 - recall: 0.2271\n",
      "Epoch 12: val_recall improved from 0.11667 to 0.26000, saving model to d:\\model-improvement-12-0.26\n"
     ]
    },
    {
     "name": "stderr",
     "output_type": "stream",
     "text": [
      "WARNING:absl:Found untraced functions such as restored_function_body, restored_function_body, restored_function_body, restored_function_body, restored_function_body while saving (showing 5 of 366). These functions will not be directly callable after loading.\n"
     ]
    },
    {
     "name": "stdout",
     "output_type": "stream",
     "text": [
      "44/44 [==============================] - 27s 610ms/step - loss: 1.0788 - recall: 0.2271 - val_loss: 1.2245 - val_recall: 0.2600\n",
      "Epoch 13/80\n",
      "44/44 [==============================] - ETA: 0s - loss: 0.9081 - recall: 0.3443\n",
      "Epoch 13: val_recall improved from 0.26000 to 0.38000, saving model to d:\\model-improvement-13-0.38\n"
     ]
    },
    {
     "name": "stderr",
     "output_type": "stream",
     "text": [
      "WARNING:absl:Found untraced functions such as restored_function_body, restored_function_body, restored_function_body, restored_function_body, restored_function_body while saving (showing 5 of 366). These functions will not be directly callable after loading.\n"
     ]
    },
    {
     "name": "stdout",
     "output_type": "stream",
     "text": [
      "44/44 [==============================] - 27s 614ms/step - loss: 0.9081 - recall: 0.3443 - val_loss: 1.0802 - val_recall: 0.3800\n",
      "Epoch 14/80\n",
      "44/44 [==============================] - ETA: 0s - loss: 0.7573 - recall: 0.4857\n",
      "Epoch 14: val_recall improved from 0.38000 to 0.49667, saving model to d:\\model-improvement-14-0.50\n"
     ]
    },
    {
     "name": "stderr",
     "output_type": "stream",
     "text": [
      "WARNING:absl:Found untraced functions such as restored_function_body, restored_function_body, restored_function_body, restored_function_body, restored_function_body while saving (showing 5 of 366). These functions will not be directly callable after loading.\n"
     ]
    },
    {
     "name": "stdout",
     "output_type": "stream",
     "text": [
      "44/44 [==============================] - 27s 625ms/step - loss: 0.7573 - recall: 0.4857 - val_loss: 0.9459 - val_recall: 0.4967\n",
      "Epoch 15/80\n",
      "44/44 [==============================] - ETA: 0s - loss: 0.6417 - recall: 0.6543\n",
      "Epoch 15: val_recall improved from 0.49667 to 0.62667, saving model to d:\\model-improvement-15-0.63\n"
     ]
    },
    {
     "name": "stderr",
     "output_type": "stream",
     "text": [
      "WARNING:absl:Found untraced functions such as restored_function_body, restored_function_body, restored_function_body, restored_function_body, restored_function_body while saving (showing 5 of 366). These functions will not be directly callable after loading.\n"
     ]
    },
    {
     "name": "stdout",
     "output_type": "stream",
     "text": [
      "44/44 [==============================] - 27s 610ms/step - loss: 0.6417 - recall: 0.6543 - val_loss: 0.8239 - val_recall: 0.6267\n",
      "Epoch 16/80\n",
      "44/44 [==============================] - ETA: 0s - loss: 0.5369 - recall: 0.8200\n",
      "Epoch 16: val_recall improved from 0.62667 to 0.67333, saving model to d:\\model-improvement-16-0.67\n"
     ]
    },
    {
     "name": "stderr",
     "output_type": "stream",
     "text": [
      "WARNING:absl:Found untraced functions such as restored_function_body, restored_function_body, restored_function_body, restored_function_body, restored_function_body while saving (showing 5 of 366). These functions will not be directly callable after loading.\n"
     ]
    },
    {
     "name": "stdout",
     "output_type": "stream",
     "text": [
      "44/44 [==============================] - 28s 631ms/step - loss: 0.5369 - recall: 0.8200 - val_loss: 0.7682 - val_recall: 0.6733\n",
      "Epoch 17/80\n",
      "44/44 [==============================] - ETA: 0s - loss: 0.4658 - recall: 0.8900\n",
      "Epoch 17: val_recall improved from 0.67333 to 0.72000, saving model to d:\\model-improvement-17-0.72\n"
     ]
    },
    {
     "name": "stderr",
     "output_type": "stream",
     "text": [
      "WARNING:absl:Found untraced functions such as restored_function_body, restored_function_body, restored_function_body, restored_function_body, restored_function_body while saving (showing 5 of 366). These functions will not be directly callable after loading.\n"
     ]
    },
    {
     "name": "stdout",
     "output_type": "stream",
     "text": [
      "44/44 [==============================] - 27s 609ms/step - loss: 0.4658 - recall: 0.8900 - val_loss: 0.6971 - val_recall: 0.7200\n",
      "Epoch 18/80\n",
      "44/44 [==============================] - ETA: 0s - loss: 0.4023 - recall: 0.9329\n",
      "Epoch 18: val_recall improved from 0.72000 to 0.78333, saving model to d:\\model-improvement-18-0.78\n"
     ]
    },
    {
     "name": "stderr",
     "output_type": "stream",
     "text": [
      "WARNING:absl:Found untraced functions such as restored_function_body, restored_function_body, restored_function_body, restored_function_body, restored_function_body while saving (showing 5 of 366). These functions will not be directly callable after loading.\n"
     ]
    },
    {
     "name": "stdout",
     "output_type": "stream",
     "text": [
      "44/44 [==============================] - 27s 613ms/step - loss: 0.4023 - recall: 0.9329 - val_loss: 0.6273 - val_recall: 0.7833\n",
      "Epoch 19/80\n",
      "44/44 [==============================] - ETA: 0s - loss: 0.3423 - recall: 0.9743\n",
      "Epoch 19: val_recall improved from 0.78333 to 0.80000, saving model to d:\\model-improvement-19-0.80\n"
     ]
    },
    {
     "name": "stderr",
     "output_type": "stream",
     "text": [
      "WARNING:absl:Found untraced functions such as restored_function_body, restored_function_body, restored_function_body, restored_function_body, restored_function_body while saving (showing 5 of 366). These functions will not be directly callable after loading.\n"
     ]
    },
    {
     "name": "stdout",
     "output_type": "stream",
     "text": [
      "44/44 [==============================] - 27s 617ms/step - loss: 0.3423 - recall: 0.9743 - val_loss: 0.5943 - val_recall: 0.8000\n",
      "Epoch 20/80\n",
      "44/44 [==============================] - ETA: 0s - loss: 0.2875 - recall: 0.9871\n",
      "Epoch 20: val_recall improved from 0.80000 to 0.82000, saving model to d:\\model-improvement-20-0.82\n"
     ]
    },
    {
     "name": "stderr",
     "output_type": "stream",
     "text": [
      "WARNING:absl:Found untraced functions such as restored_function_body, restored_function_body, restored_function_body, restored_function_body, restored_function_body while saving (showing 5 of 366). These functions will not be directly callable after loading.\n"
     ]
    },
    {
     "name": "stdout",
     "output_type": "stream",
     "text": [
      "44/44 [==============================] - 28s 625ms/step - loss: 0.2875 - recall: 0.9871 - val_loss: 0.5308 - val_recall: 0.8200\n",
      "Epoch 21/80\n",
      "44/44 [==============================] - ETA: 0s - loss: 0.2506 - recall: 0.9900\n",
      "Epoch 21: val_recall improved from 0.82000 to 0.84333, saving model to d:\\model-improvement-21-0.84\n"
     ]
    },
    {
     "name": "stderr",
     "output_type": "stream",
     "text": [
      "WARNING:absl:Found untraced functions such as restored_function_body, restored_function_body, restored_function_body, restored_function_body, restored_function_body while saving (showing 5 of 366). These functions will not be directly callable after loading.\n"
     ]
    },
    {
     "name": "stdout",
     "output_type": "stream",
     "text": [
      "44/44 [==============================] - 26s 601ms/step - loss: 0.2506 - recall: 0.9900 - val_loss: 0.4945 - val_recall: 0.8433\n",
      "Epoch 22/80\n",
      "44/44 [==============================] - ETA: 0s - loss: 0.2268 - recall: 0.9886\n",
      "Epoch 22: val_recall did not improve from 0.84333\n",
      "44/44 [==============================] - 15s 335ms/step - loss: 0.2268 - recall: 0.9886 - val_loss: 0.4787 - val_recall: 0.8433\n",
      "Epoch 23/80\n",
      "44/44 [==============================] - ETA: 0s - loss: 0.1992 - recall: 0.9900\n",
      "Epoch 23: val_recall improved from 0.84333 to 0.85333, saving model to d:\\model-improvement-23-0.85\n"
     ]
    },
    {
     "name": "stderr",
     "output_type": "stream",
     "text": [
      "WARNING:absl:Found untraced functions such as restored_function_body, restored_function_body, restored_function_body, restored_function_body, restored_function_body while saving (showing 5 of 366). These functions will not be directly callable after loading.\n"
     ]
    },
    {
     "name": "stdout",
     "output_type": "stream",
     "text": [
      "44/44 [==============================] - 27s 618ms/step - loss: 0.1992 - recall: 0.9900 - val_loss: 0.4442 - val_recall: 0.8533\n",
      "Epoch 24/80\n",
      "44/44 [==============================] - ETA: 0s - loss: 0.1897 - recall: 0.9857\n",
      "Epoch 24: val_recall improved from 0.85333 to 0.86333, saving model to d:\\model-improvement-24-0.86\n"
     ]
    },
    {
     "name": "stderr",
     "output_type": "stream",
     "text": [
      "WARNING:absl:Found untraced functions such as restored_function_body, restored_function_body, restored_function_body, restored_function_body, restored_function_body while saving (showing 5 of 366). These functions will not be directly callable after loading.\n"
     ]
    },
    {
     "name": "stdout",
     "output_type": "stream",
     "text": [
      "44/44 [==============================] - 27s 623ms/step - loss: 0.1897 - recall: 0.9857 - val_loss: 0.4269 - val_recall: 0.8633\n",
      "Epoch 25/80\n",
      "44/44 [==============================] - ETA: 0s - loss: 0.1675 - recall: 0.9886\n",
      "Epoch 25: val_recall did not improve from 0.86333\n",
      "44/44 [==============================] - 15s 335ms/step - loss: 0.1675 - recall: 0.9886 - val_loss: 0.4336 - val_recall: 0.8533\n",
      "Epoch 26/80\n",
      "44/44 [==============================] - ETA: 0s - loss: 0.1525 - recall: 0.9857\n",
      "Epoch 26: val_recall improved from 0.86333 to 0.86667, saving model to d:\\model-improvement-26-0.87\n"
     ]
    },
    {
     "name": "stderr",
     "output_type": "stream",
     "text": [
      "WARNING:absl:Found untraced functions such as restored_function_body, restored_function_body, restored_function_body, restored_function_body, restored_function_body while saving (showing 5 of 366). These functions will not be directly callable after loading.\n"
     ]
    },
    {
     "name": "stdout",
     "output_type": "stream",
     "text": [
      "44/44 [==============================] - 28s 643ms/step - loss: 0.1525 - recall: 0.9857 - val_loss: 0.4151 - val_recall: 0.8667\n",
      "Epoch 27/80\n",
      "44/44 [==============================] - ETA: 0s - loss: 0.1386 - recall: 0.9886\n",
      "Epoch 27: val_recall improved from 0.86667 to 0.87333, saving model to d:\\model-improvement-27-0.87\n"
     ]
    },
    {
     "name": "stderr",
     "output_type": "stream",
     "text": [
      "WARNING:absl:Found untraced functions such as restored_function_body, restored_function_body, restored_function_body, restored_function_body, restored_function_body while saving (showing 5 of 366). These functions will not be directly callable after loading.\n"
     ]
    },
    {
     "name": "stdout",
     "output_type": "stream",
     "text": [
      "44/44 [==============================] - 27s 618ms/step - loss: 0.1386 - recall: 0.9886 - val_loss: 0.3856 - val_recall: 0.8733\n",
      "Epoch 28/80\n",
      "44/44 [==============================] - ETA: 0s - loss: 0.1316 - recall: 0.9871\n",
      "Epoch 28: val_recall improved from 0.87333 to 0.88333, saving model to d:\\model-improvement-28-0.88\n"
     ]
    },
    {
     "name": "stderr",
     "output_type": "stream",
     "text": [
      "WARNING:absl:Found untraced functions such as restored_function_body, restored_function_body, restored_function_body, restored_function_body, restored_function_body while saving (showing 5 of 366). These functions will not be directly callable after loading.\n"
     ]
    },
    {
     "name": "stdout",
     "output_type": "stream",
     "text": [
      "44/44 [==============================] - 28s 631ms/step - loss: 0.1316 - recall: 0.9871 - val_loss: 0.3736 - val_recall: 0.8833\n",
      "Epoch 29/80\n",
      "44/44 [==============================] - ETA: 0s - loss: 0.1189 - recall: 0.9857\n",
      "Epoch 29: val_recall did not improve from 0.88333\n",
      "44/44 [==============================] - 15s 334ms/step - loss: 0.1189 - recall: 0.9857 - val_loss: 0.3950 - val_recall: 0.8767\n",
      "Epoch 30/80\n",
      "44/44 [==============================] - ETA: 0s - loss: 0.1056 - recall: 0.9900\n",
      "Epoch 30: val_recall did not improve from 0.88333\n",
      "44/44 [==============================] - 15s 336ms/step - loss: 0.1056 - recall: 0.9900 - val_loss: 0.3664 - val_recall: 0.8833\n",
      "Epoch 31/80\n",
      "44/44 [==============================] - ETA: 0s - loss: 0.1066 - recall: 0.9871\n",
      "Epoch 31: val_recall did not improve from 0.88333\n",
      "44/44 [==============================] - 15s 336ms/step - loss: 0.1066 - recall: 0.9871 - val_loss: 0.3694 - val_recall: 0.8733\n",
      "Epoch 32/80\n",
      "44/44 [==============================] - ETA: 0s - loss: 0.0952 - recall: 0.9857\n",
      "Epoch 32: val_recall did not improve from 0.88333\n",
      "44/44 [==============================] - 15s 336ms/step - loss: 0.0952 - recall: 0.9857 - val_loss: 0.3744 - val_recall: 0.8800\n",
      "Epoch 33/80\n",
      "44/44 [==============================] - ETA: 0s - loss: 0.0919 - recall: 0.9871\n",
      "Epoch 33: val_recall did not improve from 0.88333\n",
      "44/44 [==============================] - 15s 336ms/step - loss: 0.0919 - recall: 0.9871 - val_loss: 0.3571 - val_recall: 0.8800\n",
      "Epoch 34/80\n",
      "44/44 [==============================] - ETA: 0s - loss: 0.0886 - recall: 0.9871\n",
      "Epoch 34: val_recall did not improve from 0.88333\n",
      "44/44 [==============================] - 15s 337ms/step - loss: 0.0886 - recall: 0.9871 - val_loss: 0.3421 - val_recall: 0.8833\n",
      "Epoch 35/80\n",
      "44/44 [==============================] - ETA: 0s - loss: 0.0838 - recall: 0.9871\n",
      "Epoch 35: val_recall did not improve from 0.88333\n",
      "44/44 [==============================] - 15s 337ms/step - loss: 0.0838 - recall: 0.9871 - val_loss: 0.3524 - val_recall: 0.8833\n",
      "Epoch 36/80\n",
      "44/44 [==============================] - ETA: 0s - loss: 0.0793 - recall: 0.9857\n",
      "Epoch 36: val_recall did not improve from 0.88333\n",
      "44/44 [==============================] - 15s 337ms/step - loss: 0.0793 - recall: 0.9857 - val_loss: 0.3489 - val_recall: 0.8767\n",
      "Epoch 37/80\n",
      "44/44 [==============================] - ETA: 0s - loss: 0.0764 - recall: 0.9871\n",
      "Epoch 37: val_recall improved from 0.88333 to 0.89000, saving model to d:\\model-improvement-37-0.89\n"
     ]
    },
    {
     "name": "stderr",
     "output_type": "stream",
     "text": [
      "WARNING:absl:Found untraced functions such as restored_function_body, restored_function_body, restored_function_body, restored_function_body, restored_function_body while saving (showing 5 of 366). These functions will not be directly callable after loading.\n"
     ]
    },
    {
     "name": "stdout",
     "output_type": "stream",
     "text": [
      "44/44 [==============================] - 26s 603ms/step - loss: 0.0764 - recall: 0.9871 - val_loss: 0.3330 - val_recall: 0.8900\n",
      "Epoch 38/80\n",
      "44/44 [==============================] - ETA: 0s - loss: 0.0669 - recall: 0.9857\n",
      "Epoch 38: val_recall did not improve from 0.89000\n",
      "44/44 [==============================] - 15s 334ms/step - loss: 0.0669 - recall: 0.9857 - val_loss: 0.3260 - val_recall: 0.8900\n",
      "Epoch 39/80\n",
      "44/44 [==============================] - ETA: 0s - loss: 0.0654 - recall: 0.9857\n",
      "Epoch 39: val_recall did not improve from 0.89000\n",
      "44/44 [==============================] - 15s 336ms/step - loss: 0.0654 - recall: 0.9857 - val_loss: 0.3256 - val_recall: 0.8867\n",
      "Epoch 40/80\n",
      "44/44 [==============================] - ETA: 0s - loss: 0.0645 - recall: 0.9871\n",
      "Epoch 40: val_recall improved from 0.89000 to 0.89333, saving model to d:\\model-improvement-40-0.89\n"
     ]
    },
    {
     "name": "stderr",
     "output_type": "stream",
     "text": [
      "WARNING:absl:Found untraced functions such as restored_function_body, restored_function_body, restored_function_body, restored_function_body, restored_function_body while saving (showing 5 of 366). These functions will not be directly callable after loading.\n"
     ]
    },
    {
     "name": "stdout",
     "output_type": "stream",
     "text": [
      "44/44 [==============================] - 27s 630ms/step - loss: 0.0645 - recall: 0.9871 - val_loss: 0.3172 - val_recall: 0.8933\n",
      "Epoch 41/80\n",
      "44/44 [==============================] - ETA: 0s - loss: 0.0589 - recall: 0.9871\n",
      "Epoch 41: val_recall improved from 0.89333 to 0.89667, saving model to d:\\model-improvement-41-0.90\n"
     ]
    },
    {
     "name": "stderr",
     "output_type": "stream",
     "text": [
      "WARNING:absl:Found untraced functions such as restored_function_body, restored_function_body, restored_function_body, restored_function_body, restored_function_body while saving (showing 5 of 366). These functions will not be directly callable after loading.\n"
     ]
    },
    {
     "name": "stdout",
     "output_type": "stream",
     "text": [
      "44/44 [==============================] - 28s 632ms/step - loss: 0.0589 - recall: 0.9871 - val_loss: 0.3227 - val_recall: 0.8967\n",
      "Epoch 42/80\n",
      "44/44 [==============================] - ETA: 0s - loss: 0.0591 - recall: 0.9857\n",
      "Epoch 42: val_recall improved from 0.89667 to 0.91000, saving model to d:\\model-improvement-42-0.91\n"
     ]
    },
    {
     "name": "stderr",
     "output_type": "stream",
     "text": [
      "WARNING:absl:Found untraced functions such as restored_function_body, restored_function_body, restored_function_body, restored_function_body, restored_function_body while saving (showing 5 of 366). These functions will not be directly callable after loading.\n"
     ]
    },
    {
     "name": "stdout",
     "output_type": "stream",
     "text": [
      "44/44 [==============================] - 28s 634ms/step - loss: 0.0591 - recall: 0.9857 - val_loss: 0.3058 - val_recall: 0.9100\n",
      "Epoch 43/80\n",
      "44/44 [==============================] - ETA: 0s - loss: 0.0561 - recall: 0.9857\n",
      "Epoch 43: val_recall did not improve from 0.91000\n",
      "44/44 [==============================] - 15s 335ms/step - loss: 0.0561 - recall: 0.9857 - val_loss: 0.3013 - val_recall: 0.9033\n",
      "Epoch 44/80\n",
      "44/44 [==============================] - ETA: 0s - loss: 0.0525 - recall: 0.9857\n",
      "Epoch 44: val_recall did not improve from 0.91000\n",
      "44/44 [==============================] - 15s 336ms/step - loss: 0.0525 - recall: 0.9857 - val_loss: 0.3063 - val_recall: 0.8967\n",
      "Epoch 45/80\n",
      "44/44 [==============================] - ETA: 0s - loss: 0.0513 - recall: 0.9871\n",
      "Epoch 45: val_recall did not improve from 0.91000\n",
      "44/44 [==============================] - 15s 336ms/step - loss: 0.0513 - recall: 0.9871 - val_loss: 0.2946 - val_recall: 0.9100\n",
      "Epoch 46/80\n",
      "44/44 [==============================] - ETA: 0s - loss: 0.0481 - recall: 0.9871\n",
      "Epoch 46: val_recall did not improve from 0.91000\n",
      "44/44 [==============================] - 15s 337ms/step - loss: 0.0481 - recall: 0.9871 - val_loss: 0.2935 - val_recall: 0.9033\n",
      "Epoch 47/80\n",
      "44/44 [==============================] - ETA: 0s - loss: 0.0521 - recall: 0.9857\n",
      "Epoch 47: val_recall did not improve from 0.91000\n",
      "44/44 [==============================] - 15s 338ms/step - loss: 0.0521 - recall: 0.9857 - val_loss: 0.3073 - val_recall: 0.8933\n",
      "Epoch 48/80\n",
      "44/44 [==============================] - ETA: 0s - loss: 0.0473 - recall: 0.9871\n",
      "Epoch 48: val_recall did not improve from 0.91000\n",
      "44/44 [==============================] - 15s 337ms/step - loss: 0.0473 - recall: 0.9871 - val_loss: 0.2924 - val_recall: 0.9067\n",
      "Epoch 49/80\n",
      "44/44 [==============================] - ETA: 0s - loss: 0.0452 - recall: 0.9871\n",
      "Epoch 49: val_recall improved from 0.91000 to 0.91333, saving model to d:\\model-improvement-49-0.91\n"
     ]
    },
    {
     "name": "stderr",
     "output_type": "stream",
     "text": [
      "WARNING:absl:Found untraced functions such as restored_function_body, restored_function_body, restored_function_body, restored_function_body, restored_function_body while saving (showing 5 of 366). These functions will not be directly callable after loading.\n"
     ]
    },
    {
     "name": "stdout",
     "output_type": "stream",
     "text": [
      "44/44 [==============================] - 26s 598ms/step - loss: 0.0452 - recall: 0.9871 - val_loss: 0.2735 - val_recall: 0.9133\n",
      "Epoch 50/80\n",
      "44/44 [==============================] - ETA: 0s - loss: 0.0433 - recall: 0.9886\n",
      "Epoch 50: val_recall did not improve from 0.91333\n",
      "44/44 [==============================] - 15s 334ms/step - loss: 0.0433 - recall: 0.9886 - val_loss: 0.2843 - val_recall: 0.9067\n",
      "Epoch 51/80\n",
      "44/44 [==============================] - ETA: 0s - loss: 0.0438 - recall: 0.9857\n",
      "Epoch 51: val_recall did not improve from 0.91333\n",
      "44/44 [==============================] - 15s 335ms/step - loss: 0.0438 - recall: 0.9857 - val_loss: 0.2796 - val_recall: 0.9100\n",
      "Epoch 52/80\n",
      "44/44 [==============================] - ETA: 0s - loss: 0.0432 - recall: 0.9857\n",
      "Epoch 52: val_recall did not improve from 0.91333\n",
      "44/44 [==============================] - 15s 336ms/step - loss: 0.0432 - recall: 0.9857 - val_loss: 0.2783 - val_recall: 0.9133\n",
      "Epoch 53/80\n",
      "44/44 [==============================] - ETA: 0s - loss: 0.0386 - recall: 0.9871\n",
      "Epoch 53: val_recall did not improve from 0.91333\n",
      "44/44 [==============================] - 15s 335ms/step - loss: 0.0386 - recall: 0.9871 - val_loss: 0.2748 - val_recall: 0.9133\n",
      "Epoch 54/80\n",
      "44/44 [==============================] - ETA: 0s - loss: 0.0407 - recall: 0.9871\n",
      "Epoch 54: val_recall did not improve from 0.91333\n",
      "44/44 [==============================] - 15s 336ms/step - loss: 0.0407 - recall: 0.9871 - val_loss: 0.2775 - val_recall: 0.9133\n",
      "Epoch 55/80\n",
      "44/44 [==============================] - ETA: 0s - loss: 0.0369 - recall: 0.9900\n",
      "Epoch 55: val_recall did not improve from 0.91333\n",
      "44/44 [==============================] - 15s 337ms/step - loss: 0.0369 - recall: 0.9900 - val_loss: 0.2773 - val_recall: 0.9133\n",
      "Epoch 56/80\n",
      "44/44 [==============================] - ETA: 0s - loss: 0.0362 - recall: 0.9871\n",
      "Epoch 56: val_recall improved from 0.91333 to 0.91667, saving model to d:\\model-improvement-56-0.92\n"
     ]
    },
    {
     "name": "stderr",
     "output_type": "stream",
     "text": [
      "WARNING:absl:Found untraced functions such as restored_function_body, restored_function_body, restored_function_body, restored_function_body, restored_function_body while saving (showing 5 of 366). These functions will not be directly callable after loading.\n"
     ]
    },
    {
     "name": "stdout",
     "output_type": "stream",
     "text": [
      "44/44 [==============================] - 28s 646ms/step - loss: 0.0362 - recall: 0.9871 - val_loss: 0.2693 - val_recall: 0.9167\n",
      "Epoch 57/80\n",
      "44/44 [==============================] - ETA: 0s - loss: 0.0359 - recall: 0.9871\n",
      "Epoch 57: val_recall did not improve from 0.91667\n",
      "44/44 [==============================] - 15s 335ms/step - loss: 0.0359 - recall: 0.9871 - val_loss: 0.2704 - val_recall: 0.9133\n",
      "Epoch 58/80\n",
      "44/44 [==============================] - ETA: 0s - loss: 0.0356 - recall: 0.9871\n",
      "Epoch 58: val_recall did not improve from 0.91667\n",
      "44/44 [==============================] - 15s 335ms/step - loss: 0.0356 - recall: 0.9871 - val_loss: 0.2761 - val_recall: 0.9133\n",
      "Epoch 59/80\n",
      "44/44 [==============================] - ETA: 0s - loss: 0.0347 - recall: 0.9871\n",
      "Epoch 59: val_recall did not improve from 0.91667\n",
      "44/44 [==============================] - 15s 335ms/step - loss: 0.0347 - recall: 0.9871 - val_loss: 0.2634 - val_recall: 0.9167\n",
      "Epoch 60/80\n",
      "44/44 [==============================] - ETA: 0s - loss: 0.0329 - recall: 0.9857\n",
      "Epoch 60: val_recall did not improve from 0.91667\n",
      "44/44 [==============================] - 15s 336ms/step - loss: 0.0329 - recall: 0.9857 - val_loss: 0.2737 - val_recall: 0.9133\n",
      "Epoch 61/80\n",
      "44/44 [==============================] - ETA: 0s - loss: 0.0331 - recall: 0.9857\n",
      "Epoch 61: val_recall did not improve from 0.91667\n",
      "44/44 [==============================] - 15s 336ms/step - loss: 0.0331 - recall: 0.9857 - val_loss: 0.2612 - val_recall: 0.9167\n",
      "Epoch 62/80\n",
      "44/44 [==============================] - ETA: 0s - loss: 0.0334 - recall: 0.9871\n",
      "Epoch 62: val_recall did not improve from 0.91667\n",
      "44/44 [==============================] - 15s 337ms/step - loss: 0.0334 - recall: 0.9871 - val_loss: 0.2657 - val_recall: 0.9167\n",
      "Epoch 63/80\n",
      "44/44 [==============================] - ETA: 0s - loss: 0.0335 - recall: 0.9857\n",
      "Epoch 63: val_recall improved from 0.91667 to 0.92000, saving model to d:\\model-improvement-63-0.92\n"
     ]
    },
    {
     "name": "stderr",
     "output_type": "stream",
     "text": [
      "WARNING:absl:Found untraced functions such as restored_function_body, restored_function_body, restored_function_body, restored_function_body, restored_function_body while saving (showing 5 of 366). These functions will not be directly callable after loading.\n"
     ]
    },
    {
     "name": "stdout",
     "output_type": "stream",
     "text": [
      "44/44 [==============================] - 26s 609ms/step - loss: 0.0335 - recall: 0.9857 - val_loss: 0.2805 - val_recall: 0.9200\n",
      "Epoch 64/80\n",
      "44/44 [==============================] - ETA: 0s - loss: 0.0309 - recall: 0.9857\n",
      "Epoch 64: val_recall did not improve from 0.92000\n",
      "44/44 [==============================] - 15s 333ms/step - loss: 0.0309 - recall: 0.9857 - val_loss: 0.2691 - val_recall: 0.9133\n",
      "Epoch 65/80\n",
      "44/44 [==============================] - ETA: 0s - loss: 0.0300 - recall: 0.9871\n",
      "Epoch 65: val_recall did not improve from 0.92000\n",
      "44/44 [==============================] - 15s 336ms/step - loss: 0.0300 - recall: 0.9871 - val_loss: 0.2581 - val_recall: 0.9167\n",
      "Epoch 66/80\n",
      "44/44 [==============================] - ETA: 0s - loss: 0.0297 - recall: 0.9871\n",
      "Epoch 66: val_recall did not improve from 0.92000\n",
      "44/44 [==============================] - 15s 336ms/step - loss: 0.0297 - recall: 0.9871 - val_loss: 0.2678 - val_recall: 0.9200\n",
      "Epoch 67/80\n",
      "44/44 [==============================] - ETA: 0s - loss: 0.0311 - recall: 0.9857\n",
      "Epoch 67: val_recall improved from 0.92000 to 0.92333, saving model to d:\\model-improvement-67-0.92\n"
     ]
    },
    {
     "name": "stderr",
     "output_type": "stream",
     "text": [
      "WARNING:absl:Found untraced functions such as restored_function_body, restored_function_body, restored_function_body, restored_function_body, restored_function_body while saving (showing 5 of 366). These functions will not be directly callable after loading.\n"
     ]
    },
    {
     "name": "stdout",
     "output_type": "stream",
     "text": [
      "44/44 [==============================] - 27s 628ms/step - loss: 0.0311 - recall: 0.9857 - val_loss: 0.2574 - val_recall: 0.9233\n",
      "Epoch 68/80\n",
      "44/44 [==============================] - ETA: 0s - loss: 0.0281 - recall: 0.9857\n",
      "Epoch 68: val_recall did not improve from 0.92333\n",
      "44/44 [==============================] - 15s 335ms/step - loss: 0.0281 - recall: 0.9857 - val_loss: 0.2642 - val_recall: 0.9200\n",
      "Epoch 69/80\n",
      "44/44 [==============================] - ETA: 0s - loss: 0.0271 - recall: 0.9871\n",
      "Epoch 69: val_recall did not improve from 0.92333\n",
      "44/44 [==============================] - 15s 336ms/step - loss: 0.0271 - recall: 0.9871 - val_loss: 0.2597 - val_recall: 0.9200\n",
      "Epoch 70/80\n",
      "44/44 [==============================] - ETA: 0s - loss: 0.0298 - recall: 0.9857\n",
      "Epoch 70: val_recall did not improve from 0.92333\n",
      "44/44 [==============================] - 15s 335ms/step - loss: 0.0298 - recall: 0.9857 - val_loss: 0.2617 - val_recall: 0.9167\n",
      "Epoch 71/80\n",
      "44/44 [==============================] - ETA: 0s - loss: 0.0281 - recall: 0.9857\n",
      "Epoch 71: val_recall did not improve from 0.92333\n",
      "44/44 [==============================] - 15s 336ms/step - loss: 0.0281 - recall: 0.9857 - val_loss: 0.2534 - val_recall: 0.9200\n",
      "Epoch 72/80\n",
      "44/44 [==============================] - ETA: 0s - loss: 0.0248 - recall: 0.9871\n",
      "Epoch 72: val_recall did not improve from 0.92333\n",
      "44/44 [==============================] - 15s 336ms/step - loss: 0.0248 - recall: 0.9871 - val_loss: 0.2687 - val_recall: 0.9133\n",
      "Epoch 73/80\n",
      "44/44 [==============================] - ETA: 0s - loss: 0.0246 - recall: 0.9886\n",
      "Epoch 73: val_recall did not improve from 0.92333\n",
      "44/44 [==============================] - 15s 336ms/step - loss: 0.0246 - recall: 0.9886 - val_loss: 0.2501 - val_recall: 0.9200\n",
      "Epoch 74/80\n",
      "44/44 [==============================] - ETA: 0s - loss: 0.0267 - recall: 0.9857\n",
      "Epoch 74: val_recall did not improve from 0.92333\n",
      "44/44 [==============================] - 15s 337ms/step - loss: 0.0267 - recall: 0.9857 - val_loss: 0.2553 - val_recall: 0.9167\n",
      "Epoch 75/80\n",
      "44/44 [==============================] - ETA: 0s - loss: 0.0254 - recall: 0.9871\n",
      "Epoch 75: val_recall did not improve from 0.92333\n",
      "44/44 [==============================] - 15s 337ms/step - loss: 0.0254 - recall: 0.9871 - val_loss: 0.2625 - val_recall: 0.9200\n",
      "Epoch 76/80\n",
      "44/44 [==============================] - ETA: 0s - loss: 0.0251 - recall: 0.9886\n",
      "Epoch 76: val_recall did not improve from 0.92333\n",
      "44/44 [==============================] - 15s 336ms/step - loss: 0.0251 - recall: 0.9886 - val_loss: 0.2567 - val_recall: 0.9233\n",
      "Epoch 77/80\n",
      "44/44 [==============================] - ETA: 0s - loss: 0.0246 - recall: 0.9886\n",
      "Epoch 77: val_recall did not improve from 0.92333\n",
      "44/44 [==============================] - 15s 336ms/step - loss: 0.0246 - recall: 0.9886 - val_loss: 0.2597 - val_recall: 0.9233\n",
      "Epoch 78/80\n",
      "44/44 [==============================] - ETA: 0s - loss: 0.0256 - recall: 0.9871\n",
      "Epoch 78: val_recall did not improve from 0.92333\n",
      "44/44 [==============================] - 15s 335ms/step - loss: 0.0256 - recall: 0.9871 - val_loss: 0.2529 - val_recall: 0.9200\n",
      "Epoch 79/80\n",
      "44/44 [==============================] - ETA: 0s - loss: 0.0239 - recall: 0.9857\n",
      "Epoch 79: val_recall did not improve from 0.92333\n",
      "44/44 [==============================] - 15s 336ms/step - loss: 0.0239 - recall: 0.9857 - val_loss: 0.2476 - val_recall: 0.9233\n",
      "Epoch 80/80\n",
      "44/44 [==============================] - ETA: 0s - loss: 0.0254 - recall: 0.9871\n",
      "Epoch 80: val_recall improved from 0.92333 to 0.92667, saving model to d:\\model-improvement-80-0.93\n"
     ]
    },
    {
     "name": "stderr",
     "output_type": "stream",
     "text": [
      "WARNING:absl:Found untraced functions such as restored_function_body, restored_function_body, restored_function_body, restored_function_body, restored_function_body while saving (showing 5 of 366). These functions will not be directly callable after loading.\n"
     ]
    },
    {
     "name": "stdout",
     "output_type": "stream",
     "text": [
      "\b\b\b\b\b\b\b\b\b\b\b\b\b\b\b\b\b\b\b\b\b\b\b\b\b\b\b\b\b\b\b\b\b\b\b\b\b\b\b\b\b\b\b\b\b\b\b\b\b\b\b\b\b\b\b\b\b\b\b\b\b\b\b\b\b\b\b\b\b\b\b\b\b\b\b\b\b\b\b\b\r",
      "44/44 [==============================] - 27s 611ms/step - loss: 0.0254 - recall: 0.9871 - val_loss: 0.2473 - val_recall: 0.9267\n"
     ]
    }
   ],
   "source": [
    "print(f'Training model with {tfhub_handle_encoder}')\n",
    "\n",
    "filepath = \"d:\\model-improvement-{epoch:02d}-{val_recall:.2f}\"\n",
    "checkpoint = ModelCheckpoint(filepath, monitor='val_recall', verbose=1, save_best_only=True, save_weights_only=False, mode='max')\n",
    "callbacks_list = [checkpoint]\n",
    "\n",
    "history = classifier_model.fit(x=train_ds, validation_data=val_ds, epochs=epochs, callbacks=callbacks_list)"
   ]
  },
  {
   "cell_type": "code",
   "execution_count": 12,
   "id": "0b474a9e",
   "metadata": {},
   "outputs": [
    {
     "name": "stdout",
     "output_type": "stream",
     "text": [
      "dict_keys(['loss', 'recall', 'val_loss', 'val_recall'])\n"
     ]
    },
    {
     "data": {
      "text/plain": [
       "<matplotlib.legend.Legend at 0x21cda670700>"
      ]
     },
     "execution_count": 12,
     "metadata": {},
     "output_type": "execute_result"
    },
    {
     "data": {
      "image/png": "[encoded data removed]",
      "text/plain": [
       "<Figure size 720x432 with 2 Axes>"
      ]
     },
     "metadata": {
      "needs_background": "light"
     },
     "output_type": "display_data"
    }
   ],
   "source": [
    "history_dict = history.history\n",
    "print(history_dict.keys())\n",
    "\n",
    "acc = history_dict['recall']\n",
    "val_acc = history_dict['val_recall']\n",
    "loss = history_dict['loss']\n",
    "val_loss = history_dict['val_loss']\n",
    "\n",
    "epochs = range(1, len(acc) + 1)\n",
    "fig = plt.figure(figsize=(10, 6))\n",
    "fig.tight_layout()\n",
    "\n",
    "plt.subplot(2, 1, 1)\n",
    "# r is for \"solid red line\"\n",
    "plt.plot(epochs, loss, 'r', label='Training loss')\n",
    "# b is for \"solid blue line\"\n",
    "plt.plot(epochs, val_loss, 'b', label='Validation loss')\n",
    "plt.title('Training and validation loss')\n",
    "# plt.xlabel('Epochs')\n",
    "plt.ylabel('Loss')\n",
    "plt.legend()\n",
    "\n",
    "plt.subplot(2, 1, 2)\n",
    "plt.plot(epochs, acc, 'r', label='Training recall')\n",
    "plt.plot(epochs, val_acc, 'b', label='Validation recall')\n",
    "plt.title('Training and validation recall')\n",
    "plt.xlabel('Epochs')\n",
    "plt.ylabel('recall')\n",
    "plt.legend(loc='lower right')"
   ]
  },
  {
   "cell_type": "code",
   "execution_count": 13,
   "id": "1d1e2ad4",
   "metadata": {},
   "outputs": [],
   "source": [
    "# classifier_model.save(\"behterin_model\", include_optimizer=False)"
   ]
  },
  {
   "cell_type": "code",
   "execution_count": 14,
   "id": "09283a69",
   "metadata": {},
   "outputs": [],
   "source": [
    "# loaded_model = tf.keras.models.load_model('behterin_model')"
   ]
  },
  {
   "cell_type": "code",
   "execution_count": 3,
   "id": "54d6209f",
   "metadata": {},
   "outputs": [],
   "source": [
    "loaded_model = tf.keras.models.load_model('models/96/96_augmented_1Dense_0.3Val_noDrop_recall_model-improvement-75-0.81')"
   ]
  },
  {
   "cell_type": "code",
   "execution_count": 4,
   "id": "31e6508f",
   "metadata": {},
   "outputs": [
    {
     "name": "stdout",
     "output_type": "stream",
     "text": [
      "Model: \"model\"\n",
      "__________________________________________________________________________________________________\n",
      " Layer (type)                   Output Shape         Param #     Connected to                     \n",
      "==================================================================================================\n",
      " text (InputLayer)              [(None,)]            0           []                               \n",
      "                                                                                                  \n",
      " preprocessing (KerasLayer)     {'input_word_ids':   0           ['text[0][0]']                   \n",
      "                                (None, 128),                                                      \n",
      "                                 'input_type_ids':                                                \n",
      "                                (None, 128),                                                      \n",
      "                                 'input_mask': (Non                                               \n",
      "                                e, 128)}                                                          \n",
      "                                                                                                  \n",
      " BERT_encoder (KerasLayer)      {'pooled_output': (  109482241   ['preprocessing[0][0]',          \n",
      "                                None, 768),                       'preprocessing[0][1]',          \n",
      "                                 'default': (None,                'preprocessing[0][2]']          \n",
      "                                768),                                                             \n",
      "                                 'encoder_outputs':                                               \n",
      "                                 [(None, 128, 768),                                               \n",
      "                                 (None, 128, 768),                                                \n",
      "                                 (None, 128, 768),                                                \n",
      "                                 (None, 128, 768),                                                \n",
      "                                 (None, 128, 768),                                                \n",
      "                                 (None, 128, 768),                                                \n",
      "                                 (None, 128, 768),                                                \n",
      "                                 (None, 128, 768),                                                \n",
      "                                 (None, 128, 768),                                                \n",
      "                                 (None, 128, 768),                                                \n",
      "                                 (None, 128, 768),                                                \n",
      "                                 (None, 128, 768)],                                               \n",
      "                                 'sequence_output':                                               \n",
      "                                 (None, 128, 768)}                                                \n",
      "                                                                                                  \n",
      " dense2 (Dense)                 (None, 96)           73824       ['BERT_encoder[0][13]']          \n",
      "                                                                                                  \n",
      "==================================================================================================\n",
      "Total params: 109,556,065\n",
      "Trainable params: 109,556,064\n",
      "Non-trainable params: 1\n",
      "__________________________________________________________________________________________________\n"
     ]
    }
   ],
   "source": [
    "text_test = ['this is such an amazing movie!']\n",
    "myTensor = tf.convert_to_tensor(text_test, dtype=tf.string)\n",
    "\n",
    "###################################################################################################\n",
    "###################################################################################################\n",
    "# The model to get embbedings (intermediate_layer_model)\n",
    "\n",
    "intermediate_layer_model = tf.keras.Model(inputs=loaded_model.get_layer(\"text\").input,\n",
    "                                       outputs=loaded_model.get_layer(\"dense2\").output)\n",
    "###################################################################################################\n",
    "###################################################################################################\n",
    "\n",
    "\n",
    "intermediate_layer_model.summary()"
   ]
  },
  {
   "cell_type": "markdown",
   "id": "48ed9bbd",
   "metadata": {},
   "source": [
    "# Mydataset embbedings"
   ]
  },
  {
   "cell_type": "code",
   "execution_count": 5,
   "id": "ace53260",
   "metadata": {},
   "outputs": [],
   "source": [
    "import pandas as pd\n",
    "import xlsxwriter\n",
    "import numpy as np"
   ]
  },
  {
   "cell_type": "code",
   "execution_count": 6,
   "id": "efb98680",
   "metadata": {},
   "outputs": [],
   "source": [
    "data = pd.read_csv(r'C:\\Users\\MOHSEN-ASUS\\JupyterProjects\\bert classification (40-60)\\bert_data_withoutClassWord.csv')"
   ]
  },
  {
   "cell_type": "code",
   "execution_count": 7,
   "id": "169d0ba9",
   "metadata": {},
   "outputs": [],
   "source": [
    "embbeding_size = 96"
   ]
  },
  {
   "cell_type": "code",
   "execution_count": 8,
   "id": "369300bd",
   "metadata": {},
   "outputs": [],
   "source": [
    "dataset_labels = np.array([])"
   ]
  },
  {
   "cell_type": "code",
   "execution_count": 9,
   "id": "71cc6c76",
   "metadata": {},
   "outputs": [],
   "source": [
    "dataset_empedings = np.zeros([1, embbeding_size])\n",
    "dataset_labels = np.array([])\n",
    "j = 0\n",
    "\n",
    "for i in data[\"text\"]:\n",
    "    \n",
    "    dataset_labels = np.append(dataset_labels, data[\"class\"][j])\n",
    "    \n",
    "    txtTensor = tf.convert_to_tensor([i], dtype=tf.string)\n",
    "    intermediate_output = intermediate_layer_model(txtTensor)\n",
    "    \n",
    "    sentence_embeding = intermediate_output.numpy()\n",
    "    #print(sentence_embeding.shape)\n",
    "    dataset_empedings = np.append(dataset_empedings, sentence_embeding, axis=0)\n",
    "    \n",
    "    j += 1\n",
    "\n",
    "\n",
    "dataset_empedings = np.delete(dataset_empedings, 0, 0)"
   ]
  },
  {
   "cell_type": "code",
   "execution_count": 10,
   "id": "a4265bae",
   "metadata": {},
   "outputs": [
    {
     "data": {
      "text/plain": [
       "(7115, 96)"
      ]
     },
     "execution_count": 10,
     "metadata": {},
     "output_type": "execute_result"
    }
   ],
   "source": [
    "dataset_empedings.shape"
   ]
  },
  {
   "cell_type": "code",
   "execution_count": 11,
   "id": "a76b4109",
   "metadata": {},
   "outputs": [
    {
     "data": {
      "text/plain": [
       "(7115,)"
      ]
     },
     "execution_count": 11,
     "metadata": {},
     "output_type": "execute_result"
    }
   ],
   "source": [
    "dataset_labels.shape"
   ]
  },
  {
   "cell_type": "markdown",
   "id": "3743b5bb",
   "metadata": {},
   "source": [
    "# Embbedings view on T-SNE"
   ]
  },
  {
   "cell_type": "code",
   "execution_count": 12,
   "id": "8616e978",
   "metadata": {},
   "outputs": [],
   "source": [
    "from sklearn.manifold import TSNE\n",
    "import seaborn as sns"
   ]
  },
  {
   "cell_type": "code",
   "execution_count": 13,
   "id": "d6227d61",
   "metadata": {},
   "outputs": [
    {
     "name": "stderr",
     "output_type": "stream",
     "text": [
      "C:\\Users\\MOHSEN-ASUS\\.conda\\envs\\piptext\\lib\\site-packages\\sklearn\\manifold\\_t_sne.py:780: FutureWarning: The default initialization in TSNE will change from 'random' to 'pca' in 1.2.\n",
      "  warnings.warn(\n",
      "C:\\Users\\MOHSEN-ASUS\\.conda\\envs\\piptext\\lib\\site-packages\\sklearn\\manifold\\_t_sne.py:790: FutureWarning: The default learning rate in TSNE will change from 200.0 to 'auto' in 1.2.\n",
      "  warnings.warn(\n"
     ]
    },
    {
     "name": "stdout",
     "output_type": "stream",
     "text": [
      "[t-SNE] Computing 91 nearest neighbors...\n",
      "[t-SNE] Indexed 7115 samples in 0.001s...\n",
      "[t-SNE] Computed neighbors for 7115 samples in 0.777s...\n",
      "[t-SNE] Computed conditional probabilities for sample 1000 / 7115\n",
      "[t-SNE] Computed conditional probabilities for sample 2000 / 7115\n",
      "[t-SNE] Computed conditional probabilities for sample 3000 / 7115\n",
      "[t-SNE] Computed conditional probabilities for sample 4000 / 7115\n",
      "[t-SNE] Computed conditional probabilities for sample 5000 / 7115\n",
      "[t-SNE] Computed conditional probabilities for sample 6000 / 7115\n",
      "[t-SNE] Computed conditional probabilities for sample 7000 / 7115\n",
      "[t-SNE] Computed conditional probabilities for sample 7115 / 7115\n",
      "[t-SNE] Mean sigma: 0.000000\n",
      "[t-SNE] KL divergence after 250 iterations with early exaggeration: 58.628040\n",
      "[t-SNE] KL divergence after 1000 iterations: 0.828662\n"
     ]
    }
   ],
   "source": [
    "x = dataset_empedings\n",
    "y = dataset_labels \n",
    "\n",
    "tsne = TSNE(n_components=2, verbose=1, random_state=123)\n",
    "z = tsne.fit_transform(x)"
   ]
  },
  {
   "cell_type": "code",
   "execution_count": 14,
   "id": "bb7fa377",
   "metadata": {},
   "outputs": [
    {
     "data": {
      "image/png": "[encoded data removed]",
      "text/plain": [
       "<Figure size 432x288 with 1 Axes>"
      ]
     },
     "metadata": {
      "needs_background": "light"
     },
     "output_type": "display_data"
    }
   ],
   "source": [
    "df = pd.DataFrame()\n",
    "df[\"y\"] = y\n",
    "df[\"comp-1\"] = z[:,0]\n",
    "df[\"comp-2\"] = z[:,1]\n",
    "\n",
    "sns.scatterplot(x=\"comp-1\", y=\"comp-2\", hue=df.y.tolist(),\n",
    "                palette=sns.color_palette(\"hls\", 50),\n",
    "                data=df).set(title=\"mydata T-SNE projection\")\n",
    "plt.legend(bbox_to_anchor=(1.02, 1), loc='upper left', borderaxespad=0)\n",
    "\n",
    "plt.savefig('filename.png', dpi=500)"
   ]
  },
  {
   "cell_type": "markdown",
   "id": "b2096c8a",
   "metadata": {},
   "source": [
    "# TSNE for each class embbedings"
   ]
  },
  {
   "cell_type": "code",
   "execution_count": 104,
   "id": "6153ca42",
   "metadata": {},
   "outputs": [],
   "source": [
    "import pandas as pd\n",
    "import xlsxwriter\n",
    "import numpy as np\n",
    "\n",
    "data = pd.read_csv(r'C:\\Users\\MOHSEN-ASUS\\JupyterProjects\\bert classification\\final_dataset_for_bert.csv')"
   ]
  },
  {
   "cell_type": "code",
   "execution_count": 111,
   "id": "0e427a8e",
   "metadata": {
    "scrolled": true
   },
   "outputs": [],
   "source": [
    "def get_BERTembbedings(text, model):\n",
    "    \n",
    "    text_tensor = tf.convert_to_tensor(text, dtype=tf.string)\n",
    "    model_output = model(text_tensor)\n",
    "    \n",
    "    return model_output[\"pooled_output\"]"
   ]
  },
  {
   "cell_type": "code",
   "execution_count": null,
   "id": "8aa113a3",
   "metadata": {},
   "outputs": [],
   "source": [
    "def save_plot_TSNE(x, label, file_png):\n",
    "    \n",
    "    print(x.shape)\n",
    "    print(label)\n",
    "    \n",
    "    y = np.array([])\n",
    "    for i in x:\n",
    "        y = np.append(y, label)\n",
    "    \n",
    "    tsne = TSNE(n_components=2, verbose=1, random_state=123)\n",
    "    z = tsne.fit_transform(x)\n",
    "    \n",
    "    df = pd.DataFrame()\n",
    "    df[\"y\"] = y\n",
    "    df[\"comp-1\"] = z[:,0]\n",
    "    df[\"comp-2\"] = z[:,1]\n",
    "\n",
    "    sns.scatterplot(x=\"comp-1\", y=\"comp-2\", hue=df.y.tolist(),\n",
    "                    palette=sns.color_palette(\"hls\", 50),\n",
    "                    data=df).set(title=\"mydata T-SNE projection\")\n",
    "    plt.legend(bbox_to_anchor=(1.02, 1), loc='upper left', borderaxespad=0)\n",
    "\n",
    "    plt.savefig(file_png, dpi=300)"
   ]
  },
  {
   "cell_type": "code",
   "execution_count": 127,
   "id": "56bb9212",
   "metadata": {},
   "outputs": [],
   "source": [
    "def TSNE_each_classEmbbeding(dataset, BERT, embbeding_size=768):\n",
    "    \n",
    "    # you should know the column name (in this case the name is \"class\") which has class values\n",
    "    class_names = data[\"class\"].unique()\n",
    "    \n",
    "    for i in class_names:\n",
    "        \n",
    "        # getting all of the texts belong to class i\n",
    "        class_texts = dataset[dataset[\"class\"] == i]\n",
    "        \n",
    "        # in the line below i am creating a zero array to append my embbedings to it (i dont know how to do it without creating a zero)\n",
    "        class_texts_embbedings = np.zeros([1, embbeding_size])\n",
    "        \n",
    "        for j in class_texts:\n",
    "            \n",
    "            # obtaining embbedings of class i texts using \"get_BERTembbedings\" and appending them to an array\n",
    "            class_texts_embbedings = np.append(get_BERTembbedings(j, BERT), class_texts_embbedings, axis=0)\n",
    "        \n",
    "        # deleting the zero array from the first row\n",
    "        class_texts_embbedings = np.delete(class_texts_embbedings, 0, 0)\n",
    "        \n",
    "        # saving TSNE plot of each class embbedings\n",
    "        save_plot_TSNE(class_texts_embbedings, i, i)\n",
    "        "
   ]
  },
  {
   "cell_type": "code",
   "execution_count": 128,
   "id": "d498d5f1",
   "metadata": {},
   "outputs": [
    {
     "ename": "ValueError",
     "evalue": "Exception encountered when calling layer \"preprocessing\" (type KerasLayer).\n\nCould not find matching concrete function to call loaded from the SavedModel. Got:\n  Positional arguments (2 total):\n    * Tensor(\"inputs:0\", shape=(), dtype=string)\n    * False\n  Keyword arguments: {}\n\n Expected these arguments to match one of the following 2 option(s):\n\nOption 1:\n  Positional arguments (2 total):\n    * TensorSpec(shape=(None,), dtype=tf.string, name='inputs')\n    * False\n  Keyword arguments: {}\n\nOption 2:\n  Positional arguments (2 total):\n    * TensorSpec(shape=(None,), dtype=tf.string, name='inputs')\n    * True\n  Keyword arguments: {}\n\nCall arguments received:\n  • args=('tf.Tensor(shape=(), dtype=string)',)\n  • kwargs={'training': 'False'}",
     "output_type": "error",
     "traceback": [
      "\u001b[1;31m---------------------------------------------------------------------------\u001b[0m",
      "\u001b[1;31mValueError\u001b[0m                                Traceback (most recent call last)",
      "Input \u001b[1;32mIn [128]\u001b[0m, in \u001b[0;36m<cell line: 1>\u001b[1;34m()\u001b[0m\n\u001b[1;32m----> 1\u001b[0m \u001b[43mTSNE_each_classEmbbeding\u001b[49m\u001b[43m(\u001b[49m\u001b[43mdata\u001b[49m\u001b[43m,\u001b[49m\u001b[43m \u001b[49m\u001b[43mintermediate_layer_model\u001b[49m\u001b[43m)\u001b[49m\n",
      "Input \u001b[1;32mIn [127]\u001b[0m, in \u001b[0;36mTSNE_each_classEmbbeding\u001b[1;34m(dataset, BERT, embbeding_size)\u001b[0m\n\u001b[0;32m     12\u001b[0m class_texts_embbedings \u001b[38;5;241m=\u001b[39m np\u001b[38;5;241m.\u001b[39mzeros([\u001b[38;5;241m1\u001b[39m, embbeding_size])\n\u001b[0;32m     14\u001b[0m \u001b[38;5;28;01mfor\u001b[39;00m j \u001b[38;5;129;01min\u001b[39;00m class_texts:\n\u001b[0;32m     15\u001b[0m     \n\u001b[0;32m     16\u001b[0m     \u001b[38;5;66;03m# obtaining embbedings of class i texts using \"get_BERTembbedings\" and appending them to an array\u001b[39;00m\n\u001b[1;32m---> 17\u001b[0m     class_texts_embbedings \u001b[38;5;241m=\u001b[39m np\u001b[38;5;241m.\u001b[39mappend(\u001b[43mget_BERTembbedings\u001b[49m\u001b[43m(\u001b[49m\u001b[43mj\u001b[49m\u001b[43m,\u001b[49m\u001b[43m \u001b[49m\u001b[43mBERT\u001b[49m\u001b[43m)\u001b[49m, class_texts_embbedings, axis\u001b[38;5;241m=\u001b[39m\u001b[38;5;241m0\u001b[39m)\n\u001b[0;32m     19\u001b[0m \u001b[38;5;66;03m# deleting the zero array from the first row\u001b[39;00m\n\u001b[0;32m     20\u001b[0m class_texts_embbedings \u001b[38;5;241m=\u001b[39m np\u001b[38;5;241m.\u001b[39mdelete(class_texts_embbedings, \u001b[38;5;241m0\u001b[39m, \u001b[38;5;241m0\u001b[39m)\n",
      "Input \u001b[1;32mIn [111]\u001b[0m, in \u001b[0;36mget_BERTembbedings\u001b[1;34m(text, model)\u001b[0m\n\u001b[0;32m      1\u001b[0m \u001b[38;5;28;01mdef\u001b[39;00m \u001b[38;5;21mget_BERTembbedings\u001b[39m(text, model):\n\u001b[0;32m      3\u001b[0m     text_tensor \u001b[38;5;241m=\u001b[39m tf\u001b[38;5;241m.\u001b[39mconvert_to_tensor(text, dtype\u001b[38;5;241m=\u001b[39mtf\u001b[38;5;241m.\u001b[39mstring)\n\u001b[1;32m----> 4\u001b[0m     model_output \u001b[38;5;241m=\u001b[39m \u001b[43mmodel\u001b[49m\u001b[43m(\u001b[49m\u001b[43mtext_tensor\u001b[49m\u001b[43m)\u001b[49m\n\u001b[0;32m      6\u001b[0m     \u001b[38;5;28;01mreturn\u001b[39;00m model_output[\u001b[38;5;124m\"\u001b[39m\u001b[38;5;124mpooled_output\u001b[39m\u001b[38;5;124m\"\u001b[39m]\n",
      "File \u001b[1;32m~\\.conda\\envs\\piptext\\lib\\site-packages\\keras\\utils\\traceback_utils.py:67\u001b[0m, in \u001b[0;36mfilter_traceback.<locals>.error_handler\u001b[1;34m(*args, **kwargs)\u001b[0m\n\u001b[0;32m     65\u001b[0m \u001b[38;5;28;01mexcept\u001b[39;00m \u001b[38;5;167;01mException\u001b[39;00m \u001b[38;5;28;01mas\u001b[39;00m e:  \u001b[38;5;66;03m# pylint: disable=broad-except\u001b[39;00m\n\u001b[0;32m     66\u001b[0m   filtered_tb \u001b[38;5;241m=\u001b[39m _process_traceback_frames(e\u001b[38;5;241m.\u001b[39m__traceback__)\n\u001b[1;32m---> 67\u001b[0m   \u001b[38;5;28;01mraise\u001b[39;00m e\u001b[38;5;241m.\u001b[39mwith_traceback(filtered_tb) \u001b[38;5;28;01mfrom\u001b[39;00m \u001b[38;5;28mNone\u001b[39m\n\u001b[0;32m     68\u001b[0m \u001b[38;5;28;01mfinally\u001b[39;00m:\n\u001b[0;32m     69\u001b[0m   \u001b[38;5;28;01mdel\u001b[39;00m filtered_tb\n",
      "File \u001b[1;32m~\\.conda\\envs\\piptext\\lib\\site-packages\\tensorflow\\python\\saved_model\\function_deserialization.py:283\u001b[0m, in \u001b[0;36mrecreate_function.<locals>.restored_function_body\u001b[1;34m(*args, **kwargs)\u001b[0m\n\u001b[0;32m    279\u001b[0m   positional, keyword \u001b[38;5;241m=\u001b[39m concrete_function\u001b[38;5;241m.\u001b[39mstructured_input_signature\n\u001b[0;32m    280\u001b[0m   signature_descriptions\u001b[38;5;241m.\u001b[39mappend(\n\u001b[0;32m    281\u001b[0m       \u001b[38;5;124m\"\u001b[39m\u001b[38;5;124mOption \u001b[39m\u001b[38;5;132;01m{}\u001b[39;00m\u001b[38;5;124m:\u001b[39m\u001b[38;5;130;01m\\n\u001b[39;00m\u001b[38;5;124m  \u001b[39m\u001b[38;5;132;01m{}\u001b[39;00m\u001b[38;5;130;01m\\n\u001b[39;00m\u001b[38;5;124m  Keyword arguments: \u001b[39m\u001b[38;5;132;01m{}\u001b[39;00m\u001b[38;5;124m\"\u001b[39m\n\u001b[0;32m    282\u001b[0m       \u001b[38;5;241m.\u001b[39mformat(index \u001b[38;5;241m+\u001b[39m \u001b[38;5;241m1\u001b[39m, _pretty_format_positional(positional), keyword))\n\u001b[1;32m--> 283\u001b[0m \u001b[38;5;28;01mraise\u001b[39;00m \u001b[38;5;167;01mValueError\u001b[39;00m(\n\u001b[0;32m    284\u001b[0m     \u001b[38;5;124m\"\u001b[39m\u001b[38;5;124mCould not find matching concrete function to call loaded from the \u001b[39m\u001b[38;5;124m\"\u001b[39m\n\u001b[0;32m    285\u001b[0m     \u001b[38;5;124mf\u001b[39m\u001b[38;5;124m\"\u001b[39m\u001b[38;5;124mSavedModel. Got:\u001b[39m\u001b[38;5;130;01m\\n\u001b[39;00m\u001b[38;5;124m  \u001b[39m\u001b[38;5;132;01m{\u001b[39;00m_pretty_format_positional(args)\u001b[38;5;132;01m}\u001b[39;00m\u001b[38;5;130;01m\\n\u001b[39;00m\u001b[38;5;124m  Keyword \u001b[39m\u001b[38;5;124m\"\u001b[39m\n\u001b[0;32m    286\u001b[0m     \u001b[38;5;124mf\u001b[39m\u001b[38;5;124m\"\u001b[39m\u001b[38;5;124marguments: \u001b[39m\u001b[38;5;132;01m{\u001b[39;00mkwargs\u001b[38;5;132;01m}\u001b[39;00m\u001b[38;5;130;01m\\n\u001b[39;00m\u001b[38;5;130;01m\\n\u001b[39;00m\u001b[38;5;124m Expected these arguments to match one of the \u001b[39m\u001b[38;5;124m\"\u001b[39m\n\u001b[0;32m    287\u001b[0m     \u001b[38;5;124mf\u001b[39m\u001b[38;5;124m\"\u001b[39m\u001b[38;5;124mfollowing \u001b[39m\u001b[38;5;132;01m{\u001b[39;00m\u001b[38;5;28mlen\u001b[39m(saved_function\u001b[38;5;241m.\u001b[39mconcrete_functions)\u001b[38;5;132;01m}\u001b[39;00m\u001b[38;5;124m option(s):\u001b[39m\u001b[38;5;130;01m\\n\u001b[39;00m\u001b[38;5;130;01m\\n\u001b[39;00m\u001b[38;5;124m\"\u001b[39m\n\u001b[0;32m    288\u001b[0m     \u001b[38;5;124mf\u001b[39m\u001b[38;5;124m\"\u001b[39m\u001b[38;5;132;01m{\u001b[39;00m(\u001b[38;5;28mchr\u001b[39m(\u001b[38;5;241m10\u001b[39m)\u001b[38;5;241m+\u001b[39m\u001b[38;5;28mchr\u001b[39m(\u001b[38;5;241m10\u001b[39m))\u001b[38;5;241m.\u001b[39mjoin(signature_descriptions)\u001b[38;5;132;01m}\u001b[39;00m\u001b[38;5;124m\"\u001b[39m)\n",
      "\u001b[1;31mValueError\u001b[0m: Exception encountered when calling layer \"preprocessing\" (type KerasLayer).\n\nCould not find matching concrete function to call loaded from the SavedModel. Got:\n  Positional arguments (2 total):\n    * Tensor(\"inputs:0\", shape=(), dtype=string)\n    * False\n  Keyword arguments: {}\n\n Expected these arguments to match one of the following 2 option(s):\n\nOption 1:\n  Positional arguments (2 total):\n    * TensorSpec(shape=(None,), dtype=tf.string, name='inputs')\n    * False\n  Keyword arguments: {}\n\nOption 2:\n  Positional arguments (2 total):\n    * TensorSpec(shape=(None,), dtype=tf.string, name='inputs')\n    * True\n  Keyword arguments: {}\n\nCall arguments received:\n  • args=('tf.Tensor(shape=(), dtype=string)',)\n  • kwargs={'training': 'False'}"
     ]
    }
   ],
   "source": [
    "TSNE_each_classEmbbeding(data, intermediate_layer_model)"
   ]
  },
  {
   "cell_type": "code",
   "execution_count": null,
   "id": "87da43b8",
   "metadata": {},
   "outputs": [],
   "source": []
  },
  {
   "cell_type": "code",
   "execution_count": 113,
   "id": "218eb368",
   "metadata": {},
   "outputs": [
    {
     "data": {
      "text/plain": [
       "(50,)"
      ]
     },
     "execution_count": 113,
     "metadata": {},
     "output_type": "execute_result"
    }
   ],
   "source": [
    "class_names = data[\"class\"].unique()\n",
    "class_names.shape"
   ]
  },
  {
   "cell_type": "code",
   "execution_count": 123,
   "id": "303f70e8",
   "metadata": {},
   "outputs": [
    {
     "name": "stdout",
     "output_type": "stream",
     "text": [
      "Antelope\n"
     ]
    },
    {
     "data": {
      "text/plain": [
       "(59,)"
      ]
     },
     "execution_count": 123,
     "metadata": {},
     "output_type": "execute_result"
    }
   ],
   "source": [
    "behnam = data[data[\"class\"] == class_names[0]]\n",
    "label = behnam[\"class\"][0]\n",
    "print(label)\n",
    "y = np.array([])\n",
    "for i in behnam[\"text\"]:\n",
    "    y = np.append(y, label)\n",
    "    \n",
    "y.shape"
   ]
  },
  {
   "cell_type": "code",
   "execution_count": null,
   "id": "2c19de70",
   "metadata": {},
   "outputs": [],
   "source": []
  },
  {
   "cell_type": "code",
   "execution_count": null,
   "id": "e915a53e",
   "metadata": {},
   "outputs": [],
   "source": []
  },
  {
   "cell_type": "code",
   "execution_count": null,
   "id": "de4e765d",
   "metadata": {},
   "outputs": [],
   "source": []
  },
  {
   "cell_type": "code",
   "execution_count": null,
   "id": "9d72cb44",
   "metadata": {},
   "outputs": [],
   "source": []
  },
  {
   "cell_type": "markdown",
   "id": "1e67ee08",
   "metadata": {},
   "source": [
    "# Test blocks"
   ]
  },
  {
   "cell_type": "code",
   "execution_count": 40,
   "id": "66fe504d",
   "metadata": {},
   "outputs": [],
   "source": [
    "test_text = \"behnam\"\n",
    "probs = loaded_model.predict([test_text])"
   ]
  },
  {
   "cell_type": "code",
   "execution_count": 42,
   "id": "fcdac6bb",
   "metadata": {},
   "outputs": [
    {
     "name": "stdout",
     "output_type": "stream",
     "text": [
      "[[9.8559868e-01 3.5122331e-04 2.4117078e-04 4.5487666e-04 9.1990281e-05\n",
      "  3.6703621e-04 2.6911215e-04 8.9518646e-05 5.6429714e-04 1.1563933e-04\n",
      "  2.2724384e-04 3.6333693e-04 6.1131787e-04 1.8161589e-04 4.4743231e-04\n",
      "  2.6473208e-04 7.7458040e-05 3.5198613e-05 1.2694254e-03 4.7917501e-04\n",
      "  1.1139001e-04 3.1529050e-04 5.9277413e-04 1.2952139e-04 4.4515467e-04\n",
      "  1.2069105e-04 6.0655686e-05 4.8951019e-04 7.6888617e-05 1.5119322e-04\n",
      "  3.9288410e-04 8.4487263e-05 6.0229190e-04 1.9582360e-04 4.5138022e-05\n",
      "  6.7228073e-05 9.5488504e-05 6.8909238e-04 1.4111183e-04 3.5351730e-04\n",
      "  2.3887304e-04 1.0730186e-04 4.8800441e-05 3.9194722e-04 7.1938754e-05\n",
      "  2.6265942e-04 3.0520180e-04 1.2587366e-04 6.4275716e-04 5.4395752e-04]]\n"
     ]
    }
   ],
   "source": [
    "print(probs)"
   ]
  },
  {
   "cell_type": "code",
   "execution_count": 10,
   "id": "f6b8cff3",
   "metadata": {},
   "outputs": [
    {
     "ename": "NameError",
     "evalue": "name 'epochs' is not defined",
     "output_type": "error",
     "traceback": [
      "\u001b[1;31m---------------------------------------------------------------------------\u001b[0m",
      "\u001b[1;31mNameError\u001b[0m                                 Traceback (most recent call last)",
      "Input \u001b[1;32mIn [10]\u001b[0m, in \u001b[0;36m<cell line: 2>\u001b[1;34m()\u001b[0m\n\u001b[0;32m      1\u001b[0m steps_per_epoch \u001b[38;5;241m=\u001b[39m tf\u001b[38;5;241m.\u001b[39mdata\u001b[38;5;241m.\u001b[39mexperimental\u001b[38;5;241m.\u001b[39mcardinality(train_ds)\u001b[38;5;241m.\u001b[39mnumpy()\n\u001b[1;32m----> 2\u001b[0m num_train_steps \u001b[38;5;241m=\u001b[39m steps_per_epoch \u001b[38;5;241m*\u001b[39m \u001b[43mepochs\u001b[49m\n\u001b[0;32m      3\u001b[0m num_warmup_steps \u001b[38;5;241m=\u001b[39m \u001b[38;5;28mint\u001b[39m(\u001b[38;5;241m0.1\u001b[39m\u001b[38;5;241m*\u001b[39mnum_train_steps)\n\u001b[0;32m      5\u001b[0m init_lr \u001b[38;5;241m=\u001b[39m \u001b[38;5;241m3e-5\u001b[39m\n",
      "\u001b[1;31mNameError\u001b[0m: name 'epochs' is not defined"
     ]
    }
   ],
   "source": [
    "steps_per_epoch = tf.data.experimental.cardinality(train_ds).numpy()\n",
    "num_train_steps = steps_per_epoch * epochs\n",
    "num_warmup_steps = int(0.1*num_train_steps)\n",
    "\n",
    "init_lr = 3e-5\n",
    "optimizer = optimization.create_optimizer(init_lr=init_lr,\n",
    "                                          num_train_steps=num_train_steps,\n",
    "                                          num_warmup_steps=num_warmup_steps,\n",
    "                                          optimizer_type='adamw')"
   ]
  },
  {
   "cell_type": "code",
   "execution_count": null,
   "id": "297cffca",
   "metadata": {},
   "outputs": [],
   "source": [
    "#optimizer = tf.keras.optimizers.Adam(learning_rate=1e-5, decay=1e-6)"
   ]
  },
  {
   "cell_type": "code",
   "execution_count": null,
   "id": "00655b7e",
   "metadata": {},
   "outputs": [],
   "source": [
    "# original optimizer\n",
    "####################################################################################\n",
    "# steps_per_epoch = tf.data.experimental.cardinality(train_ds).numpy()\n",
    "# num_train_steps = steps_per_epoch * epochs\n",
    "# num_warmup_steps = int(0.1*num_train_steps)\n",
    "\n",
    "# init_lr = 3e-5\n",
    "# optimizer = optimization.create_optimizer(init_lr=init_lr,\n",
    "#                                           num_train_steps=num_train_steps,\n",
    "#                                           num_warmup_steps=num_warmup_steps,\n",
    "#                                           optimizer_type='adamw')\n",
    "####################################################################################"
   ]
  }
 ],
 "metadata": {
  "kernelspec": {
   "display_name": "piptext",
   "language": "python",
   "name": "piptext"
  },
  "language_info": {
   "codemirror_mode": {
    "name": "ipython",
    "version": 3
   },
   "file_extension": ".py",
   "mimetype": "text/x-python",
   "name": "python",
   "nbconvert_exporter": "python",
   "pygments_lexer": "ipython3",
   "version": "3.8.13"
  }
 },
 "nbformat": 4,
 "nbformat_minor": 5
}
