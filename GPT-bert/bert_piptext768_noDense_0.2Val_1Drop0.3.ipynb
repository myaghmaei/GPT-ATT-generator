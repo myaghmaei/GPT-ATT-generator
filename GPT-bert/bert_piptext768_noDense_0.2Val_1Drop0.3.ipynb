{
 "cells": [
  {
   "cell_type": "markdown",
   "id": "402a6407",
   "metadata": {},
   "source": [
    "# Training BERT given mydataset"
   ]
  },
  {
   "cell_type": "code",
   "execution_count": 1,
   "id": "6c0d5ca8",
   "metadata": {},
   "outputs": [],
   "source": [
    "import os\n",
    "import shutil\n",
    "\n",
    "import tensorflow as tf\n",
    "import tensorflow_hub as hub\n",
    "import tensorflow_text as text\n",
    "from official.nlp import optimization  # to create AdamW optimizer\n",
    "from keras.callbacks import ModelCheckpoint\n",
    "from keras.models import load_model\n",
    "\n",
    "import matplotlib.pyplot as plt\n",
    "\n",
    "tf.get_logger().setLevel('ERROR')"
   ]
  },
  {
   "cell_type": "code",
   "execution_count": 2,
   "id": "023be02d",
   "metadata": {},
   "outputs": [
    {
     "name": "stdout",
     "output_type": "stream",
     "text": [
      "Num GPUs Available:  1\n"
     ]
    }
   ],
   "source": [
    "print(\"Num GPUs Available: \", len(tf.config.list_physical_devices('GPU')))\n"
   ]
  },
  {
   "cell_type": "code",
   "execution_count": 3,
   "id": "9124e894",
   "metadata": {},
   "outputs": [
    {
     "name": "stdout",
     "output_type": "stream",
     "text": [
      "Found 1000 files belonging to 50 classes.\n",
      "Using 800 files for training.\n",
      "Found 1000 files belonging to 50 classes.\n",
      "Using 200 files for validation.\n"
     ]
    }
   ],
   "source": [
    "#creating dataset for BERT\n",
    "\n",
    "AUTOTUNE = tf.data.AUTOTUNE\n",
    "batch_size = 16\n",
    "seed = 32\n",
    "\n",
    "raw_train_ds = tf.keras.utils.text_dataset_from_directory(\n",
    "    'final_bert_dataset',\n",
    "    batch_size=batch_size,\n",
    "    validation_split=0.2,\n",
    "    subset='training',\n",
    "    shuffle=True,\n",
    "    label_mode='categorical',\n",
    "    seed=seed)\n",
    "train_ds = raw_train_ds.cache().prefetch(buffer_size=AUTOTUNE)\n",
    "\n",
    "val_ds = tf.keras.utils.text_dataset_from_directory(\n",
    "    'final_bert_dataset',\n",
    "    batch_size=batch_size,\n",
    "    validation_split=0.2,\n",
    "    subset='validation',\n",
    "    shuffle=True,\n",
    "    label_mode='categorical',\n",
    "    seed=seed)\n",
    "val_ds = val_ds.cache().prefetch(buffer_size=AUTOTUNE)\n",
    "\n",
    "class_names = raw_train_ds.class_names"
   ]
  },
  {
   "cell_type": "code",
   "execution_count": 6,
   "id": "b0f7485c",
   "metadata": {},
   "outputs": [],
   "source": [
    "#downloading preprocess model and Bert model\n",
    "\n",
    "tfhub_handle_encoder = 'https://tfhub.dev/tensorflow/bert_en_uncased_L-12_H-768_A-12/4'\n",
    "tfhub_handle_preprocess = 'https://tfhub.dev/tensorflow/bert_en_uncased_preprocess/3'\n",
    "\n",
    "bert_preprocess_model = hub.KerasLayer(tfhub_handle_preprocess)\n",
    "bert_model = hub.KerasLayer(tfhub_handle_encoder)"
   ]
  },
  {
   "cell_type": "code",
   "execution_count": 7,
   "id": "f11d04df",
   "metadata": {},
   "outputs": [
    {
     "name": "stdout",
     "output_type": "stream",
     "text": [
      "Keys       : ['input_type_ids', 'input_word_ids', 'input_mask']\n",
      "Shape      : (1, 128)\n",
      "Word Ids   : [ 101 2023 2003 2107 2019 6429 3185  999  102    0    0    0]\n",
      "Input Mask : [1 1 1 1 1 1 1 1 1 0 0 0]\n",
      "Type Ids   : [0 0 0 0 0 0 0 0 0 0 0 0]\n"
     ]
    }
   ],
   "source": [
    "#testing the preprocess model\n",
    "\n",
    "text_test = ['this is such an amazing movie!']\n",
    "text_preprocessed = bert_preprocess_model(text_test)\n",
    "\n",
    "print(f'Keys       : {list(text_preprocessed.keys())}')\n",
    "print(f'Shape      : {text_preprocessed[\"input_word_ids\"].shape}')\n",
    "print(f'Word Ids   : {text_preprocessed[\"input_word_ids\"][0, :12]}')\n",
    "print(f'Input Mask : {text_preprocessed[\"input_mask\"][0, :12]}')\n",
    "print(f'Type Ids   : {text_preprocessed[\"input_type_ids\"][0, :12]}')"
   ]
  },
  {
   "cell_type": "code",
   "execution_count": 8,
   "id": "2b2f0d60",
   "metadata": {},
   "outputs": [
    {
     "name": "stdout",
     "output_type": "stream",
     "text": [
      "Loaded BERT: https://tfhub.dev/tensorflow/bert_en_uncased_L-12_H-768_A-12/4\n",
      "----\n",
      "Pooled Outputs Shape:(1, 768)\n",
      "----\n",
      "Pooled Outputs Values:[-0.9216116  -0.39333072 -0.5387545   0.68229514  0.43816    -0.14001045\n",
      "  0.8773655   0.26032025 -0.6307239  -0.9999657  -0.26284206  0.85081995]\n",
      "----\n",
      "Sequence Outputs Shape:(1, 128, 768)\n",
      "----\n",
      "Sequence Outputs Values:[[ 0.19436876  0.2509688   0.19051474 ... -0.24828759  0.38553947\n",
      "   0.1329951 ]\n",
      " [-0.594566   -0.39402184  0.2527799  ... -0.76929235  1.155868\n",
      "   0.3248655 ]\n",
      " [ 0.00628068 -0.15767251  0.5466162  ... -0.17402229  0.6029077\n",
      "   0.426998  ]\n",
      " ...\n",
      " [ 0.2200106  -0.2089951   0.53832436 ...  0.2474025   0.182352\n",
      "  -0.4443757 ]\n",
      " [ 0.01104671 -0.44551998  0.35960633 ...  0.3172928   0.23566316\n",
      "  -0.6308622 ]\n",
      " [ 0.29332292 -0.10542406  0.6111842  ...  0.20748322  0.14445798\n",
      "  -0.35356426]]\n"
     ]
    }
   ],
   "source": [
    "#testing the BERT model\n",
    "\n",
    "bert_results = bert_model(text_preprocessed)\n",
    "\n",
    "print(f'Loaded BERT: {tfhub_handle_encoder}')\n",
    "print(\"----\")\n",
    "print(f'Pooled Outputs Shape:{bert_results[\"pooled_output\"].shape}')\n",
    "print(\"----\")\n",
    "print(f'Pooled Outputs Values:{bert_results[\"pooled_output\"][0, :12]}')\n",
    "print(\"----\")\n",
    "print(f'Sequence Outputs Shape:{bert_results[\"sequence_output\"].shape}')\n",
    "print(\"----\")\n",
    "print(f'Sequence Outputs Values:{bert_results[\"sequence_output\"][0, :12]}')"
   ]
  },
  {
   "cell_type": "code",
   "execution_count": 9,
   "id": "aca39c21",
   "metadata": {},
   "outputs": [],
   "source": [
    "#creating the classification model (including preprocess, bert encoder, classifier)\n",
    "\n",
    "def build_classifier_model():\n",
    "    text_input = tf.keras.layers.Input(shape=(), dtype=tf.string, name='text')\n",
    "    preprocessing_layer = hub.KerasLayer(tfhub_handle_preprocess, name='preprocessing')\n",
    "    encoder_inputs = preprocessing_layer(text_input)\n",
    "    encoder = hub.KerasLayer(tfhub_handle_encoder, trainable=True, name='BERT_encoder')\n",
    "    outputs = encoder(encoder_inputs)\n",
    "    net = outputs['pooled_output']\n",
    "    \n",
    "    net = tf.keras.layers.Dropout(0.3)(net)\n",
    "    classifier = tf.keras.layers.Dense(50, activation='softmax', name='classifier')(net)\n",
    "    \n",
    "    return tf.keras.Model(text_input, classifier)"
   ]
  },
  {
   "cell_type": "code",
   "execution_count": 10,
   "id": "84e24e9b",
   "metadata": {},
   "outputs": [
    {
     "name": "stdout",
     "output_type": "stream",
     "text": [
      "You must install pydot (`pip install pydot`) and install graphviz (see instructions at https://graphviz.gitlab.io/download/) for plot_model/model_to_dot to work.\n"
     ]
    }
   ],
   "source": [
    "#creating an instance of the full model which is named classifier_model\n",
    "\n",
    "classifier_model = build_classifier_model()\n",
    "\n",
    "tf.keras.utils.plot_model(classifier_model)\n"
   ]
  },
  {
   "cell_type": "code",
   "execution_count": 11,
   "id": "51a21297",
   "metadata": {},
   "outputs": [
    {
     "name": "stdout",
     "output_type": "stream",
     "text": [
      "Model: \"model\"\n",
      "__________________________________________________________________________________________________\n",
      " Layer (type)                   Output Shape         Param #     Connected to                     \n",
      "==================================================================================================\n",
      " text (InputLayer)              [(None,)]            0           []                               \n",
      "                                                                                                  \n",
      " preprocessing (KerasLayer)     {'input_word_ids':   0           ['text[0][0]']                   \n",
      "                                (None, 128),                                                      \n",
      "                                 'input_type_ids':                                                \n",
      "                                (None, 128),                                                      \n",
      "                                 'input_mask': (Non                                               \n",
      "                                e, 128)}                                                          \n",
      "                                                                                                  \n",
      " BERT_encoder (KerasLayer)      {'sequence_output':  109482241   ['preprocessing[0][0]',          \n",
      "                                 (None, 128, 768),                'preprocessing[0][1]',          \n",
      "                                 'pooled_output': (               'preprocessing[0][2]']          \n",
      "                                None, 768),                                                       \n",
      "                                 'encoder_outputs':                                               \n",
      "                                 [(None, 128, 768),                                               \n",
      "                                 (None, 128, 768),                                                \n",
      "                                 (None, 128, 768),                                                \n",
      "                                 (None, 128, 768),                                                \n",
      "                                 (None, 128, 768),                                                \n",
      "                                 (None, 128, 768),                                                \n",
      "                                 (None, 128, 768),                                                \n",
      "                                 (None, 128, 768),                                                \n",
      "                                 (None, 128, 768),                                                \n",
      "                                 (None, 128, 768),                                                \n",
      "                                 (None, 128, 768),                                                \n",
      "                                 (None, 128, 768)],                                               \n",
      "                                 'default': (None,                                                \n",
      "                                768)}                                                             \n",
      "                                                                                                  \n",
      " dropout (Dropout)              (None, 768)          0           ['BERT_encoder[0][13]']          \n",
      "                                                                                                  \n",
      " classifier (Dense)             (None, 50)           38450       ['dropout[0][0]']                \n",
      "                                                                                                  \n",
      "==================================================================================================\n",
      "Total params: 109,520,691\n",
      "Trainable params: 109,520,690\n",
      "Non-trainable params: 1\n",
      "__________________________________________________________________________________________________\n"
     ]
    }
   ],
   "source": [
    "classifier_model.summary()"
   ]
  },
  {
   "cell_type": "code",
   "execution_count": 12,
   "id": "8f3f08d2",
   "metadata": {},
   "outputs": [],
   "source": [
    "loss = tf.keras.losses.CategoricalCrossentropy()\n",
    "metrics = tf.keras.metrics.CategoricalAccuracy('accuracy')\n",
    "\n",
    "epochs = 50\n",
    "\n",
    "# defining the new optimizer\n",
    "\n",
    "optimizer = tf.keras.optimizers.Adam(learning_rate=1e-5, decay=1e-6)\n",
    "\n",
    "classifier_model.compile(optimizer=optimizer, loss=loss, metrics=metrics)"
   ]
  },
  {
   "cell_type": "code",
   "execution_count": 13,
   "id": "3160e216",
   "metadata": {
    "scrolled": false
   },
   "outputs": [
    {
     "name": "stdout",
     "output_type": "stream",
     "text": [
      "Training model with https://tfhub.dev/tensorflow/bert_en_uncased_L-12_H-768_A-12/4\n",
      "Epoch 1/50\n",
      "50/50 [==============================] - ETA: 0s - loss: 4.0484 - accuracy: 0.0275\n",
      "Epoch 1: val_accuracy improved from -inf to 0.07500, saving model to d:\\model-improvement-01-0.08\n"
     ]
    },
    {
     "name": "stderr",
     "output_type": "stream",
     "text": [
      "WARNING:absl:Found untraced functions such as restored_function_body, restored_function_body, restored_function_body, restored_function_body, restored_function_body while saving (showing 5 of 366). These functions will not be directly callable after loading.\n"
     ]
    },
    {
     "name": "stdout",
     "output_type": "stream",
     "text": [
      "50/50 [==============================] - 40s 599ms/step - loss: 4.0484 - accuracy: 0.0275 - val_loss: 3.7899 - val_accuracy: 0.0750\n",
      "Epoch 2/50\n",
      "50/50 [==============================] - ETA: 0s - loss: 3.7430 - accuracy: 0.0700\n",
      "Epoch 2: val_accuracy improved from 0.07500 to 0.12500, saving model to d:\\model-improvement-02-0.12\n"
     ]
    },
    {
     "name": "stderr",
     "output_type": "stream",
     "text": [
      "WARNING:absl:Found untraced functions such as restored_function_body, restored_function_body, restored_function_body, restored_function_body, restored_function_body while saving (showing 5 of 366). These functions will not be directly callable after loading.\n"
     ]
    },
    {
     "name": "stdout",
     "output_type": "stream",
     "text": [
      "50/50 [==============================] - 28s 565ms/step - loss: 3.7430 - accuracy: 0.0700 - val_loss: 3.5440 - val_accuracy: 0.1250\n",
      "Epoch 3/50\n",
      "50/50 [==============================] - ETA: 0s - loss: 3.3130 - accuracy: 0.1737\n",
      "Epoch 3: val_accuracy improved from 0.12500 to 0.26000, saving model to d:\\model-improvement-03-0.26\n"
     ]
    },
    {
     "name": "stderr",
     "output_type": "stream",
     "text": [
      "WARNING:absl:Found untraced functions such as restored_function_body, restored_function_body, restored_function_body, restored_function_body, restored_function_body while saving (showing 5 of 366). These functions will not be directly callable after loading.\n"
     ]
    },
    {
     "name": "stdout",
     "output_type": "stream",
     "text": [
      "50/50 [==============================] - 28s 557ms/step - loss: 3.3130 - accuracy: 0.1737 - val_loss: 3.0870 - val_accuracy: 0.2600\n",
      "Epoch 4/50\n",
      "50/50 [==============================] - ETA: 0s - loss: 2.8480 - accuracy: 0.3150\n",
      "Epoch 4: val_accuracy improved from 0.26000 to 0.44000, saving model to d:\\model-improvement-04-0.44\n"
     ]
    },
    {
     "name": "stderr",
     "output_type": "stream",
     "text": [
      "WARNING:absl:Found untraced functions such as restored_function_body, restored_function_body, restored_function_body, restored_function_body, restored_function_body while saving (showing 5 of 366). These functions will not be directly callable after loading.\n"
     ]
    },
    {
     "name": "stdout",
     "output_type": "stream",
     "text": [
      "50/50 [==============================] - 29s 573ms/step - loss: 2.8480 - accuracy: 0.3150 - val_loss: 2.5640 - val_accuracy: 0.4400\n",
      "Epoch 5/50\n",
      "50/50 [==============================] - ETA: 0s - loss: 2.3888 - accuracy: 0.4725\n",
      "Epoch 5: val_accuracy improved from 0.44000 to 0.58500, saving model to d:\\model-improvement-05-0.58\n"
     ]
    },
    {
     "name": "stderr",
     "output_type": "stream",
     "text": [
      "WARNING:absl:Found untraced functions such as restored_function_body, restored_function_body, restored_function_body, restored_function_body, restored_function_body while saving (showing 5 of 366). These functions will not be directly callable after loading.\n"
     ]
    },
    {
     "name": "stdout",
     "output_type": "stream",
     "text": [
      "50/50 [==============================] - 28s 570ms/step - loss: 2.3888 - accuracy: 0.4725 - val_loss: 2.1863 - val_accuracy: 0.5850\n",
      "Epoch 6/50\n",
      "50/50 [==============================] - ETA: 0s - loss: 2.0121 - accuracy: 0.5975\n",
      "Epoch 6: val_accuracy improved from 0.58500 to 0.66500, saving model to d:\\model-improvement-06-0.67\n"
     ]
    },
    {
     "name": "stderr",
     "output_type": "stream",
     "text": [
      "WARNING:absl:Found untraced functions such as restored_function_body, restored_function_body, restored_function_body, restored_function_body, restored_function_body while saving (showing 5 of 366). These functions will not be directly callable after loading.\n"
     ]
    },
    {
     "name": "stdout",
     "output_type": "stream",
     "text": [
      "50/50 [==============================] - 28s 560ms/step - loss: 2.0121 - accuracy: 0.5975 - val_loss: 1.8269 - val_accuracy: 0.6650\n",
      "Epoch 7/50\n",
      "50/50 [==============================] - ETA: 0s - loss: 1.6678 - accuracy: 0.7063\n",
      "Epoch 7: val_accuracy improved from 0.66500 to 0.71500, saving model to d:\\model-improvement-07-0.71\n"
     ]
    },
    {
     "name": "stderr",
     "output_type": "stream",
     "text": [
      "WARNING:absl:Found untraced functions such as restored_function_body, restored_function_body, restored_function_body, restored_function_body, restored_function_body while saving (showing 5 of 366). These functions will not be directly callable after loading.\n"
     ]
    },
    {
     "name": "stdout",
     "output_type": "stream",
     "text": [
      "50/50 [==============================] - 29s 575ms/step - loss: 1.6678 - accuracy: 0.7063 - val_loss: 1.5476 - val_accuracy: 0.7150\n",
      "Epoch 8/50\n",
      "50/50 [==============================] - ETA: 0s - loss: 1.4020 - accuracy: 0.8138\n",
      "Epoch 8: val_accuracy improved from 0.71500 to 0.76000, saving model to d:\\model-improvement-08-0.76\n"
     ]
    },
    {
     "name": "stderr",
     "output_type": "stream",
     "text": [
      "WARNING:absl:Found untraced functions such as restored_function_body, restored_function_body, restored_function_body, restored_function_body, restored_function_body while saving (showing 5 of 366). These functions will not be directly callable after loading.\n"
     ]
    },
    {
     "name": "stdout",
     "output_type": "stream",
     "text": [
      "50/50 [==============================] - 28s 566ms/step - loss: 1.4020 - accuracy: 0.8138 - val_loss: 1.3472 - val_accuracy: 0.7600\n",
      "Epoch 9/50\n",
      "50/50 [==============================] - ETA: 0s - loss: 1.1633 - accuracy: 0.8587\n",
      "Epoch 9: val_accuracy improved from 0.76000 to 0.78000, saving model to d:\\model-improvement-09-0.78\n"
     ]
    },
    {
     "name": "stderr",
     "output_type": "stream",
     "text": [
      "WARNING:absl:Found untraced functions such as restored_function_body, restored_function_body, restored_function_body, restored_function_body, restored_function_body while saving (showing 5 of 366). These functions will not be directly callable after loading.\n"
     ]
    },
    {
     "name": "stdout",
     "output_type": "stream",
     "text": [
      "50/50 [==============================] - 29s 577ms/step - loss: 1.1633 - accuracy: 0.8587 - val_loss: 1.1784 - val_accuracy: 0.7800\n",
      "Epoch 10/50\n",
      "50/50 [==============================] - ETA: 0s - loss: 0.9398 - accuracy: 0.9062\n",
      "Epoch 10: val_accuracy improved from 0.78000 to 0.82500, saving model to d:\\model-improvement-10-0.82\n"
     ]
    },
    {
     "name": "stderr",
     "output_type": "stream",
     "text": [
      "WARNING:absl:Found untraced functions such as restored_function_body, restored_function_body, restored_function_body, restored_function_body, restored_function_body while saving (showing 5 of 366). These functions will not be directly callable after loading.\n"
     ]
    },
    {
     "name": "stdout",
     "output_type": "stream",
     "text": [
      "50/50 [==============================] - 28s 554ms/step - loss: 0.9398 - accuracy: 0.9062 - val_loss: 0.9580 - val_accuracy: 0.8250\n",
      "Epoch 11/50\n",
      "50/50 [==============================] - ETA: 0s - loss: 0.7736 - accuracy: 0.9312\n",
      "Epoch 11: val_accuracy improved from 0.82500 to 0.88000, saving model to d:\\model-improvement-11-0.88\n"
     ]
    },
    {
     "name": "stderr",
     "output_type": "stream",
     "text": [
      "WARNING:absl:Found untraced functions such as restored_function_body, restored_function_body, restored_function_body, restored_function_body, restored_function_body while saving (showing 5 of 366). These functions will not be directly callable after loading.\n"
     ]
    },
    {
     "name": "stdout",
     "output_type": "stream",
     "text": [
      "50/50 [==============================] - 29s 581ms/step - loss: 0.7736 - accuracy: 0.9312 - val_loss: 0.8209 - val_accuracy: 0.8800\n",
      "Epoch 12/50\n",
      "50/50 [==============================] - ETA: 0s - loss: 0.6388 - accuracy: 0.9613\n",
      "Epoch 12: val_accuracy improved from 0.88000 to 0.91000, saving model to d:\\model-improvement-12-0.91\n"
     ]
    },
    {
     "name": "stderr",
     "output_type": "stream",
     "text": [
      "WARNING:absl:Found untraced functions such as restored_function_body, restored_function_body, restored_function_body, restored_function_body, restored_function_body while saving (showing 5 of 366). These functions will not be directly callable after loading.\n"
     ]
    },
    {
     "name": "stdout",
     "output_type": "stream",
     "text": [
      "50/50 [==============================] - 28s 571ms/step - loss: 0.6388 - accuracy: 0.9613 - val_loss: 0.7148 - val_accuracy: 0.9100\n",
      "Epoch 13/50\n",
      "50/50 [==============================] - ETA: 0s - loss: 0.5424 - accuracy: 0.9725\n",
      "Epoch 13: val_accuracy did not improve from 0.91000\n",
      "50/50 [==============================] - 16s 317ms/step - loss: 0.5424 - accuracy: 0.9725 - val_loss: 0.6481 - val_accuracy: 0.9100\n",
      "Epoch 14/50\n",
      "50/50 [==============================] - ETA: 0s - loss: 0.4546 - accuracy: 0.9825\n",
      "Epoch 14: val_accuracy improved from 0.91000 to 0.92000, saving model to d:\\model-improvement-14-0.92\n"
     ]
    },
    {
     "name": "stderr",
     "output_type": "stream",
     "text": [
      "WARNING:absl:Found untraced functions such as restored_function_body, restored_function_body, restored_function_body, restored_function_body, restored_function_body while saving (showing 5 of 366). These functions will not be directly callable after loading.\n"
     ]
    },
    {
     "name": "stdout",
     "output_type": "stream",
     "text": [
      "50/50 [==============================] - 29s 580ms/step - loss: 0.4546 - accuracy: 0.9825 - val_loss: 0.5469 - val_accuracy: 0.9200\n",
      "Epoch 15/50\n",
      "50/50 [==============================] - ETA: 0s - loss: 0.3886 - accuracy: 0.9825\n",
      "Epoch 15: val_accuracy improved from 0.92000 to 0.94500, saving model to d:\\model-improvement-15-0.94\n"
     ]
    },
    {
     "name": "stderr",
     "output_type": "stream",
     "text": [
      "WARNING:absl:Found untraced functions such as restored_function_body, restored_function_body, restored_function_body, restored_function_body, restored_function_body while saving (showing 5 of 366). These functions will not be directly callable after loading.\n"
     ]
    },
    {
     "name": "stdout",
     "output_type": "stream",
     "text": [
      "50/50 [==============================] - 28s 568ms/step - loss: 0.3886 - accuracy: 0.9825 - val_loss: 0.4940 - val_accuracy: 0.9450\n",
      "Epoch 16/50\n",
      "50/50 [==============================] - ETA: 0s - loss: 0.3322 - accuracy: 0.9837\n",
      "Epoch 16: val_accuracy did not improve from 0.94500\n",
      "50/50 [==============================] - 16s 316ms/step - loss: 0.3322 - accuracy: 0.9837 - val_loss: 0.4465 - val_accuracy: 0.9450\n",
      "Epoch 17/50\n",
      "50/50 [==============================] - ETA: 0s - loss: 0.2725 - accuracy: 0.9887\n",
      "Epoch 17: val_accuracy improved from 0.94500 to 0.96000, saving model to d:\\model-improvement-17-0.96\n"
     ]
    },
    {
     "name": "stderr",
     "output_type": "stream",
     "text": [
      "WARNING:absl:Found untraced functions such as restored_function_body, restored_function_body, restored_function_body, restored_function_body, restored_function_body while saving (showing 5 of 366). These functions will not be directly callable after loading.\n"
     ]
    },
    {
     "name": "stdout",
     "output_type": "stream",
     "text": [
      "50/50 [==============================] - 29s 587ms/step - loss: 0.2725 - accuracy: 0.9887 - val_loss: 0.4175 - val_accuracy: 0.9600\n",
      "Epoch 18/50\n",
      "50/50 [==============================] - ETA: 0s - loss: 0.2345 - accuracy: 0.9925\n",
      "Epoch 18: val_accuracy did not improve from 0.96000\n",
      "50/50 [==============================] - 16s 317ms/step - loss: 0.2345 - accuracy: 0.9925 - val_loss: 0.3785 - val_accuracy: 0.9500\n",
      "Epoch 19/50\n",
      "50/50 [==============================] - ETA: 0s - loss: 0.2142 - accuracy: 0.9900\n",
      "Epoch 19: val_accuracy did not improve from 0.96000\n",
      "50/50 [==============================] - 16s 319ms/step - loss: 0.2142 - accuracy: 0.9900 - val_loss: 0.3572 - val_accuracy: 0.9550\n",
      "Epoch 20/50\n",
      "50/50 [==============================] - ETA: 0s - loss: 0.1897 - accuracy: 0.9937\n",
      "Epoch 20: val_accuracy did not improve from 0.96000\n",
      "50/50 [==============================] - 16s 319ms/step - loss: 0.1897 - accuracy: 0.9937 - val_loss: 0.3384 - val_accuracy: 0.9500\n",
      "Epoch 21/50\n",
      "50/50 [==============================] - ETA: 0s - loss: 0.1643 - accuracy: 0.9912\n",
      "Epoch 21: val_accuracy improved from 0.96000 to 0.96500, saving model to d:\\model-improvement-21-0.96\n"
     ]
    },
    {
     "name": "stderr",
     "output_type": "stream",
     "text": [
      "WARNING:absl:Found untraced functions such as restored_function_body, restored_function_body, restored_function_body, restored_function_body, restored_function_body while saving (showing 5 of 366). These functions will not be directly callable after loading.\n"
     ]
    },
    {
     "name": "stdout",
     "output_type": "stream",
     "text": [
      "50/50 [==============================] - 29s 581ms/step - loss: 0.1643 - accuracy: 0.9912 - val_loss: 0.3180 - val_accuracy: 0.9650\n",
      "Epoch 22/50\n",
      "50/50 [==============================] - ETA: 0s - loss: 0.1537 - accuracy: 0.9900\n",
      "Epoch 22: val_accuracy did not improve from 0.96500\n",
      "50/50 [==============================] - 16s 315ms/step - loss: 0.1537 - accuracy: 0.9900 - val_loss: 0.3057 - val_accuracy: 0.9650\n",
      "Epoch 23/50\n",
      "50/50 [==============================] - ETA: 0s - loss: 0.1338 - accuracy: 0.9912\n",
      "Epoch 23: val_accuracy did not improve from 0.96500\n",
      "50/50 [==============================] - 16s 318ms/step - loss: 0.1338 - accuracy: 0.9912 - val_loss: 0.2947 - val_accuracy: 0.9650\n",
      "Epoch 24/50\n",
      "50/50 [==============================] - ETA: 0s - loss: 0.1245 - accuracy: 0.9912\n",
      "Epoch 24: val_accuracy did not improve from 0.96500\n",
      "50/50 [==============================] - 16s 317ms/step - loss: 0.1245 - accuracy: 0.9912 - val_loss: 0.2851 - val_accuracy: 0.9550\n",
      "Epoch 25/50\n",
      "50/50 [==============================] - ETA: 0s - loss: 0.1128 - accuracy: 0.9925\n",
      "Epoch 25: val_accuracy did not improve from 0.96500\n",
      "50/50 [==============================] - 16s 317ms/step - loss: 0.1128 - accuracy: 0.9925 - val_loss: 0.2787 - val_accuracy: 0.9500\n",
      "Epoch 26/50\n",
      "50/50 [==============================] - ETA: 0s - loss: 0.1027 - accuracy: 0.9900\n",
      "Epoch 26: val_accuracy did not improve from 0.96500\n",
      "50/50 [==============================] - 16s 318ms/step - loss: 0.1027 - accuracy: 0.9900 - val_loss: 0.2704 - val_accuracy: 0.9500\n",
      "Epoch 27/50\n",
      "50/50 [==============================] - ETA: 0s - loss: 0.0943 - accuracy: 0.9900\n",
      "Epoch 27: val_accuracy did not improve from 0.96500\n",
      "50/50 [==============================] - 16s 317ms/step - loss: 0.0943 - accuracy: 0.9900 - val_loss: 0.2701 - val_accuracy: 0.9550\n",
      "Epoch 28/50\n",
      "50/50 [==============================] - ETA: 0s - loss: 0.0900 - accuracy: 0.9937\n",
      "Epoch 28: val_accuracy improved from 0.96500 to 0.97000, saving model to d:\\model-improvement-28-0.97\n"
     ]
    },
    {
     "name": "stderr",
     "output_type": "stream",
     "text": [
      "WARNING:absl:Found untraced functions such as restored_function_body, restored_function_body, restored_function_body, restored_function_body, restored_function_body while saving (showing 5 of 366). These functions will not be directly callable after loading.\n"
     ]
    },
    {
     "name": "stdout",
     "output_type": "stream",
     "text": [
      "50/50 [==============================] - 29s 586ms/step - loss: 0.0900 - accuracy: 0.9937 - val_loss: 0.2629 - val_accuracy: 0.9700\n",
      "Epoch 29/50\n",
      "50/50 [==============================] - ETA: 0s - loss: 0.0834 - accuracy: 0.9900\n",
      "Epoch 29: val_accuracy did not improve from 0.97000\n",
      "50/50 [==============================] - 16s 316ms/step - loss: 0.0834 - accuracy: 0.9900 - val_loss: 0.2613 - val_accuracy: 0.9500\n",
      "Epoch 30/50\n",
      "50/50 [==============================] - ETA: 0s - loss: 0.0777 - accuracy: 0.9925\n",
      "Epoch 30: val_accuracy did not improve from 0.97000\n",
      "50/50 [==============================] - 16s 319ms/step - loss: 0.0777 - accuracy: 0.9925 - val_loss: 0.2595 - val_accuracy: 0.9450\n",
      "Epoch 31/50\n",
      "50/50 [==============================] - ETA: 0s - loss: 0.0704 - accuracy: 0.9912\n",
      "Epoch 31: val_accuracy did not improve from 0.97000\n",
      "50/50 [==============================] - 16s 317ms/step - loss: 0.0704 - accuracy: 0.9912 - val_loss: 0.2464 - val_accuracy: 0.9650\n",
      "Epoch 32/50\n",
      "50/50 [==============================] - ETA: 0s - loss: 0.0711 - accuracy: 0.9887\n",
      "Epoch 32: val_accuracy did not improve from 0.97000\n",
      "50/50 [==============================] - 16s 317ms/step - loss: 0.0711 - accuracy: 0.9887 - val_loss: 0.2535 - val_accuracy: 0.9550\n",
      "Epoch 33/50\n",
      "50/50 [==============================] - ETA: 0s - loss: 0.0670 - accuracy: 0.9887\n",
      "Epoch 33: val_accuracy did not improve from 0.97000\n",
      "50/50 [==============================] - 16s 318ms/step - loss: 0.0670 - accuracy: 0.9887 - val_loss: 0.2483 - val_accuracy: 0.9500\n",
      "Epoch 34/50\n",
      "50/50 [==============================] - ETA: 0s - loss: 0.0611 - accuracy: 0.9887\n",
      "Epoch 34: val_accuracy did not improve from 0.97000\n",
      "50/50 [==============================] - 16s 318ms/step - loss: 0.0611 - accuracy: 0.9887 - val_loss: 0.2391 - val_accuracy: 0.9600\n",
      "Epoch 35/50\n",
      "50/50 [==============================] - ETA: 0s - loss: 0.0515 - accuracy: 0.9937\n",
      "Epoch 35: val_accuracy did not improve from 0.97000\n",
      "50/50 [==============================] - 16s 318ms/step - loss: 0.0515 - accuracy: 0.9937 - val_loss: 0.2403 - val_accuracy: 0.9600\n",
      "Epoch 36/50\n",
      "50/50 [==============================] - ETA: 0s - loss: 0.0552 - accuracy: 0.9900\n",
      "Epoch 36: val_accuracy did not improve from 0.97000\n",
      "50/50 [==============================] - 16s 317ms/step - loss: 0.0552 - accuracy: 0.9900 - val_loss: 0.2426 - val_accuracy: 0.9550\n",
      "Epoch 37/50\n",
      "50/50 [==============================] - ETA: 0s - loss: 0.0545 - accuracy: 0.9925\n",
      "Epoch 37: val_accuracy did not improve from 0.97000\n",
      "50/50 [==============================] - 16s 318ms/step - loss: 0.0545 - accuracy: 0.9925 - val_loss: 0.2401 - val_accuracy: 0.9600\n",
      "Epoch 38/50\n",
      "50/50 [==============================] - ETA: 0s - loss: 0.0534 - accuracy: 0.9900\n",
      "Epoch 38: val_accuracy did not improve from 0.97000\n",
      "50/50 [==============================] - 16s 318ms/step - loss: 0.0534 - accuracy: 0.9900 - val_loss: 0.2438 - val_accuracy: 0.9650\n",
      "Epoch 39/50\n",
      "50/50 [==============================] - ETA: 0s - loss: 0.0451 - accuracy: 0.9925\n",
      "Epoch 39: val_accuracy did not improve from 0.97000\n",
      "50/50 [==============================] - 16s 319ms/step - loss: 0.0451 - accuracy: 0.9925 - val_loss: 0.2401 - val_accuracy: 0.9600\n",
      "Epoch 40/50\n",
      "50/50 [==============================] - ETA: 0s - loss: 0.0483 - accuracy: 0.9900\n",
      "Epoch 40: val_accuracy did not improve from 0.97000\n",
      "50/50 [==============================] - 16s 318ms/step - loss: 0.0483 - accuracy: 0.9900 - val_loss: 0.2367 - val_accuracy: 0.9600\n",
      "Epoch 41/50\n",
      "50/50 [==============================] - ETA: 0s - loss: 0.0508 - accuracy: 0.9900\n",
      "Epoch 41: val_accuracy did not improve from 0.97000\n",
      "50/50 [==============================] - 16s 321ms/step - loss: 0.0508 - accuracy: 0.9900 - val_loss: 0.2511 - val_accuracy: 0.9600\n",
      "Epoch 42/50\n",
      "50/50 [==============================] - ETA: 0s - loss: 0.0483 - accuracy: 0.9900\n",
      "Epoch 42: val_accuracy did not improve from 0.97000\n",
      "50/50 [==============================] - 16s 318ms/step - loss: 0.0483 - accuracy: 0.9900 - val_loss: 0.2341 - val_accuracy: 0.9650\n",
      "Epoch 43/50\n",
      "50/50 [==============================] - ETA: 0s - loss: 0.0416 - accuracy: 0.9925\n",
      "Epoch 43: val_accuracy did not improve from 0.97000\n",
      "50/50 [==============================] - 16s 318ms/step - loss: 0.0416 - accuracy: 0.9925 - val_loss: 0.2359 - val_accuracy: 0.9650\n",
      "Epoch 44/50\n",
      "50/50 [==============================] - ETA: 0s - loss: 0.0420 - accuracy: 0.9900\n",
      "Epoch 44: val_accuracy did not improve from 0.97000\n",
      "50/50 [==============================] - 16s 318ms/step - loss: 0.0420 - accuracy: 0.9900 - val_loss: 0.2236 - val_accuracy: 0.9650\n",
      "Epoch 45/50\n",
      "50/50 [==============================] - ETA: 0s - loss: 0.0390 - accuracy: 0.9937\n",
      "Epoch 45: val_accuracy did not improve from 0.97000\n",
      "50/50 [==============================] - 16s 318ms/step - loss: 0.0390 - accuracy: 0.9937 - val_loss: 0.2282 - val_accuracy: 0.9650\n",
      "Epoch 46/50\n",
      "50/50 [==============================] - ETA: 0s - loss: 0.0379 - accuracy: 0.9925\n",
      "Epoch 46: val_accuracy did not improve from 0.97000\n",
      "50/50 [==============================] - 16s 319ms/step - loss: 0.0379 - accuracy: 0.9925 - val_loss: 0.2176 - val_accuracy: 0.9650\n",
      "Epoch 47/50\n",
      "50/50 [==============================] - ETA: 0s - loss: 0.0384 - accuracy: 0.9900\n",
      "Epoch 47: val_accuracy did not improve from 0.97000\n",
      "50/50 [==============================] - 16s 319ms/step - loss: 0.0384 - accuracy: 0.9900 - val_loss: 0.2270 - val_accuracy: 0.9650\n",
      "Epoch 48/50\n",
      "50/50 [==============================] - ETA: 0s - loss: 0.0378 - accuracy: 0.9912\n",
      "Epoch 48: val_accuracy did not improve from 0.97000\n",
      "50/50 [==============================] - 16s 319ms/step - loss: 0.0378 - accuracy: 0.9912 - val_loss: 0.2292 - val_accuracy: 0.9650\n",
      "Epoch 49/50\n",
      "50/50 [==============================] - ETA: 0s - loss: 0.0339 - accuracy: 0.9925\n",
      "Epoch 49: val_accuracy did not improve from 0.97000\n",
      "50/50 [==============================] - 16s 318ms/step - loss: 0.0339 - accuracy: 0.9925 - val_loss: 0.2290 - val_accuracy: 0.9650\n",
      "Epoch 50/50\n",
      "50/50 [==============================] - ETA: 0s - loss: 0.0350 - accuracy: 0.9912\n",
      "Epoch 50: val_accuracy did not improve from 0.97000\n",
      "50/50 [==============================] - 16s 318ms/step - loss: 0.0350 - accuracy: 0.9912 - val_loss: 0.2159 - val_accuracy: 0.9650\n"
     ]
    }
   ],
   "source": [
    "print(f'Training model with {tfhub_handle_encoder}')\n",
    "\n",
    "filepath = \"d:\\model-improvement-{epoch:02d}-{val_accuracy:.2f}\"\n",
    "checkpoint = ModelCheckpoint(filepath, monitor='val_accuracy', verbose=1, save_best_only=True, save_weights_only=False)\n",
    "callbacks_list = [checkpoint]\n",
    "\n",
    "history = classifier_model.fit(x=train_ds, validation_data=val_ds, epochs=epochs, callbacks=callbacks_list)"
   ]
  },
  {
   "cell_type": "code",
   "execution_count": 13,
   "id": "0b474a9e",
   "metadata": {},
   "outputs": [
    {
     "name": "stdout",
     "output_type": "stream",
     "text": [
      "dict_keys(['loss', 'accuracy', 'val_loss', 'val_accuracy'])\n"
     ]
    },
    {
     "data": {
      "text/plain": [
       "<matplotlib.legend.Legend at 0x247587e9eb0>"
      ]
     },
     "execution_count": 13,
     "metadata": {},
     "output_type": "execute_result"
    },
    {
     "data": {
      "image/png": "[encoded data removed]",
      "text/plain": [
       "<Figure size 720x432 with 2 Axes>"
      ]
     },
     "metadata": {
      "needs_background": "light"
     },
     "output_type": "display_data"
    }
   ],
   "source": [
    "history_dict = history.history\n",
    "print(history_dict.keys())\n",
    "\n",
    "acc = history_dict['accuracy']\n",
    "val_acc = history_dict['val_accuracy']\n",
    "loss = history_dict['loss']\n",
    "val_loss = history_dict['val_loss']\n",
    "\n",
    "epochs = range(1, len(acc) + 1)\n",
    "fig = plt.figure(figsize=(10, 6))\n",
    "fig.tight_layout()\n",
    "\n",
    "plt.subplot(2, 1, 1)\n",
    "# r is for \"solid red line\"\n",
    "plt.plot(epochs, loss, 'r', label='Training loss')\n",
    "# b is for \"solid blue line\"\n",
    "plt.plot(epochs, val_loss, 'b', label='Validation loss')\n",
    "plt.title('Training and validation loss')\n",
    "# plt.xlabel('Epochs')\n",
    "plt.ylabel('Loss')\n",
    "plt.legend()\n",
    "\n",
    "plt.subplot(2, 1, 2)\n",
    "plt.plot(epochs, acc, 'r', label='Training acc')\n",
    "plt.plot(epochs, val_acc, 'b', label='Validation acc')\n",
    "plt.title('Training and validation accuracy')\n",
    "plt.xlabel('Epochs')\n",
    "plt.ylabel('Accuracy')\n",
    "plt.legend(loc='lower right')"
   ]
  },
  {
   "cell_type": "code",
   "execution_count": 14,
   "id": "1d1e2ad4",
   "metadata": {},
   "outputs": [],
   "source": [
    "# classifier_model.save(\"behterin_model\", include_optimizer=False)"
   ]
  },
  {
   "cell_type": "code",
   "execution_count": 15,
   "id": "09283a69",
   "metadata": {},
   "outputs": [],
   "source": [
    "# loaded_model = tf.keras.models.load_model('behterin_model')"
   ]
  },
  {
   "cell_type": "code",
   "execution_count": null,
   "id": "54d6209f",
   "metadata": {},
   "outputs": [],
   "source": [
    "loaded_model = tf.keras.models.load_model('models/768/768_noDense_0.2Val_1Drop0.3_model-improvement-43-0.65')"
   ]
  },
  {
   "cell_type": "code",
   "execution_count": null,
   "id": "31e6508f",
   "metadata": {},
   "outputs": [],
   "source": [
    "text_test = ['this is such an amazing movie!']\n",
    "myTensor = tf.convert_to_tensor(text_test, dtype=tf.string)\n",
    "\n",
    "###################################################################################################\n",
    "###################################################################################################\n",
    "# The model to get embbedings (intermediate_layer_model)\n",
    "\n",
    "intermediate_layer_model = tf.keras.Model(inputs=loaded_model.get_layer(\"text\").input,\n",
    "                                       outputs=loaded_model.get_layer(\"BERT_encoder\").output)\n",
    "###################################################################################################\n",
    "###################################################################################################\n",
    "\n",
    "\n",
    "intermediate_layer_model.summary()"
   ]
  },
  {
   "cell_type": "markdown",
   "id": "48ed9bbd",
   "metadata": {},
   "source": [
    "# Mydataset embbedings"
   ]
  },
  {
   "cell_type": "code",
   "execution_count": 17,
   "id": "ace53260",
   "metadata": {},
   "outputs": [],
   "source": [
    "import pandas as pd\n",
    "import xlsxwriter\n",
    "import numpy as np"
   ]
  },
  {
   "cell_type": "code",
   "execution_count": 18,
   "id": "efb98680",
   "metadata": {},
   "outputs": [],
   "source": [
    "data = pd.read_csv(r'C:\\Users\\MOHSEN-ASUS\\JupyterProjects\\bert classification (40-60)\\bert_data_withoutClassWord.csv')"
   ]
  },
  {
   "cell_type": "code",
   "execution_count": 19,
   "id": "169d0ba9",
   "metadata": {},
   "outputs": [],
   "source": [
    "embbeding_size = 20"
   ]
  },
  {
   "cell_type": "code",
   "execution_count": 20,
   "id": "369300bd",
   "metadata": {},
   "outputs": [],
   "source": [
    "dataset_labels = np.array([])"
   ]
  },
  {
   "cell_type": "code",
   "execution_count": 21,
   "id": "71cc6c76",
   "metadata": {},
   "outputs": [],
   "source": [
    "dataset_empedings = np.zeros([1, embbeding_size])\n",
    "dataset_labels = np.array([])\n",
    "j = 0\n",
    "\n",
    "for i in data[\"text\"]:\n",
    "    \n",
    "    dataset_labels = np.append(dataset_labels, data[\"class\"][j])\n",
    "    \n",
    "    txtTensor = tf.convert_to_tensor([i], dtype=tf.string)\n",
    "    intermediate_output = intermediate_layer_model(txtTensor)\n",
    "    \n",
    "    sentence_embeding = intermediate_output.numpy()\n",
    "    #print(sentence_embeding.shape)\n",
    "    dataset_empedings = np.append(dataset_empedings, sentence_embeding, axis=0)\n",
    "    \n",
    "    j += 1\n",
    "\n",
    "\n",
    "dataset_empedings = np.delete(dataset_empedings, 0, 0)"
   ]
  },
  {
   "cell_type": "code",
   "execution_count": 22,
   "id": "a4265bae",
   "metadata": {},
   "outputs": [
    {
     "data": {
      "text/plain": [
       "(7115, 20)"
      ]
     },
     "execution_count": 22,
     "metadata": {},
     "output_type": "execute_result"
    }
   ],
   "source": [
    "dataset_empedings.shape"
   ]
  },
  {
   "cell_type": "code",
   "execution_count": 23,
   "id": "a76b4109",
   "metadata": {},
   "outputs": [
    {
     "data": {
      "text/plain": [
       "(7115,)"
      ]
     },
     "execution_count": 23,
     "metadata": {},
     "output_type": "execute_result"
    }
   ],
   "source": [
    "dataset_labels.shape"
   ]
  },
  {
   "cell_type": "markdown",
   "id": "3743b5bb",
   "metadata": {},
   "source": [
    "# Embbedings view on T-SNE"
   ]
  },
  {
   "cell_type": "code",
   "execution_count": 24,
   "id": "8616e978",
   "metadata": {},
   "outputs": [],
   "source": [
    "from sklearn.manifold import TSNE\n",
    "import seaborn as sns"
   ]
  },
  {
   "cell_type": "code",
   "execution_count": 25,
   "id": "d6227d61",
   "metadata": {},
   "outputs": [
    {
     "name": "stderr",
     "output_type": "stream",
     "text": [
      "C:\\Users\\MOHSEN-ASUS\\.conda\\envs\\piptext\\lib\\site-packages\\sklearn\\manifold\\_t_sne.py:780: FutureWarning: The default initialization in TSNE will change from 'random' to 'pca' in 1.2.\n",
      "  warnings.warn(\n",
      "C:\\Users\\MOHSEN-ASUS\\.conda\\envs\\piptext\\lib\\site-packages\\sklearn\\manifold\\_t_sne.py:790: FutureWarning: The default learning rate in TSNE will change from 200.0 to 'auto' in 1.2.\n",
      "  warnings.warn(\n"
     ]
    },
    {
     "name": "stdout",
     "output_type": "stream",
     "text": [
      "[t-SNE] Computing 91 nearest neighbors...\n",
      "[t-SNE] Indexed 7115 samples in 0.000s...\n",
      "[t-SNE] Computed neighbors for 7115 samples in 1.996s...\n",
      "[t-SNE] Computed conditional probabilities for sample 1000 / 7115\n",
      "[t-SNE] Computed conditional probabilities for sample 2000 / 7115\n",
      "[t-SNE] Computed conditional probabilities for sample 3000 / 7115\n",
      "[t-SNE] Computed conditional probabilities for sample 4000 / 7115\n",
      "[t-SNE] Computed conditional probabilities for sample 5000 / 7115\n",
      "[t-SNE] Computed conditional probabilities for sample 6000 / 7115\n",
      "[t-SNE] Computed conditional probabilities for sample 7000 / 7115\n",
      "[t-SNE] Computed conditional probabilities for sample 7115 / 7115\n",
      "[t-SNE] Mean sigma: 0.000000\n",
      "[t-SNE] KL divergence after 250 iterations with early exaggeration: 61.685879\n",
      "[t-SNE] KL divergence after 1000 iterations: 0.841884\n"
     ]
    }
   ],
   "source": [
    "x = dataset_empedings\n",
    "y = dataset_labels \n",
    "\n",
    "tsne = TSNE(n_components=2, verbose=1, random_state=123)\n",
    "z = tsne.fit_transform(x)"
   ]
  },
  {
   "cell_type": "code",
   "execution_count": 26,
   "id": "bb7fa377",
   "metadata": {},
   "outputs": [
    {
     "data": {
      "image/png": "[encoded data removed]",
      "text/plain": [
       "<Figure size 432x288 with 1 Axes>"
      ]
     },
     "metadata": {
      "needs_background": "light"
     },
     "output_type": "display_data"
    }
   ],
   "source": [
    "df = pd.DataFrame()\n",
    "df[\"y\"] = y\n",
    "df[\"comp-1\"] = z[:,0]\n",
    "df[\"comp-2\"] = z[:,1]\n",
    "\n",
    "sns.scatterplot(x=\"comp-1\", y=\"comp-2\", hue=df.y.tolist(),\n",
    "                palette=sns.color_palette(\"hls\", 50),\n",
    "                data=df).set(title=\"mydata T-SNE projection\")\n",
    "plt.legend(bbox_to_anchor=(1.02, 1), loc='upper left', borderaxespad=0)\n",
    "\n",
    "plt.savefig('filename.png', dpi=500)"
   ]
  },
  {
   "cell_type": "markdown",
   "id": "b2096c8a",
   "metadata": {},
   "source": [
    "# TSNE for each class embbedings"
   ]
  },
  {
   "cell_type": "code",
   "execution_count": 104,
   "id": "6153ca42",
   "metadata": {},
   "outputs": [],
   "source": [
    "import pandas as pd\n",
    "import xlsxwriter\n",
    "import numpy as np\n",
    "\n",
    "data = pd.read_csv(r'C:\\Users\\MOHSEN-ASUS\\JupyterProjects\\bert classification\\final_dataset_for_bert.csv')"
   ]
  },
  {
   "cell_type": "code",
   "execution_count": 111,
   "id": "0e427a8e",
   "metadata": {
    "scrolled": true
   },
   "outputs": [],
   "source": [
    "def get_BERTembbedings(text, model):\n",
    "    \n",
    "    text_tensor = tf.convert_to_tensor(text, dtype=tf.string)\n",
    "    model_output = model(text_tensor)\n",
    "    \n",
    "    return model_output[\"pooled_output\"]"
   ]
  },
  {
   "cell_type": "code",
   "execution_count": null,
   "id": "8aa113a3",
   "metadata": {},
   "outputs": [],
   "source": [
    "def save_plot_TSNE(x, label, file_png):\n",
    "    \n",
    "    print(x.shape)\n",
    "    print(label)\n",
    "    \n",
    "    y = np.array([])\n",
    "    for i in x:\n",
    "        y = np.append(y, label)\n",
    "    \n",
    "    tsne = TSNE(n_components=2, verbose=1, random_state=123)\n",
    "    z = tsne.fit_transform(x)\n",
    "    \n",
    "    df = pd.DataFrame()\n",
    "    df[\"y\"] = y\n",
    "    df[\"comp-1\"] = z[:,0]\n",
    "    df[\"comp-2\"] = z[:,1]\n",
    "\n",
    "    sns.scatterplot(x=\"comp-1\", y=\"comp-2\", hue=df.y.tolist(),\n",
    "                    palette=sns.color_palette(\"hls\", 50),\n",
    "                    data=df).set(title=\"mydata T-SNE projection\")\n",
    "    plt.legend(bbox_to_anchor=(1.02, 1), loc='upper left', borderaxespad=0)\n",
    "\n",
    "    plt.savefig(file_png, dpi=300)"
   ]
  },
  {
   "cell_type": "code",
   "execution_count": 127,
   "id": "56bb9212",
   "metadata": {},
   "outputs": [],
   "source": [
    "def TSNE_each_classEmbbeding(dataset, BERT, embbeding_size=768):\n",
    "    \n",
    "    # you should know the column name (in this case the name is \"class\") which has class values\n",
    "    class_names = data[\"class\"].unique()\n",
    "    \n",
    "    for i in class_names:\n",
    "        \n",
    "        # getting all of the texts belong to class i\n",
    "        class_texts = dataset[dataset[\"class\"] == i]\n",
    "        \n",
    "        # in the line below i am creating a zero array to append my embbedings to it (i dont know how to do it without creating a zero)\n",
    "        class_texts_embbedings = np.zeros([1, embbeding_size])\n",
    "        \n",
    "        for j in class_texts:\n",
    "            \n",
    "            # obtaining embbedings of class i texts using \"get_BERTembbedings\" and appending them to an array\n",
    "            class_texts_embbedings = np.append(get_BERTembbedings(j, BERT), class_texts_embbedings, axis=0)\n",
    "        \n",
    "        # deleting the zero array from the first row\n",
    "        class_texts_embbedings = np.delete(class_texts_embbedings, 0, 0)\n",
    "        \n",
    "        # saving TSNE plot of each class embbedings\n",
    "        save_plot_TSNE(class_texts_embbedings, i, i)\n",
    "        "
   ]
  },
  {
   "cell_type": "code",
   "execution_count": 128,
   "id": "d498d5f1",
   "metadata": {},
   "outputs": [
    {
     "ename": "ValueError",
     "evalue": "Exception encountered when calling layer \"preprocessing\" (type KerasLayer).\n\nCould not find matching concrete function to call loaded from the SavedModel. Got:\n  Positional arguments (2 total):\n    * Tensor(\"inputs:0\", shape=(), dtype=string)\n    * False\n  Keyword arguments: {}\n\n Expected these arguments to match one of the following 2 option(s):\n\nOption 1:\n  Positional arguments (2 total):\n    * TensorSpec(shape=(None,), dtype=tf.string, name='inputs')\n    * False\n  Keyword arguments: {}\n\nOption 2:\n  Positional arguments (2 total):\n    * TensorSpec(shape=(None,), dtype=tf.string, name='inputs')\n    * True\n  Keyword arguments: {}\n\nCall arguments received:\n  • args=('tf.Tensor(shape=(), dtype=string)',)\n  • kwargs={'training': 'False'}",
     "output_type": "error",
     "traceback": [
      "\u001b[1;31m---------------------------------------------------------------------------\u001b[0m",
      "\u001b[1;31mValueError\u001b[0m                                Traceback (most recent call last)",
      "Input \u001b[1;32mIn [128]\u001b[0m, in \u001b[0;36m<cell line: 1>\u001b[1;34m()\u001b[0m\n\u001b[1;32m----> 1\u001b[0m \u001b[43mTSNE_each_classEmbbeding\u001b[49m\u001b[43m(\u001b[49m\u001b[43mdata\u001b[49m\u001b[43m,\u001b[49m\u001b[43m \u001b[49m\u001b[43mintermediate_layer_model\u001b[49m\u001b[43m)\u001b[49m\n",
      "Input \u001b[1;32mIn [127]\u001b[0m, in \u001b[0;36mTSNE_each_classEmbbeding\u001b[1;34m(dataset, BERT, embbeding_size)\u001b[0m\n\u001b[0;32m     12\u001b[0m class_texts_embbedings \u001b[38;5;241m=\u001b[39m np\u001b[38;5;241m.\u001b[39mzeros([\u001b[38;5;241m1\u001b[39m, embbeding_size])\n\u001b[0;32m     14\u001b[0m \u001b[38;5;28;01mfor\u001b[39;00m j \u001b[38;5;129;01min\u001b[39;00m class_texts:\n\u001b[0;32m     15\u001b[0m     \n\u001b[0;32m     16\u001b[0m     \u001b[38;5;66;03m# obtaining embbedings of class i texts using \"get_BERTembbedings\" and appending them to an array\u001b[39;00m\n\u001b[1;32m---> 17\u001b[0m     class_texts_embbedings \u001b[38;5;241m=\u001b[39m np\u001b[38;5;241m.\u001b[39mappend(\u001b[43mget_BERTembbedings\u001b[49m\u001b[43m(\u001b[49m\u001b[43mj\u001b[49m\u001b[43m,\u001b[49m\u001b[43m \u001b[49m\u001b[43mBERT\u001b[49m\u001b[43m)\u001b[49m, class_texts_embbedings, axis\u001b[38;5;241m=\u001b[39m\u001b[38;5;241m0\u001b[39m)\n\u001b[0;32m     19\u001b[0m \u001b[38;5;66;03m# deleting the zero array from the first row\u001b[39;00m\n\u001b[0;32m     20\u001b[0m class_texts_embbedings \u001b[38;5;241m=\u001b[39m np\u001b[38;5;241m.\u001b[39mdelete(class_texts_embbedings, \u001b[38;5;241m0\u001b[39m, \u001b[38;5;241m0\u001b[39m)\n",
      "Input \u001b[1;32mIn [111]\u001b[0m, in \u001b[0;36mget_BERTembbedings\u001b[1;34m(text, model)\u001b[0m\n\u001b[0;32m      1\u001b[0m \u001b[38;5;28;01mdef\u001b[39;00m \u001b[38;5;21mget_BERTembbedings\u001b[39m(text, model):\n\u001b[0;32m      3\u001b[0m     text_tensor \u001b[38;5;241m=\u001b[39m tf\u001b[38;5;241m.\u001b[39mconvert_to_tensor(text, dtype\u001b[38;5;241m=\u001b[39mtf\u001b[38;5;241m.\u001b[39mstring)\n\u001b[1;32m----> 4\u001b[0m     model_output \u001b[38;5;241m=\u001b[39m \u001b[43mmodel\u001b[49m\u001b[43m(\u001b[49m\u001b[43mtext_tensor\u001b[49m\u001b[43m)\u001b[49m\n\u001b[0;32m      6\u001b[0m     \u001b[38;5;28;01mreturn\u001b[39;00m model_output[\u001b[38;5;124m\"\u001b[39m\u001b[38;5;124mpooled_output\u001b[39m\u001b[38;5;124m\"\u001b[39m]\n",
      "File \u001b[1;32m~\\.conda\\envs\\piptext\\lib\\site-packages\\keras\\utils\\traceback_utils.py:67\u001b[0m, in \u001b[0;36mfilter_traceback.<locals>.error_handler\u001b[1;34m(*args, **kwargs)\u001b[0m\n\u001b[0;32m     65\u001b[0m \u001b[38;5;28;01mexcept\u001b[39;00m \u001b[38;5;167;01mException\u001b[39;00m \u001b[38;5;28;01mas\u001b[39;00m e:  \u001b[38;5;66;03m# pylint: disable=broad-except\u001b[39;00m\n\u001b[0;32m     66\u001b[0m   filtered_tb \u001b[38;5;241m=\u001b[39m _process_traceback_frames(e\u001b[38;5;241m.\u001b[39m__traceback__)\n\u001b[1;32m---> 67\u001b[0m   \u001b[38;5;28;01mraise\u001b[39;00m e\u001b[38;5;241m.\u001b[39mwith_traceback(filtered_tb) \u001b[38;5;28;01mfrom\u001b[39;00m \u001b[38;5;28mNone\u001b[39m\n\u001b[0;32m     68\u001b[0m \u001b[38;5;28;01mfinally\u001b[39;00m:\n\u001b[0;32m     69\u001b[0m   \u001b[38;5;28;01mdel\u001b[39;00m filtered_tb\n",
      "File \u001b[1;32m~\\.conda\\envs\\piptext\\lib\\site-packages\\tensorflow\\python\\saved_model\\function_deserialization.py:283\u001b[0m, in \u001b[0;36mrecreate_function.<locals>.restored_function_body\u001b[1;34m(*args, **kwargs)\u001b[0m\n\u001b[0;32m    279\u001b[0m   positional, keyword \u001b[38;5;241m=\u001b[39m concrete_function\u001b[38;5;241m.\u001b[39mstructured_input_signature\n\u001b[0;32m    280\u001b[0m   signature_descriptions\u001b[38;5;241m.\u001b[39mappend(\n\u001b[0;32m    281\u001b[0m       \u001b[38;5;124m\"\u001b[39m\u001b[38;5;124mOption \u001b[39m\u001b[38;5;132;01m{}\u001b[39;00m\u001b[38;5;124m:\u001b[39m\u001b[38;5;130;01m\\n\u001b[39;00m\u001b[38;5;124m  \u001b[39m\u001b[38;5;132;01m{}\u001b[39;00m\u001b[38;5;130;01m\\n\u001b[39;00m\u001b[38;5;124m  Keyword arguments: \u001b[39m\u001b[38;5;132;01m{}\u001b[39;00m\u001b[38;5;124m\"\u001b[39m\n\u001b[0;32m    282\u001b[0m       \u001b[38;5;241m.\u001b[39mformat(index \u001b[38;5;241m+\u001b[39m \u001b[38;5;241m1\u001b[39m, _pretty_format_positional(positional), keyword))\n\u001b[1;32m--> 283\u001b[0m \u001b[38;5;28;01mraise\u001b[39;00m \u001b[38;5;167;01mValueError\u001b[39;00m(\n\u001b[0;32m    284\u001b[0m     \u001b[38;5;124m\"\u001b[39m\u001b[38;5;124mCould not find matching concrete function to call loaded from the \u001b[39m\u001b[38;5;124m\"\u001b[39m\n\u001b[0;32m    285\u001b[0m     \u001b[38;5;124mf\u001b[39m\u001b[38;5;124m\"\u001b[39m\u001b[38;5;124mSavedModel. Got:\u001b[39m\u001b[38;5;130;01m\\n\u001b[39;00m\u001b[38;5;124m  \u001b[39m\u001b[38;5;132;01m{\u001b[39;00m_pretty_format_positional(args)\u001b[38;5;132;01m}\u001b[39;00m\u001b[38;5;130;01m\\n\u001b[39;00m\u001b[38;5;124m  Keyword \u001b[39m\u001b[38;5;124m\"\u001b[39m\n\u001b[0;32m    286\u001b[0m     \u001b[38;5;124mf\u001b[39m\u001b[38;5;124m\"\u001b[39m\u001b[38;5;124marguments: \u001b[39m\u001b[38;5;132;01m{\u001b[39;00mkwargs\u001b[38;5;132;01m}\u001b[39;00m\u001b[38;5;130;01m\\n\u001b[39;00m\u001b[38;5;130;01m\\n\u001b[39;00m\u001b[38;5;124m Expected these arguments to match one of the \u001b[39m\u001b[38;5;124m\"\u001b[39m\n\u001b[0;32m    287\u001b[0m     \u001b[38;5;124mf\u001b[39m\u001b[38;5;124m\"\u001b[39m\u001b[38;5;124mfollowing \u001b[39m\u001b[38;5;132;01m{\u001b[39;00m\u001b[38;5;28mlen\u001b[39m(saved_function\u001b[38;5;241m.\u001b[39mconcrete_functions)\u001b[38;5;132;01m}\u001b[39;00m\u001b[38;5;124m option(s):\u001b[39m\u001b[38;5;130;01m\\n\u001b[39;00m\u001b[38;5;130;01m\\n\u001b[39;00m\u001b[38;5;124m\"\u001b[39m\n\u001b[0;32m    288\u001b[0m     \u001b[38;5;124mf\u001b[39m\u001b[38;5;124m\"\u001b[39m\u001b[38;5;132;01m{\u001b[39;00m(\u001b[38;5;28mchr\u001b[39m(\u001b[38;5;241m10\u001b[39m)\u001b[38;5;241m+\u001b[39m\u001b[38;5;28mchr\u001b[39m(\u001b[38;5;241m10\u001b[39m))\u001b[38;5;241m.\u001b[39mjoin(signature_descriptions)\u001b[38;5;132;01m}\u001b[39;00m\u001b[38;5;124m\"\u001b[39m)\n",
      "\u001b[1;31mValueError\u001b[0m: Exception encountered when calling layer \"preprocessing\" (type KerasLayer).\n\nCould not find matching concrete function to call loaded from the SavedModel. Got:\n  Positional arguments (2 total):\n    * Tensor(\"inputs:0\", shape=(), dtype=string)\n    * False\n  Keyword arguments: {}\n\n Expected these arguments to match one of the following 2 option(s):\n\nOption 1:\n  Positional arguments (2 total):\n    * TensorSpec(shape=(None,), dtype=tf.string, name='inputs')\n    * False\n  Keyword arguments: {}\n\nOption 2:\n  Positional arguments (2 total):\n    * TensorSpec(shape=(None,), dtype=tf.string, name='inputs')\n    * True\n  Keyword arguments: {}\n\nCall arguments received:\n  • args=('tf.Tensor(shape=(), dtype=string)',)\n  • kwargs={'training': 'False'}"
     ]
    }
   ],
   "source": [
    "TSNE_each_classEmbbeding(data, intermediate_layer_model)"
   ]
  },
  {
   "cell_type": "code",
   "execution_count": null,
   "id": "87da43b8",
   "metadata": {},
   "outputs": [],
   "source": []
  },
  {
   "cell_type": "code",
   "execution_count": 113,
   "id": "218eb368",
   "metadata": {},
   "outputs": [
    {
     "data": {
      "text/plain": [
       "(50,)"
      ]
     },
     "execution_count": 113,
     "metadata": {},
     "output_type": "execute_result"
    }
   ],
   "source": [
    "class_names = data[\"class\"].unique()\n",
    "class_names.shape"
   ]
  },
  {
   "cell_type": "code",
   "execution_count": 123,
   "id": "303f70e8",
   "metadata": {},
   "outputs": [
    {
     "name": "stdout",
     "output_type": "stream",
     "text": [
      "Antelope\n"
     ]
    },
    {
     "data": {
      "text/plain": [
       "(59,)"
      ]
     },
     "execution_count": 123,
     "metadata": {},
     "output_type": "execute_result"
    }
   ],
   "source": [
    "behnam = data[data[\"class\"] == class_names[0]]\n",
    "label = behnam[\"class\"][0]\n",
    "print(label)\n",
    "y = np.array([])\n",
    "for i in behnam[\"text\"]:\n",
    "    y = np.append(y, label)\n",
    "    \n",
    "y.shape"
   ]
  },
  {
   "cell_type": "code",
   "execution_count": null,
   "id": "2c19de70",
   "metadata": {},
   "outputs": [],
   "source": []
  },
  {
   "cell_type": "code",
   "execution_count": null,
   "id": "e915a53e",
   "metadata": {},
   "outputs": [],
   "source": []
  },
  {
   "cell_type": "code",
   "execution_count": null,
   "id": "de4e765d",
   "metadata": {},
   "outputs": [],
   "source": []
  },
  {
   "cell_type": "code",
   "execution_count": null,
   "id": "9d72cb44",
   "metadata": {},
   "outputs": [],
   "source": []
  },
  {
   "cell_type": "markdown",
   "id": "1e67ee08",
   "metadata": {},
   "source": [
    "# Test blocks"
   ]
  },
  {
   "cell_type": "code",
   "execution_count": 40,
   "id": "66fe504d",
   "metadata": {},
   "outputs": [],
   "source": [
    "test_text = \"behnam\"\n",
    "probs = loaded_model.predict([test_text])"
   ]
  },
  {
   "cell_type": "code",
   "execution_count": 42,
   "id": "fcdac6bb",
   "metadata": {},
   "outputs": [
    {
     "name": "stdout",
     "output_type": "stream",
     "text": [
      "[[9.8559868e-01 3.5122331e-04 2.4117078e-04 4.5487666e-04 9.1990281e-05\n",
      "  3.6703621e-04 2.6911215e-04 8.9518646e-05 5.6429714e-04 1.1563933e-04\n",
      "  2.2724384e-04 3.6333693e-04 6.1131787e-04 1.8161589e-04 4.4743231e-04\n",
      "  2.6473208e-04 7.7458040e-05 3.5198613e-05 1.2694254e-03 4.7917501e-04\n",
      "  1.1139001e-04 3.1529050e-04 5.9277413e-04 1.2952139e-04 4.4515467e-04\n",
      "  1.2069105e-04 6.0655686e-05 4.8951019e-04 7.6888617e-05 1.5119322e-04\n",
      "  3.9288410e-04 8.4487263e-05 6.0229190e-04 1.9582360e-04 4.5138022e-05\n",
      "  6.7228073e-05 9.5488504e-05 6.8909238e-04 1.4111183e-04 3.5351730e-04\n",
      "  2.3887304e-04 1.0730186e-04 4.8800441e-05 3.9194722e-04 7.1938754e-05\n",
      "  2.6265942e-04 3.0520180e-04 1.2587366e-04 6.4275716e-04 5.4395752e-04]]\n"
     ]
    }
   ],
   "source": [
    "print(probs)"
   ]
  },
  {
   "cell_type": "code",
   "execution_count": 10,
   "id": "f6b8cff3",
   "metadata": {},
   "outputs": [
    {
     "ename": "NameError",
     "evalue": "name 'epochs' is not defined",
     "output_type": "error",
     "traceback": [
      "\u001b[1;31m---------------------------------------------------------------------------\u001b[0m",
      "\u001b[1;31mNameError\u001b[0m                                 Traceback (most recent call last)",
      "Input \u001b[1;32mIn [10]\u001b[0m, in \u001b[0;36m<cell line: 2>\u001b[1;34m()\u001b[0m\n\u001b[0;32m      1\u001b[0m steps_per_epoch \u001b[38;5;241m=\u001b[39m tf\u001b[38;5;241m.\u001b[39mdata\u001b[38;5;241m.\u001b[39mexperimental\u001b[38;5;241m.\u001b[39mcardinality(train_ds)\u001b[38;5;241m.\u001b[39mnumpy()\n\u001b[1;32m----> 2\u001b[0m num_train_steps \u001b[38;5;241m=\u001b[39m steps_per_epoch \u001b[38;5;241m*\u001b[39m \u001b[43mepochs\u001b[49m\n\u001b[0;32m      3\u001b[0m num_warmup_steps \u001b[38;5;241m=\u001b[39m \u001b[38;5;28mint\u001b[39m(\u001b[38;5;241m0.1\u001b[39m\u001b[38;5;241m*\u001b[39mnum_train_steps)\n\u001b[0;32m      5\u001b[0m init_lr \u001b[38;5;241m=\u001b[39m \u001b[38;5;241m3e-5\u001b[39m\n",
      "\u001b[1;31mNameError\u001b[0m: name 'epochs' is not defined"
     ]
    }
   ],
   "source": [
    "steps_per_epoch = tf.data.experimental.cardinality(train_ds).numpy()\n",
    "num_train_steps = steps_per_epoch * epochs\n",
    "num_warmup_steps = int(0.1*num_train_steps)\n",
    "\n",
    "init_lr = 3e-5\n",
    "optimizer = optimization.create_optimizer(init_lr=init_lr,\n",
    "                                          num_train_steps=num_train_steps,\n",
    "                                          num_warmup_steps=num_warmup_steps,\n",
    "                                          optimizer_type='adamw')"
   ]
  },
  {
   "cell_type": "code",
   "execution_count": null,
   "id": "297cffca",
   "metadata": {},
   "outputs": [],
   "source": [
    "#optimizer = tf.keras.optimizers.Adam(learning_rate=1e-5, decay=1e-6)"
   ]
  },
  {
   "cell_type": "code",
   "execution_count": null,
   "id": "00655b7e",
   "metadata": {},
   "outputs": [],
   "source": [
    "# original optimizer\n",
    "####################################################################################\n",
    "# steps_per_epoch = tf.data.experimental.cardinality(train_ds).numpy()\n",
    "# num_train_steps = steps_per_epoch * epochs\n",
    "# num_warmup_steps = int(0.1*num_train_steps)\n",
    "\n",
    "# init_lr = 3e-5\n",
    "# optimizer = optimization.create_optimizer(init_lr=init_lr,\n",
    "#                                           num_train_steps=num_train_steps,\n",
    "#                                           num_warmup_steps=num_warmup_steps,\n",
    "#                                           optimizer_type='adamw')\n",
    "####################################################################################"
   ]
  }
 ],
 "metadata": {
  "kernelspec": {
   "display_name": "piptext",
   "language": "python",
   "name": "piptext"
  },
  "language_info": {
   "codemirror_mode": {
    "name": "ipython",
    "version": 3
   },
   "file_extension": ".py",
   "mimetype": "text/x-python",
   "name": "python",
   "nbconvert_exporter": "python",
   "pygments_lexer": "ipython3",
   "version": "3.8.13"
  }
 },
 "nbformat": 4,
 "nbformat_minor": 5
}
