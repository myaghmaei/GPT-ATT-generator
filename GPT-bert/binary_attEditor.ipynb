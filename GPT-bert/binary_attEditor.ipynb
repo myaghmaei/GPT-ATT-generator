{
 "cells": [
  {
   "cell_type": "code",
   "execution_count": 1,
   "id": "d3da464c",
   "metadata": {},
   "outputs": [
    {
     "name": "stdout",
     "output_type": "stream",
     "text": [
      "Num GPUs Available:  1\n"
     ]
    }
   ],
   "source": [
    "import os\n",
    "import shutil\n",
    "\n",
    "import tensorflow as tf\n",
    "import tensorflow_hub as hub\n",
    "import tensorflow_text as text\n",
    "from official.nlp import optimization  # to create AdamW optimizer\n",
    "from keras.callbacks import ModelCheckpoint\n",
    "from keras.models import load_model\n",
    "\n",
    "import matplotlib.pyplot as plt\n",
    "import scipy.io\n",
    "from sklearn.cluster import KMeans\n",
    "from sklearn.preprocessing import MinMaxScaler\n",
    "\n",
    "from sklearn.manifold import TSNE\n",
    "import seaborn as sns\n",
    "\n",
    "import pandas as pd\n",
    "import xlsxwriter\n",
    "import numpy as np\n",
    "\n",
    "tf.get_logger().setLevel('ERROR')\n",
    "\n",
    "print(\"Num GPUs Available: \", len(tf.config.list_physical_devices('GPU')))"
   ]
  },
  {
   "cell_type": "code",
   "execution_count": 4,
   "id": "aa007f92",
   "metadata": {},
   "outputs": [
    {
     "name": "stdout",
     "output_type": "stream",
     "text": [
      "dict_keys(['__header__', '__version__', '__globals__', 'allclasses_names', 'att', 'test_seen_loc', 'test_unseen_loc', 'train_loc', 'trainval_loc', 'val_loc'])\n",
      "\n",
      "dict_keys(['__header__', '__version__', '__globals__', 'allclasses_names', 'att', 'original_att', 'test_seen_loc', 'test_unseen_loc', 'train_loc', 'trainval_loc', 'val_loc'])\n"
     ]
    }
   ],
   "source": [
    "the_bmatt_file = scipy.io.loadmat('binaryAtt_splits_AWA2.mat')\n",
    "the_mat_file = scipy.io.loadmat('att_splits_AWA2.mat')\n",
    "print(the_bmatt_file.keys())\n",
    "print('')\n",
    "print(the_mat_file.keys())"
   ]
  },
  {
   "cell_type": "code",
   "execution_count": 5,
   "id": "7a948453",
   "metadata": {},
   "outputs": [
    {
     "data": {
      "text/plain": [
       "array([[21483],\n",
       "       [11453],\n",
       "       [21449],\n",
       "       ...,\n",
       "       [19616],\n",
       "       [10389],\n",
       "       [ 5161]], dtype=uint16)"
      ]
     },
     "execution_count": 5,
     "metadata": {},
     "output_type": "execute_result"
    }
   ],
   "source": [
    "the_mat_file['train_loc']"
   ]
  },
  {
   "cell_type": "code",
   "execution_count": 6,
   "id": "3a4d09f9",
   "metadata": {},
   "outputs": [
    {
     "data": {
      "text/plain": [
       "array([[    1],\n",
       "       [    2],\n",
       "       [    3],\n",
       "       ...,\n",
       "       [37320],\n",
       "       [37321],\n",
       "       [37322]], dtype=uint16)"
      ]
     },
     "execution_count": 6,
     "metadata": {},
     "output_type": "execute_result"
    }
   ],
   "source": [
    "the_bmatt_file['train_loc']"
   ]
  },
  {
   "cell_type": "code",
   "execution_count": 7,
   "id": "85343591",
   "metadata": {},
   "outputs": [
    {
     "data": {
      "text/plain": [
       "array([[0, 1, 1, ..., 1, 1, 0],\n",
       "       [0, 0, 1, ..., 1, 1, 1],\n",
       "       [0, 0, 0, ..., 0, 0, 1],\n",
       "       ...,\n",
       "       [0, 1, 0, ..., 1, 0, 0],\n",
       "       [0, 0, 0, ..., 1, 0, 0],\n",
       "       [0, 0, 0, ..., 0, 1, 1]], dtype=uint8)"
      ]
     },
     "execution_count": 7,
     "metadata": {},
     "output_type": "execute_result"
    }
   ],
   "source": [
    "the_mat_file['att'] = the_bmatt_file['att']\n",
    "the_mat_file['att']"
   ]
  },
  {
   "cell_type": "code",
   "execution_count": 8,
   "id": "ac1fa7d1",
   "metadata": {},
   "outputs": [],
   "source": [
    "scipy.io.savemat('binaryAtt_edited.mat', the_mat_file)"
   ]
  },
  {
   "cell_type": "code",
   "execution_count": null,
   "id": "a1750fc6",
   "metadata": {},
   "outputs": [],
   "source": []
  }
 ],
 "metadata": {
  "kernelspec": {
   "display_name": "piptext",
   "language": "python",
   "name": "piptext"
  },
  "language_info": {
   "codemirror_mode": {
    "name": "ipython",
    "version": 3
   },
   "file_extension": ".py",
   "mimetype": "text/x-python",
   "name": "python",
   "nbconvert_exporter": "python",
   "pygments_lexer": "ipython3",
   "version": "3.8.13"
  }
 },
 "nbformat": 4,
 "nbformat_minor": 5
}
