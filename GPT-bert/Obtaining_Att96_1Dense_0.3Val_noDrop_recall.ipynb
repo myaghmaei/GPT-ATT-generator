{
 "cells": [
  {
   "cell_type": "code",
   "execution_count": 1,
   "id": "f40a9aa2",
   "metadata": {},
   "outputs": [
    {
     "name": "stdout",
     "output_type": "stream",
     "text": [
      "Num GPUs Available:  1\n"
     ]
    }
   ],
   "source": [
    "import os\n",
    "import shutil\n",
    "\n",
    "import tensorflow as tf\n",
    "import tensorflow_hub as hub\n",
    "import tensorflow_text as text\n",
    "from official.nlp import optimization  # to create AdamW optimizer\n",
    "from keras.callbacks import ModelCheckpoint\n",
    "from keras.models import load_model\n",
    "\n",
    "import matplotlib.pyplot as plt\n",
    "import scipy.io\n",
    "from sklearn.cluster import KMeans\n",
    "from sklearn.preprocessing import MinMaxScaler\n",
    "\n",
    "from sklearn.manifold import TSNE\n",
    "import seaborn as sns\n",
    "\n",
    "import pandas as pd\n",
    "import xlsxwriter\n",
    "import numpy as np\n",
    "\n",
    "tf.get_logger().setLevel('ERROR')\n",
    "\n",
    "print(\"Num GPUs Available: \", len(tf.config.list_physical_devices('GPU')))"
   ]
  },
  {
   "cell_type": "code",
   "execution_count": 2,
   "id": "f51fe7c4",
   "metadata": {},
   "outputs": [
    {
     "name": "stdout",
     "output_type": "stream",
     "text": [
      "Model: \"model\"\n",
      "__________________________________________________________________________________________________\n",
      " Layer (type)                   Output Shape         Param #     Connected to                     \n",
      "==================================================================================================\n",
      " text (InputLayer)              [(None,)]            0           []                               \n",
      "                                                                                                  \n",
      " preprocessing (KerasLayer)     {'input_type_ids':   0           ['text[0][0]']                   \n",
      "                                (None, 128),                                                      \n",
      "                                 'input_word_ids':                                                \n",
      "                                (None, 128),                                                      \n",
      "                                 'input_mask': (Non                                               \n",
      "                                e, 128)}                                                          \n",
      "                                                                                                  \n",
      " BERT_encoder (KerasLayer)      {'pooled_output': (  109482241   ['preprocessing[0][0]',          \n",
      "                                None, 768),                       'preprocessing[0][1]',          \n",
      "                                 'encoder_outputs':               'preprocessing[0][2]']          \n",
      "                                 [(None, 128, 768),                                               \n",
      "                                 (None, 128, 768),                                                \n",
      "                                 (None, 128, 768),                                                \n",
      "                                 (None, 128, 768),                                                \n",
      "                                 (None, 128, 768),                                                \n",
      "                                 (None, 128, 768),                                                \n",
      "                                 (None, 128, 768),                                                \n",
      "                                 (None, 128, 768),                                                \n",
      "                                 (None, 128, 768),                                                \n",
      "                                 (None, 128, 768),                                                \n",
      "                                 (None, 128, 768),                                                \n",
      "                                 (None, 128, 768)],                                               \n",
      "                                 'sequence_output':                                               \n",
      "                                 (None, 128, 768),                                                \n",
      "                                 'default': (None,                                                \n",
      "                                768)}                                                             \n",
      "                                                                                                  \n",
      " dense2 (Dense)                 (None, 96)           73824       ['BERT_encoder[0][13]']          \n",
      "                                                                                                  \n",
      "==================================================================================================\n",
      "Total params: 109,556,065\n",
      "Trainable params: 109,556,064\n",
      "Non-trainable params: 1\n",
      "__________________________________________________________________________________________________\n"
     ]
    }
   ],
   "source": [
    "loaded_model = tf.keras.models.load_model('models/96/96_1Dense_0.3Val_noDrop_recall_model-improvement-80-0.93')\n",
    "\n",
    "intermediate_layer_model = tf.keras.Model(inputs=loaded_model.get_layer(\"text\").input,\n",
    "                                       outputs=loaded_model.get_layer(\"dense2\").output)\n",
    "\n",
    "\n",
    "intermediate_layer_model.summary()"
   ]
  },
  {
   "cell_type": "code",
   "execution_count": 3,
   "id": "fcff7845",
   "metadata": {},
   "outputs": [],
   "source": [
    "data = pd.read_csv(r'C:\\Users\\MOHSEN-ASUS\\JupyterProjects\\GPT-bert\\AWAGPT.csv')"
   ]
  },
  {
   "cell_type": "code",
   "execution_count": 4,
   "id": "064b19c6",
   "metadata": {},
   "outputs": [
    {
     "data": {
      "text/plain": [
       "array(['Antelope', 'grizzly+bear', 'killer+whale', 'beaver', 'dalmatian',\n",
       "       'persian+cat', 'horse', 'german+shepherd', 'blue+whale',\n",
       "       'siamese+cat', 'skunk', 'mole', 'tiger', 'hippopotamus', 'leopard',\n",
       "       'moose', 'spider+monkey', 'humpback+whale', 'elephant', 'gorilla',\n",
       "       'ox', 'fox', 'sheep', 'seal', 'chimpanzee', 'hamster', 'squirrel',\n",
       "       'rhinoceros', 'rabbit', 'bat', 'giraffe', 'wolf', 'chihuahua',\n",
       "       'rat', 'weasel', 'otter', 'buffalo', 'zebra', 'giant+panda',\n",
       "       'deer', 'bobcat', 'pig', 'lion', 'mouse', 'polar+bear', 'collie',\n",
       "       'Walrus', 'raccoon', 'cow', 'dolphin'], dtype=object)"
      ]
     },
     "execution_count": 4,
     "metadata": {},
     "output_type": "execute_result"
    }
   ],
   "source": [
    "class_names = pd.read_csv(r'C:\\Users\\MOHSEN-ASUS\\JupyterProjects\\GPT-bert\\bert_data_withoutClassWord.csv')\n",
    "class_names['class'].unique()"
   ]
  },
  {
   "cell_type": "code",
   "execution_count": 5,
   "id": "faf7c564",
   "metadata": {},
   "outputs": [],
   "source": [
    "embbeding_size = 96"
   ]
  },
  {
   "cell_type": "code",
   "execution_count": 6,
   "id": "fa701948",
   "metadata": {},
   "outputs": [
    {
     "data": {
      "text/plain": [
       "array(['Antelope', 'beaver', 'dalmatian', 'horse', 'skunk', 'mole',\n",
       "       'tiger', 'hippopotamus', 'leopard', 'moose', 'elephant', 'gorilla',\n",
       "       'ox', 'fox', 'sheep', 'seal', 'chimpanzee', 'hamster', 'squirrel',\n",
       "       'rhinoceros', 'rabbit', 'bat', 'giraffe', 'wolf', 'chihuahua',\n",
       "       'rat', 'weasel', 'otter', 'buffalo', 'zebra', 'deer', 'bobcat',\n",
       "       'pig', 'lion', 'mouse', 'collie', 'Walrus', 'raccoon', 'cow',\n",
       "       'dolphin', 'grizzly+bear', 'killer+whale', 'persian+cat',\n",
       "       'german+shepherd', 'blue+whale', 'siamese+cat', 'spider+monkey',\n",
       "       'humpback+whale', 'giant+panda', 'polar+bear'], dtype=object)"
      ]
     },
     "execution_count": 6,
     "metadata": {},
     "output_type": "execute_result"
    }
   ],
   "source": [
    "data[\"class\"].unique()"
   ]
  },
  {
   "cell_type": "code",
   "execution_count": 7,
   "id": "362134ae",
   "metadata": {},
   "outputs": [],
   "source": [
    "def get_BERTembbedings(text, model):\n",
    "    \n",
    "    text = [text]\n",
    "    text_tensor = tf.convert_to_tensor(text, dtype=tf.string)\n",
    "    model_output = model(text_tensor)\n",
    "    \n",
    "    return model_output"
   ]
  },
  {
   "cell_type": "code",
   "execution_count": 8,
   "id": "23e8a96d",
   "metadata": {},
   "outputs": [],
   "source": [
    "def embbedings_labels_generator(dataset, selected_classes, BERT, embbeding_size=embbeding_size):\n",
    "    \n",
    "    # an array for labels\n",
    "    labels = np.array([])\n",
    "    \n",
    "    # in the line below i am creating a zero array to append my embbedings to it (i dont know how to do it without creating a zero)\n",
    "    class_texts_embbedings = np.zeros([1, embbeding_size])\n",
    "    \n",
    "    for i in selected_classes:\n",
    "        \n",
    "        # getting all of the texts belong to class i\n",
    "        class_texts = dataset[dataset[\"class\"] == i]\n",
    "        class_texts = class_texts[\"text\"]\n",
    "        \n",
    "        for j in class_texts:\n",
    "            \n",
    "            # obtaining embbedings of class i texts using \"get_BERTembbedings\" and appending them to an array\n",
    "            class_texts_embbedings = np.append(class_texts_embbedings, get_BERTembbedings(j, BERT), axis=0)\n",
    "            \n",
    "            # putting labels in labels array\n",
    "            labels = np.append(labels, i)  \n",
    "            \n",
    "        \n",
    "    # deleting the zero array from the first row\n",
    "    class_texts_embbedings = np.delete(class_texts_embbedings, 0, 0)\n",
    "    \n",
    "    return class_texts_embbedings, labels"
   ]
  },
  {
   "cell_type": "code",
   "execution_count": 9,
   "id": "ad79c617",
   "metadata": {},
   "outputs": [],
   "source": [
    "class_name = [\"Antelope\"]\n",
    "\n",
    "my_embbedings, my_labels = embbedings_labels_generator(data, class_name, intermediate_layer_model)"
   ]
  },
  {
   "cell_type": "code",
   "execution_count": 10,
   "id": "218debec",
   "metadata": {},
   "outputs": [
    {
     "data": {
      "text/plain": [
       "array([0, 0, 0, 0, 0, 0, 0, 0, 0, 0, 0, 0, 0, 0, 1, 2, 0, 0, 0, 0])"
      ]
     },
     "execution_count": 10,
     "metadata": {},
     "output_type": "execute_result"
    }
   ],
   "source": [
    "km = KMeans(n_clusters=3)\n",
    "cluster_prediction = km.fit_predict(my_embbedings)\n",
    "cluster_prediction"
   ]
  },
  {
   "cell_type": "code",
   "execution_count": 11,
   "id": "5380ee9d",
   "metadata": {},
   "outputs": [],
   "source": [
    "def att_generator(embbedings, num_clusters=3):\n",
    "    \n",
    "    #clustering embbedings\n",
    "    km = KMeans(n_clusters=num_clusters)\n",
    "    cluster_prediction = km.fit_predict(my_embbedings)\n",
    "    \n",
    "    #finding the dominant cluster\n",
    "    counts = np.bincount(cluster_prediction)\n",
    "    dominant_cluster = np.argmax(counts)\n",
    "    \n",
    "    #convert to dataframe for ease of use\n",
    "    df = pd.DataFrame(embbedings)\n",
    "    \n",
    "    #include the cluster labels\n",
    "    df[\"clusters\"] = cluster_prediction\n",
    "    \n",
    "    #choosing the dominant cluster ebbedings & calculate the mean of them to produce the attribute\n",
    "    dominant_embbedings = df[df[\"clusters\"] == dominant_cluster]\n",
    "    dominant_embbedings = dominant_embbedings.drop([\"clusters\"], axis=1)\n",
    "    dominant_embbedings_nparray = dominant_embbedings.to_numpy()\n",
    "    the_attribute = np.mean(dominant_embbedings_nparray, axis=0)\n",
    "    \n",
    "    return the_attribute"
   ]
  },
  {
   "cell_type": "code",
   "execution_count": 12,
   "id": "ec2692d7",
   "metadata": {},
   "outputs": [],
   "source": [
    "def NormalizeData(data):\n",
    "    return (data - np.min(data)) / (np.max(data) - np.min(data))"
   ]
  },
  {
   "cell_type": "code",
   "execution_count": 13,
   "id": "9e6f9bef",
   "metadata": {},
   "outputs": [],
   "source": [
    "all_classes = class_names['class'].unique()\n",
    "attribute_array = np.zeros([1, embbeding_size])\n",
    "\n",
    "for i in all_classes:\n",
    "    \n",
    "    my_embbedings, my_labels = embbedings_labels_generator(data, [i], intermediate_layer_model)\n",
    "    myatt = att_generator(my_embbedings)\n",
    "    myatt = myatt.reshape(1, embbeding_size)\n",
    "    \n",
    "    attribute_array = np.append(attribute_array, myatt, axis=0)\n",
    "\n",
    "attribute_array = np.delete(attribute_array, 0, 0)\n",
    "attribute_array = attribute_array.transpose()"
   ]
  },
  {
   "cell_type": "code",
   "execution_count": 14,
   "id": "30a44320",
   "metadata": {},
   "outputs": [
    {
     "name": "stdout",
     "output_type": "stream",
     "text": [
      "(96, 50)\n"
     ]
    }
   ],
   "source": [
    "the_mat_file = scipy.io.loadmat('att_splits_AWA2.mat')\n",
    "the_mat_file[\"att\"] = attribute_array\n",
    "\n",
    "print(the_mat_file[\"att\"].shape)"
   ]
  },
  {
   "cell_type": "code",
   "execution_count": 15,
   "id": "9b62a445",
   "metadata": {},
   "outputs": [],
   "source": [
    "scipy.io.savemat('myatt_splits96_1Dense_0.3Val_noDrop_recall.mat', the_mat_file)"
   ]
  },
  {
   "cell_type": "markdown",
   "id": "d32d87c6",
   "metadata": {},
   "source": [
    "# normalizing atts (0, 1)"
   ]
  },
  {
   "cell_type": "code",
   "execution_count": 16,
   "id": "0c52a39b",
   "metadata": {},
   "outputs": [],
   "source": [
    "the_mat_file = scipy.io.loadmat('myatt_splits96_1Dense_0.3Val_noDrop_recall.mat')\n",
    "the_mat_file[\"att\"] = NormalizeData(the_mat_file[\"att\"])\n",
    "\n",
    "scipy.io.savemat('myatt_splits96norm_1Dense_0.3Val_noDrop_recall.mat', the_mat_file)"
   ]
  },
  {
   "cell_type": "markdown",
   "id": "97912292",
   "metadata": {},
   "source": [
    "# normalizing atts (custom)"
   ]
  },
  {
   "cell_type": "code",
   "execution_count": 9,
   "id": "7df08f8a",
   "metadata": {},
   "outputs": [],
   "source": [
    "# demonstrate data normalization with sklearn\n",
    "from sklearn.preprocessing import MinMaxScaler\n",
    "# load data\n",
    "the_mat_file = scipy.io.loadmat('myatt_splits96norm_1Dense_0.3Val_noDrop_AWA2.mat')\n",
    "data = the_mat_file[\"att\"]\n",
    "# create scaler\n",
    "scaler = MinMaxScaler(feature_range=(-0.5, 0.5))\n",
    "# fit scaler on data\n",
    "scaler.fit(data)\n",
    "# apply transform\n",
    "normalized = scaler.transform(data)\n",
    "the_mat_file[\"att\"] = normalized\n",
    "\n",
    "scipy.io.savemat('myatt_splits96norm(-0.5, 0.5)_1Dense_0.3Val_noDrop_AWA2.mat', the_mat_file)"
   ]
  },
  {
   "cell_type": "markdown",
   "id": "fdaa38aa",
   "metadata": {},
   "source": [
    "# Histogram"
   ]
  },
  {
   "cell_type": "code",
   "execution_count": 17,
   "id": "7fbe5c92",
   "metadata": {},
   "outputs": [
    {
     "name": "stdout",
     "output_type": "stream",
     "text": [
      "-0.0037535816785525078\n",
      "0.35542511027525175\n"
     ]
    },
    {
     "data": {
      "image/png": "[encoded data removed]",
      "text/plain": [
       "<Figure size 432x288 with 1 Axes>"
      ]
     },
     "metadata": {
      "needs_background": "light"
     },
     "output_type": "display_data"
    }
   ],
   "source": [
    "org_att = scipy.io.loadmat('att_splits_AWA2.mat')\n",
    "org_att.keys()\n",
    "org_att_flat = org_att['att'].flatten()\n",
    "print(np.min(org_att_flat))\n",
    "print(np.max(org_att_flat))\n",
    "plt.hist(org_att_flat, bins = 50)\n",
    "plt.title(\"org 85\")\n",
    "plt.show()"
   ]
  },
  {
   "cell_type": "code",
   "execution_count": 18,
   "id": "5dc60eb7",
   "metadata": {},
   "outputs": [
    {
     "name": "stdout",
     "output_type": "stream",
     "text": [
      "0.0\n",
      "1.0\n"
     ]
    },
    {
     "data": {
      "image/png": "[encoded data removed]",
      "text/plain": [
       "<Figure size 432x288 with 1 Axes>"
      ]
     },
     "metadata": {
      "needs_background": "light"
     },
     "output_type": "display_data"
    }
   ],
   "source": [
    "org_att = scipy.io.loadmat('myatt_splits192norm_1Dense_0.3Val_AWA2.mat')\n",
    "org_att.keys()\n",
    "org_att_flat = org_att['att'].flatten()\n",
    "print(np.min(org_att_flat))\n",
    "print(np.max(org_att_flat))\n",
    "plt.hist(org_att_flat, bins = 50)\n",
    "plt.title(\"192 1D Val=0.3\")\n",
    "plt.show()"
   ]
  },
  {
   "cell_type": "code",
   "execution_count": 16,
   "id": "2d06ad20",
   "metadata": {},
   "outputs": [
    {
     "name": "stdout",
     "output_type": "stream",
     "text": [
      "0.0\n",
      "1.0\n"
     ]
    },
    {
     "data": {
      "image/png": "[encoded data removed]",
      "text/plain": [
       "<Figure size 432x288 with 1 Axes>"
      ]
     },
     "metadata": {
      "needs_background": "light"
     },
     "output_type": "display_data"
    }
   ],
   "source": [
    "org_att = scipy.io.loadmat('myatt_splits192norm_1Dense_0.3Val_noDrop_AWA2.mat')\n",
    "org_att.keys()\n",
    "org_att_flat = org_att['att'].flatten()\n",
    "print(np.min(org_att_flat))\n",
    "print(np.max(org_att_flat))\n",
    "plt.hist(org_att_flat, bins = 50)\n",
    "plt.title(\"192 1D Val=0.3 noDrop\")\n",
    "plt.show()"
   ]
  },
  {
   "cell_type": "code",
   "execution_count": 16,
   "id": "217a44ff",
   "metadata": {},
   "outputs": [
    {
     "name": "stdout",
     "output_type": "stream",
     "text": [
      "0.0\n",
      "1.0\n"
     ]
    },
    {
     "data": {
      "image/png": "[encoded data removed]",
      "text/plain": [
       "<Figure size 432x288 with 1 Axes>"
      ]
     },
     "metadata": {
      "needs_background": "light"
     },
     "output_type": "display_data"
    }
   ],
   "source": [
    "org_att = scipy.io.loadmat('myatt_splits192norm_1Dense_0.2Val_noDrop_AWA2.mat')\n",
    "org_att.keys()\n",
    "org_att_flat = org_att['att'].flatten()\n",
    "print(np.min(org_att_flat))\n",
    "print(np.max(org_att_flat))\n",
    "plt.hist(org_att_flat, bins = 50)\n",
    "plt.title(\"192 1D Val=0.2 noDrop\")\n",
    "plt.show()"
   ]
  },
  {
   "cell_type": "code",
   "execution_count": 16,
   "id": "44c7c824",
   "metadata": {},
   "outputs": [
    {
     "name": "stdout",
     "output_type": "stream",
     "text": [
      "0.0\n",
      "1.0\n"
     ]
    },
    {
     "data": {
      "image/png": "[encoded data removed]",
      "text/plain": [
       "<Figure size 432x288 with 1 Axes>"
      ]
     },
     "metadata": {
      "needs_background": "light"
     },
     "output_type": "display_data"
    }
   ],
   "source": [
    "org_att = scipy.io.loadmat('myatt_splits192norm_2Dense_0.2Val_noDrop_AWA2.mat')\n",
    "org_att.keys()\n",
    "org_att_flat = org_att['att'].flatten()\n",
    "print(np.min(org_att_flat))\n",
    "print(np.max(org_att_flat))\n",
    "plt.hist(org_att_flat, bins = 50)\n",
    "plt.title(\"192 2D Val=0.2 noDrop\")\n",
    "plt.show()"
   ]
  },
  {
   "cell_type": "code",
   "execution_count": 16,
   "id": "ecebaef7",
   "metadata": {},
   "outputs": [
    {
     "name": "stdout",
     "output_type": "stream",
     "text": [
      "0.0\n",
      "1.0\n"
     ]
    },
    {
     "data": {
      "image/png": "[encoded data removed]",
      "text/plain": [
       "<Figure size 432x288 with 1 Axes>"
      ]
     },
     "metadata": {
      "needs_background": "light"
     },
     "output_type": "display_data"
    }
   ],
   "source": [
    "org_att = scipy.io.loadmat('myatt_splits96norm_2Dense_0.2Val_noDrop_AWA2.mat')\n",
    "org_att.keys()\n",
    "org_att_flat = org_att['att'].flatten()\n",
    "print(np.min(org_att_flat))\n",
    "print(np.max(org_att_flat))\n",
    "plt.hist(org_att_flat, bins = 50)\n",
    "plt.title(\"96 2D Val=0.2 noDrop\")\n",
    "plt.show()"
   ]
  },
  {
   "cell_type": "code",
   "execution_count": 16,
   "id": "f5362609",
   "metadata": {},
   "outputs": [
    {
     "name": "stdout",
     "output_type": "stream",
     "text": [
      "0.0\n",
      "1.0\n"
     ]
    },
    {
     "data": {
      "image/png": "[encoded data removed]",
      "text/plain": [
       "<Figure size 432x288 with 1 Axes>"
      ]
     },
     "metadata": {
      "needs_background": "light"
     },
     "output_type": "display_data"
    }
   ],
   "source": [
    "org_att = scipy.io.loadmat('myatt_splits96norm_1Dense_0.2Val_noDrop_AWA2.mat')\n",
    "org_att.keys()\n",
    "org_att_flat = org_att['att'].flatten()\n",
    "print(np.min(org_att_flat))\n",
    "print(np.max(org_att_flat))\n",
    "plt.hist(org_att_flat, bins = 50)\n",
    "plt.title(\"96 1D Val=0.2 noDrop\")\n",
    "plt.show()"
   ]
  },
  {
   "cell_type": "code",
   "execution_count": 16,
   "id": "1d3ea47e",
   "metadata": {},
   "outputs": [
    {
     "name": "stdout",
     "output_type": "stream",
     "text": [
      "0.0\n",
      "1.0\n"
     ]
    },
    {
     "data": {
      "image/png": "[encoded data removed]",
      "text/plain": [
       "<Figure size 432x288 with 1 Axes>"
      ]
     },
     "metadata": {
      "needs_background": "light"
     },
     "output_type": "display_data"
    }
   ],
   "source": [
    "org_att = scipy.io.loadmat('myatt_splits96norm_1Dense_0.3Val_noDrop_AWA2.mat')\n",
    "org_att.keys()\n",
    "org_att_flat = org_att['att'].flatten()\n",
    "print(np.min(org_att_flat))\n",
    "print(np.max(org_att_flat))\n",
    "plt.hist(org_att_flat, bins = 50)\n",
    "plt.title(\"96 1D Val=0.3 noDrop\")\n",
    "plt.show()"
   ]
  },
  {
   "cell_type": "code",
   "execution_count": 16,
   "id": "b4a3bedd",
   "metadata": {},
   "outputs": [
    {
     "name": "stdout",
     "output_type": "stream",
     "text": [
      "0.0\n",
      "1.0\n"
     ]
    },
    {
     "data": {
      "image/png": "[encoded data removed]",
      "text/plain": [
       "<Figure size 432x288 with 1 Axes>"
      ]
     },
     "metadata": {
      "needs_background": "light"
     },
     "output_type": "display_data"
    }
   ],
   "source": [
    "org_att = scipy.io.loadmat('myatt_splits96norm_1Dense_0.3Val_noDrop_ex2_AWA2.mat')\n",
    "org_att.keys()\n",
    "org_att_flat = org_att['att'].flatten()\n",
    "print(np.min(org_att_flat))\n",
    "print(np.max(org_att_flat))\n",
    "plt.hist(org_att_flat, bins = 50)\n",
    "plt.title(\"96 1D Val=0.3 noDrop ex2\")\n",
    "plt.show()"
   ]
  },
  {
   "cell_type": "code",
   "execution_count": 32,
   "id": "4e218bad",
   "metadata": {},
   "outputs": [
    {
     "name": "stdout",
     "output_type": "stream",
     "text": [
      "0.0\n",
      "1.0\n"
     ]
    },
    {
     "data": {
      "image/png": "[encoded data removed]",
      "text/plain": [
       "<Figure size 432x288 with 1 Axes>"
      ]
     },
     "metadata": {
      "needs_background": "light"
     },
     "output_type": "display_data"
    }
   ],
   "source": [
    "org_att = scipy.io.loadmat('myatt_splits96norm_1Dense_0.3Val_noDrop_ex3_AWA2.mat')\n",
    "org_att.keys()\n",
    "org_att_flat = org_att['att'].flatten()\n",
    "print(np.min(org_att_flat))\n",
    "print(np.max(org_att_flat))\n",
    "plt.hist(org_att_flat, bins = 50)\n",
    "plt.title(\"96 1D Val=0.3 noDrop ex3\")\n",
    "plt.show()"
   ]
  },
  {
   "cell_type": "code",
   "execution_count": 63,
   "id": "af111dd2",
   "metadata": {},
   "outputs": [
    {
     "name": "stdout",
     "output_type": "stream",
     "text": [
      "0.0\n",
      "1.0\n"
     ]
    },
    {
     "data": {
      "image/png": "[encoded data removed]",
      "text/plain": [
       "<Figure size 432x288 with 1 Axes>"
      ]
     },
     "metadata": {
      "needs_background": "light"
     },
     "output_type": "display_data"
    }
   ],
   "source": [
    "org_att = scipy.io.loadmat('myatt_splits96norm_1Dense_0.3Val_noDrop_ex3(11)_AWA2.mat')\n",
    "org_att.keys()\n",
    "org_att_flat = org_att['att'].flatten()\n",
    "print(np.min(org_att_flat))\n",
    "print(np.max(org_att_flat))\n",
    "plt.hist(org_att_flat, bins = 50)\n",
    "plt.title(\"96 1D Val=0.3 noDrop ex3(17)\")\n",
    "plt.show()"
   ]
  },
  {
   "cell_type": "code",
   "execution_count": 18,
   "id": "165e91e6",
   "metadata": {},
   "outputs": [
    {
     "name": "stdout",
     "output_type": "stream",
     "text": [
      "0.0\n",
      "1.0\n"
     ]
    },
    {
     "data": {
      "image/png": "[encoded data removed]",
      "text/plain": [
       "<Figure size 432x288 with 1 Axes>"
      ]
     },
     "metadata": {
      "needs_background": "light"
     },
     "output_type": "display_data"
    }
   ],
   "source": [
    "org_att = scipy.io.loadmat('myatt_splits85norm_1Dense_0.25Val_noDrop.mat')\n",
    "org_att.keys()\n",
    "org_att_flat = org_att['att'].flatten()\n",
    "print(np.min(org_att_flat))\n",
    "print(np.max(org_att_flat))\n",
    "plt.hist(org_att_flat, bins = 50)\n",
    "plt.title(\"85 1D Val=0.25 noDrop\")\n",
    "plt.show()"
   ]
  },
  {
   "cell_type": "code",
   "execution_count": 16,
   "id": "394f859c",
   "metadata": {},
   "outputs": [
    {
     "name": "stdout",
     "output_type": "stream",
     "text": [
      "0.0\n",
      "1.0\n"
     ]
    },
    {
     "data": {
      "image/png": "[encoded data removed]",
      "text/plain": [
       "<Figure size 432x288 with 1 Axes>"
      ]
     },
     "metadata": {
      "needs_background": "light"
     },
     "output_type": "display_data"
    }
   ],
   "source": [
    "org_att = scipy.io.loadmat('myatt_splits85norm_1Dense_0.3Val_noDrop.mat')\n",
    "org_att.keys()\n",
    "org_att_flat = org_att['att'].flatten()\n",
    "print(np.min(org_att_flat))\n",
    "print(np.max(org_att_flat))\n",
    "plt.hist(org_att_flat, bins = 50)\n",
    "plt.title(\"85 1D Val=0.3 noDrop\")\n",
    "plt.show()"
   ]
  },
  {
   "cell_type": "code",
   "execution_count": 16,
   "id": "78db2d3f",
   "metadata": {},
   "outputs": [
    {
     "name": "stdout",
     "output_type": "stream",
     "text": [
      "0.0\n",
      "1.0\n"
     ]
    },
    {
     "data": {
      "image/png": "[encoded data removed]",
      "text/plain": [
       "<Figure size 432x288 with 1 Axes>"
      ]
     },
     "metadata": {
      "needs_background": "light"
     },
     "output_type": "display_data"
    }
   ],
   "source": [
    "org_att = scipy.io.loadmat('myatt_splits85norm_1Dense_0.5Val_noDrop.mat')\n",
    "org_att.keys()\n",
    "org_att_flat = org_att['att'].flatten()\n",
    "print(np.min(org_att_flat))\n",
    "print(np.max(org_att_flat))\n",
    "plt.hist(org_att_flat, bins = 50)\n",
    "plt.title(\"85 1D Val=0.5 noDrop\")\n",
    "plt.show()"
   ]
  },
  {
   "cell_type": "code",
   "execution_count": 16,
   "id": "f3e30b71",
   "metadata": {},
   "outputs": [
    {
     "name": "stdout",
     "output_type": "stream",
     "text": [
      "0.0\n",
      "1.0\n"
     ]
    },
    {
     "data": {
      "image/png": "[encoded data removed]",
      "text/plain": [
       "<Figure size 432x288 with 1 Axes>"
      ]
     },
     "metadata": {
      "needs_background": "light"
     },
     "output_type": "display_data"
    }
   ],
   "source": [
    "org_att = scipy.io.loadmat('myatt_splits85norm_1Dense_0.1Val_noDrop.mat')\n",
    "org_att.keys()\n",
    "org_att_flat = org_att['att'].flatten()\n",
    "print(np.min(org_att_flat))\n",
    "print(np.max(org_att_flat))\n",
    "plt.hist(org_att_flat, bins = 50)\n",
    "plt.title(\"85 1D Val=0.1 noDrop\")\n",
    "plt.show()"
   ]
  },
  {
   "cell_type": "code",
   "execution_count": 16,
   "id": "c7ceda39",
   "metadata": {},
   "outputs": [
    {
     "name": "stdout",
     "output_type": "stream",
     "text": [
      "0.0\n",
      "1.0\n"
     ]
    },
    {
     "data": {
      "image/png": "[encoded data removed]",
      "text/plain": [
       "<Figure size 432x288 with 1 Axes>"
      ]
     },
     "metadata": {
      "needs_background": "light"
     },
     "output_type": "display_data"
    }
   ],
   "source": [
    "org_att = scipy.io.loadmat('myatt_splits115norm_1Dense_0.1Val_noDrop.mat')\n",
    "org_att.keys()\n",
    "org_att_flat = org_att['att'].flatten()\n",
    "print(np.min(org_att_flat))\n",
    "print(np.max(org_att_flat))\n",
    "plt.hist(org_att_flat, bins = 50)\n",
    "plt.title(\"115 1D Val=0.1 noDrop\")\n",
    "plt.show()"
   ]
  },
  {
   "cell_type": "code",
   "execution_count": 16,
   "id": "04626ee3",
   "metadata": {},
   "outputs": [
    {
     "name": "stdout",
     "output_type": "stream",
     "text": [
      "0.0\n",
      "1.0\n"
     ]
    },
    {
     "data": {
      "image/png": "[encoded data removed]",
      "text/plain": [
       "<Figure size 432x288 with 1 Axes>"
      ]
     },
     "metadata": {
      "needs_background": "light"
     },
     "output_type": "display_data"
    }
   ],
   "source": [
    "org_att = scipy.io.loadmat('myatt_splits10norm_1Dense_0.05Val_noDrop.mat')\n",
    "org_att.keys()\n",
    "org_att_flat = org_att['att'].flatten()\n",
    "print(np.min(org_att_flat))\n",
    "print(np.max(org_att_flat))\n",
    "plt.hist(org_att_flat, bins = 50)\n",
    "plt.title(\"10 1D Val=0.05 noDrop\")\n",
    "plt.show()"
   ]
  },
  {
   "cell_type": "markdown",
   "id": "ef74a695",
   "metadata": {},
   "source": [
    "# normalizing altts (custom)"
   ]
  },
  {
   "cell_type": "code",
   "execution_count": null,
   "id": "5fe9c480",
   "metadata": {},
   "outputs": [],
   "source": []
  },
  {
   "cell_type": "markdown",
   "id": "bd79d867",
   "metadata": {},
   "source": [
    "# Comparing myatt with orgatt on TSNE"
   ]
  },
  {
   "cell_type": "code",
   "execution_count": 15,
   "id": "549ab493",
   "metadata": {},
   "outputs": [],
   "source": [
    "def TSNE_ploting(x, y, file_png):\n",
    "    \n",
    "    class_count = len(np.unique(y))\n",
    "    \n",
    "    tsne = TSNE(n_components=2, verbose=1, random_state=123)\n",
    "    z = tsne.fit_transform(x)\n",
    "    \n",
    "    df = pd.DataFrame()\n",
    "    df[\"y\"] = y\n",
    "    df[\"comp-1\"] = z[:,0]\n",
    "    df[\"comp-2\"] = z[:,1]\n",
    "\n",
    "    sns.scatterplot(x=\"comp-1\", y=\"comp-2\", hue=df.y.tolist(),\n",
    "                    palette=sns.color_palette(\"hls\", class_count),\n",
    "                    data=df).set(title=\"mydata T-SNE projection\")\n",
    "    #plt.legend(bbox_to_anchor=(1.02, 1), loc='upper left', borderaxespad=0)\n",
    "    plt.legend(fontsize='5', title_fontsize='14')\n",
    "\n",
    "    plt.savefig(file_png, dpi=300)\n",
    "    plt.close()"
   ]
  },
  {
   "cell_type": "code",
   "execution_count": 16,
   "id": "473f0184",
   "metadata": {},
   "outputs": [
    {
     "name": "stdout",
     "output_type": "stream",
     "text": [
      "(85, 50)\n",
      "(192, 50)\n"
     ]
    }
   ],
   "source": [
    "the_mat_file = scipy.io.loadmat('att_splits_AWA1.mat')\n",
    "\n",
    "print(the_mat_file[\"att\"].shape)\n",
    "print(attribute_array.shape)"
   ]
  },
  {
   "cell_type": "code",
   "execution_count": 20,
   "id": "41d11fbd",
   "metadata": {},
   "outputs": [
    {
     "data": {
      "text/plain": [
       "array([[1.40729118, 0.        , 2.34951765, ..., 0.00874811, 0.97208293,\n",
       "        2.23851849],\n",
       "       [2.04070048, 1.24076981, 1.9815244 , ..., 3.50752952, 1.34396204,\n",
       "        2.06051731],\n",
       "       [0.05638115, 1.45450144, 0.        , ..., 1.04308674, 3.03288686,\n",
       "        0.00797506],\n",
       "       ...,\n",
       "       [0.59692127, 0.        , 2.38340484, ..., 0.        , 0.        ,\n",
       "        0.00513902],\n",
       "       [0.12023851, 2.20131117, 1.49932921, ..., 0.50277754, 3.73165469,\n",
       "        1.42954434],\n",
       "       [0.29258359, 0.74250461, 0.        , ..., 0.41392834, 1.23477551,\n",
       "        0.14461981]])"
      ]
     },
     "execution_count": 20,
     "metadata": {},
     "output_type": "execute_result"
    }
   ],
   "source": [
    "attribute_array"
   ]
  },
  {
   "cell_type": "code",
   "execution_count": 17,
   "id": "a01d2c83",
   "metadata": {},
   "outputs": [
    {
     "data": {
      "text/plain": [
       "(50,)"
      ]
     },
     "execution_count": 17,
     "metadata": {},
     "output_type": "execute_result"
    }
   ],
   "source": [
    "our_y = np.zeros(attribute_array.shape[1])\n",
    "our_y.shape"
   ]
  },
  {
   "cell_type": "code",
   "execution_count": 18,
   "id": "4584eb59",
   "metadata": {},
   "outputs": [
    {
     "name": "stderr",
     "output_type": "stream",
     "text": [
      "C:\\Users\\MOHSEN-ASUS\\.conda\\envs\\piptext\\lib\\site-packages\\sklearn\\manifold\\_t_sne.py:780: FutureWarning: The default initialization in TSNE will change from 'random' to 'pca' in 1.2.\n",
      "  warnings.warn(\n",
      "C:\\Users\\MOHSEN-ASUS\\.conda\\envs\\piptext\\lib\\site-packages\\sklearn\\manifold\\_t_sne.py:790: FutureWarning: The default learning rate in TSNE will change from 200.0 to 'auto' in 1.2.\n",
      "  warnings.warn(\n"
     ]
    },
    {
     "name": "stdout",
     "output_type": "stream",
     "text": [
      "[t-SNE] Computing 49 nearest neighbors...\n",
      "[t-SNE] Indexed 50 samples in 0.000s...\n",
      "[t-SNE] Computed neighbors for 50 samples in 0.002s...\n",
      "[t-SNE] Computed conditional probabilities for sample 50 / 50\n",
      "[t-SNE] Mean sigma: 10.620804\n",
      "[t-SNE] KL divergence after 250 iterations with early exaggeration: 49.278179\n",
      "[t-SNE] KL divergence after 1000 iterations: 0.421785\n"
     ]
    }
   ],
   "source": [
    "TSNE_ploting(attribute_array.transpose(), our_y, \"myatt.png\")"
   ]
  },
  {
   "cell_type": "code",
   "execution_count": 38,
   "id": "403abf8b",
   "metadata": {},
   "outputs": [
    {
     "name": "stderr",
     "output_type": "stream",
     "text": [
      "C:\\Users\\MOHSEN-ASUS\\.conda\\envs\\piptext\\lib\\site-packages\\sklearn\\manifold\\_t_sne.py:780: FutureWarning: The default initialization in TSNE will change from 'random' to 'pca' in 1.2.\n",
      "  warnings.warn(\n",
      "C:\\Users\\MOHSEN-ASUS\\.conda\\envs\\piptext\\lib\\site-packages\\sklearn\\manifold\\_t_sne.py:790: FutureWarning: The default learning rate in TSNE will change from 200.0 to 'auto' in 1.2.\n",
      "  warnings.warn(\n"
     ]
    },
    {
     "name": "stdout",
     "output_type": "stream",
     "text": [
      "[t-SNE] Computing 49 nearest neighbors...\n",
      "[t-SNE] Indexed 50 samples in 0.000s...\n",
      "[t-SNE] Computed neighbors for 50 samples in 0.003s...\n",
      "[t-SNE] Computed conditional probabilities for sample 50 / 50\n",
      "[t-SNE] Mean sigma: 0.505208\n",
      "[t-SNE] KL divergence after 250 iterations with early exaggeration: 51.192535\n",
      "[t-SNE] KL divergence after 1000 iterations: 0.288912\n"
     ]
    }
   ],
   "source": [
    "TSNE_ploting(the_mat_file[\"att\"].transpose(), our_y, \"orgatt.png\")"
   ]
  },
  {
   "cell_type": "code",
   "execution_count": 26,
   "id": "6f311ea8",
   "metadata": {},
   "outputs": [
    {
     "data": {
      "text/plain": [
       "range(0, 50)"
      ]
     },
     "execution_count": 26,
     "metadata": {},
     "output_type": "execute_result"
    }
   ],
   "source": [
    "range(50)"
   ]
  },
  {
   "cell_type": "code",
   "execution_count": 52,
   "id": "a6a3f162",
   "metadata": {},
   "outputs": [
    {
     "data": {
      "text/plain": [
       "dict_keys(['__header__', '__version__', '__globals__', 'allclasses_names', 'att', 'original_att', 'test_seen_loc', 'test_unseen_loc', 'train_loc', 'trainval_loc', 'val_loc'])"
      ]
     },
     "execution_count": 52,
     "metadata": {},
     "output_type": "execute_result"
    }
   ],
   "source": [
    "the_mat_file = scipy.io.loadmat('att_splits_AWA1.mat')\n",
    "\n",
    "the_mat_file.keys()\n",
    "#the_mat_file[\"att\"].shape"
   ]
  }
 ],
 "metadata": {
  "kernelspec": {
   "display_name": "piptext",
   "language": "python",
   "name": "piptext"
  },
  "language_info": {
   "codemirror_mode": {
    "name": "ipython",
    "version": 3
   },
   "file_extension": ".py",
   "mimetype": "text/x-python",
   "name": "python",
   "nbconvert_exporter": "python",
   "pygments_lexer": "ipython3",
   "version": "3.8.13"
  }
 },
 "nbformat": 4,
 "nbformat_minor": 5
}
